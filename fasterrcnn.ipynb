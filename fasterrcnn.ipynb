{
 "cells": [
  {
   "cell_type": "markdown",
   "metadata": {},
   "source": [
    "# Training"
   ]
  },
  {
   "cell_type": "markdown",
   "metadata": {},
   "source": [
    "## Importing Files"
   ]
  },
  {
   "cell_type": "code",
   "execution_count": 1,
   "metadata": {
    "ExecuteTime": {
     "end_time": "2020-06-24T19:11:56.814583Z",
     "start_time": "2020-06-24T19:11:48.727440Z"
    }
   },
   "outputs": [],
   "source": [
    "from torch.utils.data import DataLoader\n",
    "import gc\n",
    "import torch\n",
    "from tqdm.notebook import tqdm\n",
    "import math\n",
    "\n",
    "from fasterrcnn.config import config\n",
    "from augmentations.aug import get_augmentor\n",
    "from fasterrcnn.utils.data import WheatDataset, collate_fn\n",
    "from fasterrcnn.utils.training_handler import get_training_handler"
   ]
  },
  {
   "cell_type": "markdown",
   "metadata": {
    "ExecuteTime": {
     "end_time": "2020-06-23T02:08:21.174744Z",
     "start_time": "2020-06-23T02:08:14.348456Z"
    }
   },
   "source": [
    "## Data and Training Configuration Params"
   ]
  },
  {
   "cell_type": "code",
   "execution_count": 2,
   "metadata": {
    "ExecuteTime": {
     "end_time": "2020-06-24T19:11:58.302974Z",
     "start_time": "2020-06-24T19:11:58.295976Z"
    }
   },
   "outputs": [],
   "source": [
    "new_training = True"
   ]
  },
  {
   "cell_type": "code",
   "execution_count": 3,
   "metadata": {
    "ExecuteTime": {
     "end_time": "2020-06-24T19:11:59.541679Z",
     "start_time": "2020-06-24T19:11:59.021852Z"
    }
   },
   "outputs": [],
   "source": [
    "conf = config()\n",
    "augmentor = get_augmentor()\n",
    "handler = get_training_handler(conf, new=new_training, starter_dir={'date': '0624', 'version':'01'})\n",
    "\n",
    "\n",
    "WD = WheatDataset(conf, \n",
    "                  is_train=True, \n",
    "                  augmentation=True,\n",
    "                  normalize=False,\n",
    "                  augmentor=augmentor, \n",
    "                  random_seed=0)\n",
    "WD_Train_Loader = DataLoader(WD, \n",
    "                             batch_size=conf.BATCH_SIZE, \n",
    "                             shuffle=True, \n",
    "                             collate_fn=collate_fn)"
   ]
  },
  {
   "cell_type": "code",
   "execution_count": 5,
   "metadata": {
    "ExecuteTime": {
     "end_time": "2020-06-24T19:10:18.090956Z",
     "start_time": "2020-06-24T19:10:18.062965Z"
    }
   },
   "outputs": [
    {
     "data": {
      "text/plain": [
       "'saved_weights\\\\fasterrcnn'"
      ]
     },
     "execution_count": 5,
     "metadata": {},
     "output_type": "execute_result"
    }
   ],
   "source": [
    "conf.WEIGHT_PATH"
   ]
  },
  {
   "cell_type": "code",
   "execution_count": 7,
   "metadata": {
    "ExecuteTime": {
     "end_time": "2020-06-24T19:13:29.676299Z",
     "start_time": "2020-06-24T19:13:28.042666Z"
    },
    "scrolled": true
   },
   "outputs": [
    {
     "name": "stdout",
     "output_type": "stream",
     "text": [
      "model loaded\n"
     ]
    }
   ],
   "source": [
    "\n",
    "\n",
    "\n",
    "\n",
    "model = handler.get_fasterrcnn(conf.WEIGHT_PATH+'/GWD_FASTERRCNN_0623V03_EPOCH_16_CHECKPOINT_0_SCORE_0.0000_LOSS_195.5754.pth')\n",
    "_ = model.train()\n",
    "_ = model.to(conf.DEVICE)\n",
    "\n",
    "params = [p for p in model.parameters() if p.requires_grad]\n",
    "\n",
    "if new_training:\n",
    "    optimizer = torch.optim.AdamW(params, lr=0.0005, betas=(0.9, 0.999), eps=1e-08, weight_decay=0.01, amsgrad=False)\n",
    "    scheduler = torch.optim.lr_scheduler.ExponentialLR(optimizer, gamma = 0.95, last_epoch=-1)\n",
    "    \n",
    "else:\n",
    "    optimizer_states, scheduler_states = handler.load_optimizers_and_scheduler()\n",
    "    \n",
    "    optimizer = torch.optim.AdamW(params, lr=0.0007, betas=(0.9, 0.999), eps=1e-08, weight_decay=0.01, amsgrad=False)\n",
    "    optimizer.load_state_dict(optimizer_states)\n",
    "    scheduler = torch.optim.lr_scheduler.ExponentialLR(optimizer, gamma = 0.95, last_epoch=handler.last_epoch+1)\n",
    "    scheduler.load_state_dict(scheduler_states)\n",
    "#optimizer = torch.optim.SGD(params, lr=0.0007,momentum=0.9, weight_decay=0.0005)\n",
    "    \n",
    "\n"
   ]
  },
  {
   "cell_type": "markdown",
   "metadata": {},
   "source": [
    "## Training "
   ]
  },
  {
   "cell_type": "code",
   "execution_count": 8,
   "metadata": {
    "ExecuteTime": {
     "end_time": "2020-06-25T02:21:36.897385Z",
     "start_time": "2020-06-24T19:13:50.375675Z"
    },
    "scrolled": false
   },
   "outputs": [
    {
     "data": {
      "application/vnd.jupyter.widget-view+json": {
       "model_id": "fcbe0b15a9014ca2949325b47638c4cd",
       "version_major": 2,
       "version_minor": 0
      },
      "text/plain": [
       "HBox(children=(IntProgress(value=0, max=25), HTML(value='')))"
      ]
     },
     "metadata": {},
     "output_type": "display_data"
    },
    {
     "data": {
      "application/vnd.jupyter.widget-view+json": {
       "model_id": "4423eee94f59410ba9e6c29db4455ecc",
       "version_major": 2,
       "version_minor": 0
      },
      "text/plain": [
       "HBox(children=(IntProgress(value=0, max=270), HTML(value='')))"
      ]
     },
     "metadata": {},
     "output_type": "display_data"
    },
    {
     "name": "stderr",
     "output_type": "stream",
     "text": [
      "C:\\ProgramData\\Anaconda3\\lib\\site-packages\\torch\\nn\\functional.py:2854: UserWarning: The default behavior for interpolate/upsample with float scale_factor will change in 1.6.0 to align with other frameworks/libraries, and use scale_factor directly, instead of relying on the computed output size. If you wish to keep the old behavior, please set recompute_scale_factor=True. See the documentation of nn.Upsample for details. \n",
      "  warnings.warn(\"The default behavior for interpolate/upsample with float scale_factor will change \"\n",
      "..\\torch\\csrc\\utils\\python_arg_parser.cpp:756: UserWarning: This overload of nonzero is deprecated:\n",
      "\tnonzero(Tensor input, *, Tensor out)\n",
      "Consider using one of the following signatures instead:\n",
      "\tnonzero(Tensor input, *, bool as_tuple)\n"
     ]
    },
    {
     "name": "stdout",
     "output_type": "stream",
     "text": [
      "\n",
      "weights_saved...\n"
     ]
    },
    {
     "data": {
      "application/vnd.jupyter.widget-view+json": {
       "model_id": "9d99ab4b7a0f4670bf08ef25f8a19281",
       "version_major": 2,
       "version_minor": 0
      },
      "text/plain": [
       "HBox(children=(IntProgress(value=0, max=270), HTML(value='')))"
      ]
     },
     "metadata": {},
     "output_type": "display_data"
    },
    {
     "name": "stdout",
     "output_type": "stream",
     "text": [
      "\n",
      "weights_saved...\n"
     ]
    },
    {
     "data": {
      "application/vnd.jupyter.widget-view+json": {
       "model_id": "dedf744d2912441a88ac2f397191ecde",
       "version_major": 2,
       "version_minor": 0
      },
      "text/plain": [
       "HBox(children=(IntProgress(value=0, max=270), HTML(value='')))"
      ]
     },
     "metadata": {},
     "output_type": "display_data"
    },
    {
     "name": "stdout",
     "output_type": "stream",
     "text": [
      "\n",
      "weights_saved...\n"
     ]
    },
    {
     "data": {
      "application/vnd.jupyter.widget-view+json": {
       "model_id": "d214a1f39af84bb5b199d8a4ff0aca79",
       "version_major": 2,
       "version_minor": 0
      },
      "text/plain": [
       "HBox(children=(IntProgress(value=0, max=270), HTML(value='')))"
      ]
     },
     "metadata": {},
     "output_type": "display_data"
    },
    {
     "name": "stdout",
     "output_type": "stream",
     "text": [
      "\n",
      "weights_saved...\n"
     ]
    },
    {
     "data": {
      "application/vnd.jupyter.widget-view+json": {
       "model_id": "72b3ea78eb4847b09e8714557d066cfc",
       "version_major": 2,
       "version_minor": 0
      },
      "text/plain": [
       "HBox(children=(IntProgress(value=0, max=270), HTML(value='')))"
      ]
     },
     "metadata": {},
     "output_type": "display_data"
    },
    {
     "name": "stdout",
     "output_type": "stream",
     "text": [
      "\n",
      "weights_saved...\n"
     ]
    },
    {
     "data": {
      "application/vnd.jupyter.widget-view+json": {
       "model_id": "3f2d56f37b514e7f99ce00e326e37c98",
       "version_major": 2,
       "version_minor": 0
      },
      "text/plain": [
       "HBox(children=(IntProgress(value=0, max=270), HTML(value='')))"
      ]
     },
     "metadata": {},
     "output_type": "display_data"
    },
    {
     "name": "stdout",
     "output_type": "stream",
     "text": [
      "\n",
      "weights_saved...\n"
     ]
    },
    {
     "data": {
      "application/vnd.jupyter.widget-view+json": {
       "model_id": "70ea308620094eea997520d4d5bbef01",
       "version_major": 2,
       "version_minor": 0
      },
      "text/plain": [
       "HBox(children=(IntProgress(value=0, max=270), HTML(value='')))"
      ]
     },
     "metadata": {},
     "output_type": "display_data"
    },
    {
     "name": "stdout",
     "output_type": "stream",
     "text": [
      "\n",
      "weights_saved...\n"
     ]
    },
    {
     "data": {
      "application/vnd.jupyter.widget-view+json": {
       "model_id": "2b5c1684a4504697a6bcb405423e5e36",
       "version_major": 2,
       "version_minor": 0
      },
      "text/plain": [
       "HBox(children=(IntProgress(value=0, max=270), HTML(value='')))"
      ]
     },
     "metadata": {},
     "output_type": "display_data"
    },
    {
     "name": "stdout",
     "output_type": "stream",
     "text": [
      "\n",
      "weights_saved...\n"
     ]
    },
    {
     "data": {
      "application/vnd.jupyter.widget-view+json": {
       "model_id": "a36b48b59d034bcba900cc1c834f9a26",
       "version_major": 2,
       "version_minor": 0
      },
      "text/plain": [
       "HBox(children=(IntProgress(value=0, max=270), HTML(value='')))"
      ]
     },
     "metadata": {},
     "output_type": "display_data"
    },
    {
     "name": "stdout",
     "output_type": "stream",
     "text": [
      "\n",
      "weights_saved...\n"
     ]
    },
    {
     "data": {
      "application/vnd.jupyter.widget-view+json": {
       "model_id": "55046fe5cbd04886b6855a8264729bd4",
       "version_major": 2,
       "version_minor": 0
      },
      "text/plain": [
       "HBox(children=(IntProgress(value=0, max=270), HTML(value='')))"
      ]
     },
     "metadata": {},
     "output_type": "display_data"
    },
    {
     "name": "stdout",
     "output_type": "stream",
     "text": [
      "\n",
      "weights_saved...\n"
     ]
    },
    {
     "data": {
      "application/vnd.jupyter.widget-view+json": {
       "model_id": "5198bb7390e64a5f9f79976c3de37df5",
       "version_major": 2,
       "version_minor": 0
      },
      "text/plain": [
       "HBox(children=(IntProgress(value=0, max=270), HTML(value='')))"
      ]
     },
     "metadata": {},
     "output_type": "display_data"
    },
    {
     "name": "stdout",
     "output_type": "stream",
     "text": [
      "\n",
      "weights_saved...\n"
     ]
    },
    {
     "data": {
      "application/vnd.jupyter.widget-view+json": {
       "model_id": "bc600e086791460b8101925378d23787",
       "version_major": 2,
       "version_minor": 0
      },
      "text/plain": [
       "HBox(children=(IntProgress(value=0, max=270), HTML(value='')))"
      ]
     },
     "metadata": {},
     "output_type": "display_data"
    },
    {
     "name": "stdout",
     "output_type": "stream",
     "text": [
      "\n",
      "weights_saved...\n"
     ]
    },
    {
     "data": {
      "application/vnd.jupyter.widget-view+json": {
       "model_id": "9e90666a6f2b4040a85b5a093088b960",
       "version_major": 2,
       "version_minor": 0
      },
      "text/plain": [
       "HBox(children=(IntProgress(value=0, max=270), HTML(value='')))"
      ]
     },
     "metadata": {},
     "output_type": "display_data"
    },
    {
     "name": "stdout",
     "output_type": "stream",
     "text": [
      "\n",
      "weights_saved...\n"
     ]
    },
    {
     "data": {
      "application/vnd.jupyter.widget-view+json": {
       "model_id": "d922a01420c24a839a45537971ca3cde",
       "version_major": 2,
       "version_minor": 0
      },
      "text/plain": [
       "HBox(children=(IntProgress(value=0, max=270), HTML(value='')))"
      ]
     },
     "metadata": {},
     "output_type": "display_data"
    },
    {
     "name": "stdout",
     "output_type": "stream",
     "text": [
      "\n",
      "weights_saved...\n"
     ]
    },
    {
     "data": {
      "application/vnd.jupyter.widget-view+json": {
       "model_id": "26b7a3a27b174fdfbf1212d3c128f337",
       "version_major": 2,
       "version_minor": 0
      },
      "text/plain": [
       "HBox(children=(IntProgress(value=0, max=270), HTML(value='')))"
      ]
     },
     "metadata": {},
     "output_type": "display_data"
    },
    {
     "name": "stdout",
     "output_type": "stream",
     "text": [
      "\n",
      "weights_saved...\n"
     ]
    },
    {
     "data": {
      "application/vnd.jupyter.widget-view+json": {
       "model_id": "a6115028ee144ac0babd7efb5a805def",
       "version_major": 2,
       "version_minor": 0
      },
      "text/plain": [
       "HBox(children=(IntProgress(value=0, max=270), HTML(value='')))"
      ]
     },
     "metadata": {},
     "output_type": "display_data"
    },
    {
     "name": "stdout",
     "output_type": "stream",
     "text": [
      "\n",
      "weights_saved...\n"
     ]
    },
    {
     "data": {
      "application/vnd.jupyter.widget-view+json": {
       "model_id": "b700b40cd54c452bb68466d46411212b",
       "version_major": 2,
       "version_minor": 0
      },
      "text/plain": [
       "HBox(children=(IntProgress(value=0, max=270), HTML(value='')))"
      ]
     },
     "metadata": {},
     "output_type": "display_data"
    },
    {
     "name": "stdout",
     "output_type": "stream",
     "text": [
      "\n",
      "weights_saved...\n"
     ]
    },
    {
     "data": {
      "application/vnd.jupyter.widget-view+json": {
       "model_id": "2764d32f8d3a4aad95d129da3418525a",
       "version_major": 2,
       "version_minor": 0
      },
      "text/plain": [
       "HBox(children=(IntProgress(value=0, max=270), HTML(value='')))"
      ]
     },
     "metadata": {},
     "output_type": "display_data"
    },
    {
     "name": "stdout",
     "output_type": "stream",
     "text": [
      "\n",
      "weights_saved...\n"
     ]
    },
    {
     "data": {
      "application/vnd.jupyter.widget-view+json": {
       "model_id": "484ac957d66e4005ae43195cb5782bcf",
       "version_major": 2,
       "version_minor": 0
      },
      "text/plain": [
       "HBox(children=(IntProgress(value=0, max=270), HTML(value='')))"
      ]
     },
     "metadata": {},
     "output_type": "display_data"
    },
    {
     "name": "stdout",
     "output_type": "stream",
     "text": [
      "\n",
      "weights_saved...\n"
     ]
    },
    {
     "data": {
      "application/vnd.jupyter.widget-view+json": {
       "model_id": "2b86639a5dc34aba91c43824507c018e",
       "version_major": 2,
       "version_minor": 0
      },
      "text/plain": [
       "HBox(children=(IntProgress(value=0, max=270), HTML(value='')))"
      ]
     },
     "metadata": {},
     "output_type": "display_data"
    },
    {
     "name": "stdout",
     "output_type": "stream",
     "text": [
      "\n",
      "weights_saved...\n"
     ]
    },
    {
     "data": {
      "application/vnd.jupyter.widget-view+json": {
       "model_id": "ccc9268d71a746a8a345afd1d080ab64",
       "version_major": 2,
       "version_minor": 0
      },
      "text/plain": [
       "HBox(children=(IntProgress(value=0, max=270), HTML(value='')))"
      ]
     },
     "metadata": {},
     "output_type": "display_data"
    },
    {
     "name": "stdout",
     "output_type": "stream",
     "text": [
      "\n",
      "weights_saved...\n"
     ]
    },
    {
     "data": {
      "application/vnd.jupyter.widget-view+json": {
       "model_id": "02ccc77d81224a3e9b1b79c3154547db",
       "version_major": 2,
       "version_minor": 0
      },
      "text/plain": [
       "HBox(children=(IntProgress(value=0, max=270), HTML(value='')))"
      ]
     },
     "metadata": {},
     "output_type": "display_data"
    },
    {
     "ename": "RuntimeError",
     "evalue": "CUDA out of memory. Tried to allocate 98.00 MiB (GPU 1; 12.00 GiB total capacity; 6.07 GiB already allocated; 13.05 MiB free; 6.30 GiB reserved in total by PyTorch)",
     "output_type": "error",
     "traceback": [
      "\u001b[1;31m---------------------------------------------------------------------------\u001b[0m",
      "\u001b[1;31mRuntimeError\u001b[0m                              Traceback (most recent call last)",
      "\u001b[1;32m<ipython-input-8-8030361866d8>\u001b[0m in \u001b[0;36m<module>\u001b[1;34m\u001b[0m\n\u001b[0;32m     11\u001b[0m         \u001b[0mtargets\u001b[0m \u001b[1;33m=\u001b[0m \u001b[1;33m[\u001b[0m\u001b[1;33m{\u001b[0m\u001b[0mk\u001b[0m\u001b[1;33m:\u001b[0m \u001b[0mtorch\u001b[0m\u001b[1;33m.\u001b[0m\u001b[0mtensor\u001b[0m\u001b[1;33m(\u001b[0m\u001b[0mv\u001b[0m\u001b[1;33m)\u001b[0m\u001b[1;33m.\u001b[0m\u001b[0mto\u001b[0m\u001b[1;33m(\u001b[0m\u001b[0mconf\u001b[0m\u001b[1;33m.\u001b[0m\u001b[0mDEVICE\u001b[0m\u001b[1;33m)\u001b[0m \u001b[1;32mfor\u001b[0m \u001b[0mk\u001b[0m\u001b[1;33m,\u001b[0m \u001b[0mv\u001b[0m \u001b[1;32min\u001b[0m \u001b[0mtarget\u001b[0m\u001b[1;33m.\u001b[0m\u001b[0mitems\u001b[0m\u001b[1;33m(\u001b[0m\u001b[1;33m)\u001b[0m\u001b[1;33m}\u001b[0m \u001b[1;32mfor\u001b[0m \u001b[0mtarget\u001b[0m \u001b[1;32min\u001b[0m \u001b[0mtargets\u001b[0m\u001b[1;33m]\u001b[0m\u001b[1;33m\u001b[0m\u001b[1;33m\u001b[0m\u001b[0m\n\u001b[0;32m     12\u001b[0m \u001b[1;33m\u001b[0m\u001b[0m\n\u001b[1;32m---> 13\u001b[1;33m         \u001b[0mloss_dir\u001b[0m \u001b[1;33m=\u001b[0m \u001b[0mmodel\u001b[0m\u001b[1;33m(\u001b[0m\u001b[0mimages\u001b[0m\u001b[1;33m,\u001b[0m\u001b[0mtargets\u001b[0m\u001b[1;33m)\u001b[0m\u001b[1;33m\u001b[0m\u001b[1;33m\u001b[0m\u001b[0m\n\u001b[0m\u001b[0;32m     14\u001b[0m         \u001b[0msummed_loss\u001b[0m \u001b[1;33m=\u001b[0m \u001b[0msum\u001b[0m\u001b[1;33m(\u001b[0m\u001b[0mloss\u001b[0m \u001b[1;32mfor\u001b[0m \u001b[0mloss\u001b[0m \u001b[1;32min\u001b[0m \u001b[0mloss_dir\u001b[0m\u001b[1;33m.\u001b[0m\u001b[0mvalues\u001b[0m\u001b[1;33m(\u001b[0m\u001b[1;33m)\u001b[0m\u001b[1;33m)\u001b[0m\u001b[1;33m\u001b[0m\u001b[1;33m\u001b[0m\u001b[0m\n\u001b[0;32m     15\u001b[0m         \u001b[0msummed_loss_value\u001b[0m \u001b[1;33m=\u001b[0m \u001b[0msummed_loss\u001b[0m\u001b[1;33m.\u001b[0m\u001b[0mitem\u001b[0m\u001b[1;33m(\u001b[0m\u001b[1;33m)\u001b[0m\u001b[1;33m\u001b[0m\u001b[1;33m\u001b[0m\u001b[0m\n",
      "\u001b[1;32mC:\\ProgramData\\Anaconda3\\lib\\site-packages\\torch\\nn\\modules\\module.py\u001b[0m in \u001b[0;36m__call__\u001b[1;34m(self, *input, **kwargs)\u001b[0m\n\u001b[0;32m    548\u001b[0m             \u001b[0mresult\u001b[0m \u001b[1;33m=\u001b[0m \u001b[0mself\u001b[0m\u001b[1;33m.\u001b[0m\u001b[0m_slow_forward\u001b[0m\u001b[1;33m(\u001b[0m\u001b[1;33m*\u001b[0m\u001b[0minput\u001b[0m\u001b[1;33m,\u001b[0m \u001b[1;33m**\u001b[0m\u001b[0mkwargs\u001b[0m\u001b[1;33m)\u001b[0m\u001b[1;33m\u001b[0m\u001b[1;33m\u001b[0m\u001b[0m\n\u001b[0;32m    549\u001b[0m         \u001b[1;32melse\u001b[0m\u001b[1;33m:\u001b[0m\u001b[1;33m\u001b[0m\u001b[1;33m\u001b[0m\u001b[0m\n\u001b[1;32m--> 550\u001b[1;33m             \u001b[0mresult\u001b[0m \u001b[1;33m=\u001b[0m \u001b[0mself\u001b[0m\u001b[1;33m.\u001b[0m\u001b[0mforward\u001b[0m\u001b[1;33m(\u001b[0m\u001b[1;33m*\u001b[0m\u001b[0minput\u001b[0m\u001b[1;33m,\u001b[0m \u001b[1;33m**\u001b[0m\u001b[0mkwargs\u001b[0m\u001b[1;33m)\u001b[0m\u001b[1;33m\u001b[0m\u001b[1;33m\u001b[0m\u001b[0m\n\u001b[0m\u001b[0;32m    551\u001b[0m         \u001b[1;32mfor\u001b[0m \u001b[0mhook\u001b[0m \u001b[1;32min\u001b[0m \u001b[0mself\u001b[0m\u001b[1;33m.\u001b[0m\u001b[0m_forward_hooks\u001b[0m\u001b[1;33m.\u001b[0m\u001b[0mvalues\u001b[0m\u001b[1;33m(\u001b[0m\u001b[1;33m)\u001b[0m\u001b[1;33m:\u001b[0m\u001b[1;33m\u001b[0m\u001b[1;33m\u001b[0m\u001b[0m\n\u001b[0;32m    552\u001b[0m             \u001b[0mhook_result\u001b[0m \u001b[1;33m=\u001b[0m \u001b[0mhook\u001b[0m\u001b[1;33m(\u001b[0m\u001b[0mself\u001b[0m\u001b[1;33m,\u001b[0m \u001b[0minput\u001b[0m\u001b[1;33m,\u001b[0m \u001b[0mresult\u001b[0m\u001b[1;33m)\u001b[0m\u001b[1;33m\u001b[0m\u001b[1;33m\u001b[0m\u001b[0m\n",
      "\u001b[1;32mC:\\ProgramData\\Anaconda3\\lib\\site-packages\\torchvision\\models\\detection\\generalized_rcnn.py\u001b[0m in \u001b[0;36mforward\u001b[1;34m(self, images, targets)\u001b[0m\n\u001b[0;32m     68\u001b[0m         \u001b[1;32mif\u001b[0m \u001b[0misinstance\u001b[0m\u001b[1;33m(\u001b[0m\u001b[0mfeatures\u001b[0m\u001b[1;33m,\u001b[0m \u001b[0mtorch\u001b[0m\u001b[1;33m.\u001b[0m\u001b[0mTensor\u001b[0m\u001b[1;33m)\u001b[0m\u001b[1;33m:\u001b[0m\u001b[1;33m\u001b[0m\u001b[1;33m\u001b[0m\u001b[0m\n\u001b[0;32m     69\u001b[0m             \u001b[0mfeatures\u001b[0m \u001b[1;33m=\u001b[0m \u001b[0mOrderedDict\u001b[0m\u001b[1;33m(\u001b[0m\u001b[1;33m[\u001b[0m\u001b[1;33m(\u001b[0m\u001b[1;34m'0'\u001b[0m\u001b[1;33m,\u001b[0m \u001b[0mfeatures\u001b[0m\u001b[1;33m)\u001b[0m\u001b[1;33m]\u001b[0m\u001b[1;33m)\u001b[0m\u001b[1;33m\u001b[0m\u001b[1;33m\u001b[0m\u001b[0m\n\u001b[1;32m---> 70\u001b[1;33m         \u001b[0mproposals\u001b[0m\u001b[1;33m,\u001b[0m \u001b[0mproposal_losses\u001b[0m \u001b[1;33m=\u001b[0m \u001b[0mself\u001b[0m\u001b[1;33m.\u001b[0m\u001b[0mrpn\u001b[0m\u001b[1;33m(\u001b[0m\u001b[0mimages\u001b[0m\u001b[1;33m,\u001b[0m \u001b[0mfeatures\u001b[0m\u001b[1;33m,\u001b[0m \u001b[0mtargets\u001b[0m\u001b[1;33m)\u001b[0m\u001b[1;33m\u001b[0m\u001b[1;33m\u001b[0m\u001b[0m\n\u001b[0m\u001b[0;32m     71\u001b[0m         \u001b[0mdetections\u001b[0m\u001b[1;33m,\u001b[0m \u001b[0mdetector_losses\u001b[0m \u001b[1;33m=\u001b[0m \u001b[0mself\u001b[0m\u001b[1;33m.\u001b[0m\u001b[0mroi_heads\u001b[0m\u001b[1;33m(\u001b[0m\u001b[0mfeatures\u001b[0m\u001b[1;33m,\u001b[0m \u001b[0mproposals\u001b[0m\u001b[1;33m,\u001b[0m \u001b[0mimages\u001b[0m\u001b[1;33m.\u001b[0m\u001b[0mimage_sizes\u001b[0m\u001b[1;33m,\u001b[0m \u001b[0mtargets\u001b[0m\u001b[1;33m)\u001b[0m\u001b[1;33m\u001b[0m\u001b[1;33m\u001b[0m\u001b[0m\n\u001b[0;32m     72\u001b[0m         \u001b[0mdetections\u001b[0m \u001b[1;33m=\u001b[0m \u001b[0mself\u001b[0m\u001b[1;33m.\u001b[0m\u001b[0mtransform\u001b[0m\u001b[1;33m.\u001b[0m\u001b[0mpostprocess\u001b[0m\u001b[1;33m(\u001b[0m\u001b[0mdetections\u001b[0m\u001b[1;33m,\u001b[0m \u001b[0mimages\u001b[0m\u001b[1;33m.\u001b[0m\u001b[0mimage_sizes\u001b[0m\u001b[1;33m,\u001b[0m \u001b[0moriginal_image_sizes\u001b[0m\u001b[1;33m)\u001b[0m\u001b[1;33m\u001b[0m\u001b[1;33m\u001b[0m\u001b[0m\n",
      "\u001b[1;32mC:\\ProgramData\\Anaconda3\\lib\\site-packages\\torch\\nn\\modules\\module.py\u001b[0m in \u001b[0;36m__call__\u001b[1;34m(self, *input, **kwargs)\u001b[0m\n\u001b[0;32m    548\u001b[0m             \u001b[0mresult\u001b[0m \u001b[1;33m=\u001b[0m \u001b[0mself\u001b[0m\u001b[1;33m.\u001b[0m\u001b[0m_slow_forward\u001b[0m\u001b[1;33m(\u001b[0m\u001b[1;33m*\u001b[0m\u001b[0minput\u001b[0m\u001b[1;33m,\u001b[0m \u001b[1;33m**\u001b[0m\u001b[0mkwargs\u001b[0m\u001b[1;33m)\u001b[0m\u001b[1;33m\u001b[0m\u001b[1;33m\u001b[0m\u001b[0m\n\u001b[0;32m    549\u001b[0m         \u001b[1;32melse\u001b[0m\u001b[1;33m:\u001b[0m\u001b[1;33m\u001b[0m\u001b[1;33m\u001b[0m\u001b[0m\n\u001b[1;32m--> 550\u001b[1;33m             \u001b[0mresult\u001b[0m \u001b[1;33m=\u001b[0m \u001b[0mself\u001b[0m\u001b[1;33m.\u001b[0m\u001b[0mforward\u001b[0m\u001b[1;33m(\u001b[0m\u001b[1;33m*\u001b[0m\u001b[0minput\u001b[0m\u001b[1;33m,\u001b[0m \u001b[1;33m**\u001b[0m\u001b[0mkwargs\u001b[0m\u001b[1;33m)\u001b[0m\u001b[1;33m\u001b[0m\u001b[1;33m\u001b[0m\u001b[0m\n\u001b[0m\u001b[0;32m    551\u001b[0m         \u001b[1;32mfor\u001b[0m \u001b[0mhook\u001b[0m \u001b[1;32min\u001b[0m \u001b[0mself\u001b[0m\u001b[1;33m.\u001b[0m\u001b[0m_forward_hooks\u001b[0m\u001b[1;33m.\u001b[0m\u001b[0mvalues\u001b[0m\u001b[1;33m(\u001b[0m\u001b[1;33m)\u001b[0m\u001b[1;33m:\u001b[0m\u001b[1;33m\u001b[0m\u001b[1;33m\u001b[0m\u001b[0m\n\u001b[0;32m    552\u001b[0m             \u001b[0mhook_result\u001b[0m \u001b[1;33m=\u001b[0m \u001b[0mhook\u001b[0m\u001b[1;33m(\u001b[0m\u001b[0mself\u001b[0m\u001b[1;33m,\u001b[0m \u001b[0minput\u001b[0m\u001b[1;33m,\u001b[0m \u001b[0mresult\u001b[0m\u001b[1;33m)\u001b[0m\u001b[1;33m\u001b[0m\u001b[1;33m\u001b[0m\u001b[0m\n",
      "\u001b[1;32mC:\\ProgramData\\Anaconda3\\lib\\site-packages\\torchvision\\models\\detection\\rpn.py\u001b[0m in \u001b[0;36mforward\u001b[1;34m(self, images, features, targets)\u001b[0m\n\u001b[0;32m    491\u001b[0m         \u001b[1;32mif\u001b[0m \u001b[0mself\u001b[0m\u001b[1;33m.\u001b[0m\u001b[0mtraining\u001b[0m\u001b[1;33m:\u001b[0m\u001b[1;33m\u001b[0m\u001b[1;33m\u001b[0m\u001b[0m\n\u001b[0;32m    492\u001b[0m             \u001b[1;32massert\u001b[0m \u001b[0mtargets\u001b[0m \u001b[1;32mis\u001b[0m \u001b[1;32mnot\u001b[0m \u001b[1;32mNone\u001b[0m\u001b[1;33m\u001b[0m\u001b[1;33m\u001b[0m\u001b[0m\n\u001b[1;32m--> 493\u001b[1;33m             \u001b[0mlabels\u001b[0m\u001b[1;33m,\u001b[0m \u001b[0mmatched_gt_boxes\u001b[0m \u001b[1;33m=\u001b[0m \u001b[0mself\u001b[0m\u001b[1;33m.\u001b[0m\u001b[0massign_targets_to_anchors\u001b[0m\u001b[1;33m(\u001b[0m\u001b[0manchors\u001b[0m\u001b[1;33m,\u001b[0m \u001b[0mtargets\u001b[0m\u001b[1;33m)\u001b[0m\u001b[1;33m\u001b[0m\u001b[1;33m\u001b[0m\u001b[0m\n\u001b[0m\u001b[0;32m    494\u001b[0m             \u001b[0mregression_targets\u001b[0m \u001b[1;33m=\u001b[0m \u001b[0mself\u001b[0m\u001b[1;33m.\u001b[0m\u001b[0mbox_coder\u001b[0m\u001b[1;33m.\u001b[0m\u001b[0mencode\u001b[0m\u001b[1;33m(\u001b[0m\u001b[0mmatched_gt_boxes\u001b[0m\u001b[1;33m,\u001b[0m \u001b[0manchors\u001b[0m\u001b[1;33m)\u001b[0m\u001b[1;33m\u001b[0m\u001b[1;33m\u001b[0m\u001b[0m\n\u001b[0;32m    495\u001b[0m             loss_objectness, loss_rpn_box_reg = self.compute_loss(\n",
      "\u001b[1;32mC:\\ProgramData\\Anaconda3\\lib\\site-packages\\torchvision\\models\\detection\\rpn.py\u001b[0m in \u001b[0;36massign_targets_to_anchors\u001b[1;34m(self, anchors, targets)\u001b[0m\n\u001b[0;32m    338\u001b[0m                 \u001b[0mlabels_per_image\u001b[0m \u001b[1;33m=\u001b[0m \u001b[0mtorch\u001b[0m\u001b[1;33m.\u001b[0m\u001b[0mzeros\u001b[0m\u001b[1;33m(\u001b[0m\u001b[1;33m(\u001b[0m\u001b[0manchors_per_image\u001b[0m\u001b[1;33m.\u001b[0m\u001b[0mshape\u001b[0m\u001b[1;33m[\u001b[0m\u001b[1;36m0\u001b[0m\u001b[1;33m]\u001b[0m\u001b[1;33m,\u001b[0m\u001b[1;33m)\u001b[0m\u001b[1;33m,\u001b[0m \u001b[0mdtype\u001b[0m\u001b[1;33m=\u001b[0m\u001b[0mtorch\u001b[0m\u001b[1;33m.\u001b[0m\u001b[0mfloat32\u001b[0m\u001b[1;33m,\u001b[0m \u001b[0mdevice\u001b[0m\u001b[1;33m=\u001b[0m\u001b[0mdevice\u001b[0m\u001b[1;33m)\u001b[0m\u001b[1;33m\u001b[0m\u001b[1;33m\u001b[0m\u001b[0m\n\u001b[0;32m    339\u001b[0m             \u001b[1;32melse\u001b[0m\u001b[1;33m:\u001b[0m\u001b[1;33m\u001b[0m\u001b[1;33m\u001b[0m\u001b[0m\n\u001b[1;32m--> 340\u001b[1;33m                 \u001b[0mmatch_quality_matrix\u001b[0m \u001b[1;33m=\u001b[0m \u001b[0mbox_ops\u001b[0m\u001b[1;33m.\u001b[0m\u001b[0mbox_iou\u001b[0m\u001b[1;33m(\u001b[0m\u001b[0mgt_boxes\u001b[0m\u001b[1;33m,\u001b[0m \u001b[0manchors_per_image\u001b[0m\u001b[1;33m)\u001b[0m\u001b[1;33m\u001b[0m\u001b[1;33m\u001b[0m\u001b[0m\n\u001b[0m\u001b[0;32m    341\u001b[0m                 \u001b[0mmatched_idxs\u001b[0m \u001b[1;33m=\u001b[0m \u001b[0mself\u001b[0m\u001b[1;33m.\u001b[0m\u001b[0mproposal_matcher\u001b[0m\u001b[1;33m(\u001b[0m\u001b[0mmatch_quality_matrix\u001b[0m\u001b[1;33m)\u001b[0m\u001b[1;33m\u001b[0m\u001b[1;33m\u001b[0m\u001b[0m\n\u001b[0;32m    342\u001b[0m                 \u001b[1;31m# get the targets corresponding GT for each proposal\u001b[0m\u001b[1;33m\u001b[0m\u001b[1;33m\u001b[0m\u001b[1;33m\u001b[0m\u001b[0m\n",
      "\u001b[1;32mC:\\ProgramData\\Anaconda3\\lib\\site-packages\\torchvision\\ops\\boxes.py\u001b[0m in \u001b[0;36mbox_iou\u001b[1;34m(boxes1, boxes2)\u001b[0m\n\u001b[0;32m    163\u001b[0m     \u001b[0mrb\u001b[0m \u001b[1;33m=\u001b[0m \u001b[0mtorch\u001b[0m\u001b[1;33m.\u001b[0m\u001b[0mmin\u001b[0m\u001b[1;33m(\u001b[0m\u001b[0mboxes1\u001b[0m\u001b[1;33m[\u001b[0m\u001b[1;33m:\u001b[0m\u001b[1;33m,\u001b[0m \u001b[1;32mNone\u001b[0m\u001b[1;33m,\u001b[0m \u001b[1;36m2\u001b[0m\u001b[1;33m:\u001b[0m\u001b[1;33m]\u001b[0m\u001b[1;33m,\u001b[0m \u001b[0mboxes2\u001b[0m\u001b[1;33m[\u001b[0m\u001b[1;33m:\u001b[0m\u001b[1;33m,\u001b[0m \u001b[1;36m2\u001b[0m\u001b[1;33m:\u001b[0m\u001b[1;33m]\u001b[0m\u001b[1;33m)\u001b[0m  \u001b[1;31m# [N,M,2]\u001b[0m\u001b[1;33m\u001b[0m\u001b[1;33m\u001b[0m\u001b[0m\n\u001b[0;32m    164\u001b[0m \u001b[1;33m\u001b[0m\u001b[0m\n\u001b[1;32m--> 165\u001b[1;33m     \u001b[0mwh\u001b[0m \u001b[1;33m=\u001b[0m \u001b[1;33m(\u001b[0m\u001b[0mrb\u001b[0m \u001b[1;33m-\u001b[0m \u001b[0mlt\u001b[0m\u001b[1;33m)\u001b[0m\u001b[1;33m.\u001b[0m\u001b[0mclamp\u001b[0m\u001b[1;33m(\u001b[0m\u001b[0mmin\u001b[0m\u001b[1;33m=\u001b[0m\u001b[1;36m0\u001b[0m\u001b[1;33m)\u001b[0m  \u001b[1;31m# [N,M,2]\u001b[0m\u001b[1;33m\u001b[0m\u001b[1;33m\u001b[0m\u001b[0m\n\u001b[0m\u001b[0;32m    166\u001b[0m     \u001b[0minter\u001b[0m \u001b[1;33m=\u001b[0m \u001b[0mwh\u001b[0m\u001b[1;33m[\u001b[0m\u001b[1;33m:\u001b[0m\u001b[1;33m,\u001b[0m \u001b[1;33m:\u001b[0m\u001b[1;33m,\u001b[0m \u001b[1;36m0\u001b[0m\u001b[1;33m]\u001b[0m \u001b[1;33m*\u001b[0m \u001b[0mwh\u001b[0m\u001b[1;33m[\u001b[0m\u001b[1;33m:\u001b[0m\u001b[1;33m,\u001b[0m \u001b[1;33m:\u001b[0m\u001b[1;33m,\u001b[0m \u001b[1;36m1\u001b[0m\u001b[1;33m]\u001b[0m  \u001b[1;31m# [N,M]\u001b[0m\u001b[1;33m\u001b[0m\u001b[1;33m\u001b[0m\u001b[0m\n\u001b[0;32m    167\u001b[0m \u001b[1;33m\u001b[0m\u001b[0m\n",
      "\u001b[1;31mRuntimeError\u001b[0m: CUDA out of memory. Tried to allocate 98.00 MiB (GPU 1; 12.00 GiB total capacity; 6.07 GiB already allocated; 13.05 MiB free; 6.30 GiB reserved in total by PyTorch)"
     ]
    }
   ],
   "source": [
    "end_epochs=25\n",
    "\n",
    "epoch_progress_bar = tqdm(range(handler.last_epoch, end_epochs))\n",
    "for epoch in epoch_progress_bar:\n",
    "    _epoch_loss=0\n",
    "    data_progress_bar = tqdm(WD_Train_Loader)\n",
    "    for images, targets in data_progress_bar:\n",
    "        \n",
    "        #try:\n",
    "        images = [torch.tensor(image, dtype = torch.float32).to(conf.DEVICE) for image in images]\n",
    "        targets = [{k: torch.tensor(v).to(conf.DEVICE) for k, v in target.items()} for target in targets]\n",
    "\n",
    "        loss_dir = model(images,targets)\n",
    "        summed_loss = sum(loss for loss in loss_dir.values())\n",
    "        summed_loss_value = summed_loss.item()\n",
    "\n",
    "        if math.isfinite(summed_loss_value):\n",
    "            optimizer.zero_grad()\n",
    "            summed_loss.backward()\n",
    "            optimizer.step()\n",
    "            _epoch_loss+=summed_loss_value\n",
    "\n",
    "        else:\n",
    "            print('Loss is undefined:',summed_loss_value,'   skipping BackProp for step no:',_iter)\n",
    "            print(loss_dictionary)\n",
    "\n",
    "        handler.publish_to_board(total_loss=summed_loss_value, \n",
    "                                 classifier_loss=loss_dir['loss_classifier'].item(), \n",
    "                                 reg_box_loss=loss_dir['loss_box_reg'].item(), \n",
    "                                 objectness_loss=loss_dir['loss_objectness'].item(), \n",
    "                                 rpn_reg_loss=loss_dir['loss_rpn_box_reg'].item())\n",
    "            \n",
    "\n",
    "            \n",
    "            \n",
    "    handler.save_weights(model, 0, _epoch_loss, optimizer, scheduler, new_epoch=True)\n",
    "    scheduler.step()\n",
    "    torch.cuda.empty_cache()\n",
    "    gc.collect()    "
   ]
  },
  {
   "cell_type": "markdown",
   "metadata": {},
   "source": [
    "# Inference"
   ]
  },
  {
   "cell_type": "code",
   "execution_count": 1,
   "metadata": {
    "ExecuteTime": {
     "end_time": "2020-06-23T04:48:18.048128Z",
     "start_time": "2020-06-23T04:48:14.390933Z"
    }
   },
   "outputs": [],
   "source": [
    "from torch.utils.data import DataLoader\n",
    "import gc\n",
    "import torch\n",
    "from tqdm.notebook import tqdm\n",
    "\n",
    "\n",
    "from fasterrcnn.config import config\n",
    "from fasterrcnn.utils.inferencefns import (WheatInferenceDataset, \n",
    "                                           collate_fn, \n",
    "                                           format_prediction_string, \n",
    "                                           make_submission_file)\n",
    "from fasterrcnn.model import get_model"
   ]
  },
  {
   "cell_type": "code",
   "execution_count": 2,
   "metadata": {
    "ExecuteTime": {
     "end_time": "2020-06-23T04:48:22.258426Z",
     "start_time": "2020-06-23T04:48:18.803866Z"
    }
   },
   "outputs": [],
   "source": [
    "conf = config()\n",
    "WD_Inference = WheatInferenceDataset(conf, normalize=False)\n",
    "WD_Inference_Loader = DataLoader(WD_Inference,\n",
    "                                 batch_size=conf.BATCH_SIZE, \n",
    "                                 shuffle=False, \n",
    "                                 collate_fn=collate_fn)\n",
    "\n",
    "model = get_model(saved_weights='saved_weights/fasterrcnn/GWD_FASTERRCNN_0622V02_EPOCH_3_CHECKPOINT_0_SCORE_0.0000_LOSS_245.2947.pth')\n",
    "\n",
    "_ = model.eval()\n",
    "_ = model.to(conf.DEVICE)"
   ]
  },
  {
   "cell_type": "code",
   "execution_count": 4,
   "metadata": {
    "ExecuteTime": {
     "end_time": "2020-06-23T04:48:37.317900Z",
     "start_time": "2020-06-23T04:48:33.724083Z"
    }
   },
   "outputs": [
    {
     "name": "stderr",
     "output_type": "stream",
     "text": [
      "C:\\ProgramData\\Anaconda3\\lib\\site-packages\\torch\\nn\\functional.py:2854: UserWarning: The default behavior for interpolate/upsample with float scale_factor will change in 1.6.0 to align with other frameworks/libraries, and use scale_factor directly, instead of relying on the computed output size. If you wish to keep the old behavior, please set recompute_scale_factor=True. See the documentation of nn.Upsample for details. \n",
      "  warnings.warn(\"The default behavior for interpolate/upsample with float scale_factor will change \"\n",
      "..\\torch\\csrc\\utils\\python_arg_parser.cpp:756: UserWarning: This overload of nonzero is deprecated:\n",
      "\tnonzero(Tensor input, *, Tensor out)\n",
      "Consider using one of the following signatures instead:\n",
      "\tnonzero(Tensor input, *, bool as_tuple)\n"
     ]
    },
    {
     "name": "stdout",
     "output_type": "stream",
     "text": [
      "file_saved\n"
     ]
    }
   ],
   "source": [
    "cut_off = 0.45\n",
    "pred_strings = []\n",
    "image_ids = []\n",
    "for ids, imgs in WD_Inference_Loader:\n",
    "    imgs = [torch.tensor(img, dtype = torch.float32).to(conf.DEVICE) for img in imgs]\n",
    "    results = model(imgs)\n",
    "    results = [{k: v.to(torch.device('cpu')).detach().numpy() for k, v in result.items()} for result in results]\n",
    "    \n",
    "    for result, id_ in zip(results, ids) :\n",
    "        scores = result['scores']\n",
    "        try:\n",
    "            stop_index = np.argwhere(scores<cut_off)[0][0]\n",
    "        except:\n",
    "            stop_index=len(result['scores'])\n",
    "        pred_string = format_prediction_string(result['boxes'][:stop_index], result['scores'][:stop_index])\n",
    "        pred_strings.append(pred_string)\n",
    "        image_ids.append(id_)\n",
    "\n",
    "make_submission_file(image_ids, pred_strings)"
   ]
  },
  {
   "cell_type": "code",
   "execution_count": null,
   "metadata": {},
   "outputs": [],
   "source": []
  },
  {
   "cell_type": "code",
   "execution_count": null,
   "metadata": {},
   "outputs": [],
   "source": []
  },
  {
   "cell_type": "code",
   "execution_count": null,
   "metadata": {},
   "outputs": [],
   "source": []
  },
  {
   "cell_type": "code",
   "execution_count": null,
   "metadata": {},
   "outputs": [],
   "source": []
  },
  {
   "cell_type": "code",
   "execution_count": null,
   "metadata": {},
   "outputs": [],
   "source": []
  },
  {
   "cell_type": "code",
   "execution_count": null,
   "metadata": {},
   "outputs": [],
   "source": []
  },
  {
   "cell_type": "code",
   "execution_count": 6,
   "metadata": {
    "ExecuteTime": {
     "end_time": "2020-06-22T01:17:56.833360Z",
     "start_time": "2020-06-22T01:17:56.812365Z"
    }
   },
   "outputs": [],
   "source": [
    "BOX_COLOR = (255, 0, 0)\n",
    "TEXT_COLOR = (255, 255, 255)\n",
    "\n",
    "def visualize_bbox(img, bbox, color=BOX_COLOR, thickness=2):\n",
    "    x_min, y_min, x_max, y_max = bbox\n",
    "    x_min, y_min, x_max, y_max = int(x_min), int(y_min), int(x_max), int(y_max)\n",
    "    cv2.rectangle(img, (x_min, y_min), (x_max, y_max), color=color, thickness=thickness)\n",
    "    \n",
    "    return img\n",
    "\n",
    "\n",
    "def visualize(annotations):\n",
    "    img = annotations['img'].copy()\n",
    "    for idx, bbox in enumerate(annotations['boxes']):\n",
    "        img = visualize_bbox(img, bbox)\n",
    "    plt.figure(figsize=(12, 12))\n",
    "    plt.imshow(img)"
   ]
  },
  {
   "cell_type": "code",
   "execution_count": 18,
   "metadata": {
    "ExecuteTime": {
     "end_time": "2020-06-22T21:02:37.686370Z",
     "start_time": "2020-06-22T21:02:37.538417Z"
    }
   },
   "outputs": [],
   "source": [
    "import os\n",
    "import cv2\n",
    "import numpy as np\n",
    "import matplotlib.pyplot as plt\n",
    "from tqdm.notebook import tqdm as tqdm\n",
    "\n",
    "from fasterrcnn.utils.data import WheatDataset\n",
    "from fasterrcnn.config import config\n",
    "from fasterrcnn.model import get_model\n",
    "from augmentations.aug import get_augmentor"
   ]
  },
  {
   "cell_type": "code",
   "execution_count": 2,
   "metadata": {
    "ExecuteTime": {
     "end_time": "2020-06-22T02:04:54.076625Z",
     "start_time": "2020-06-22T02:04:54.070626Z"
    }
   },
   "outputs": [],
   "source": [
    "augg = get_augmentor()"
   ]
  },
  {
   "cell_type": "code",
   "execution_count": 3,
   "metadata": {
    "ExecuteTime": {
     "end_time": "2020-06-22T02:04:55.806071Z",
     "start_time": "2020-06-22T02:04:54.944346Z"
    },
    "scrolled": true
   },
   "outputs": [
    {
     "data": {
      "text/plain": [
       "(array([[[-2.090675  , -1.946819  , -1.7070588 , ...,  1.8573759 ,\n",
       "           1.6815517 ,  1.4577755 ],\n",
       "         [-2.090675  , -2.010755  , -1.7390269 , ...,  1.7454877 ,\n",
       "           1.6016316 ,  1.4417915 ],\n",
       "         [-2.154611  , -2.0427232 , -1.818947  , ...,  1.5696636 ,\n",
       "           1.5536796 ,  1.5057275 ],\n",
       "         ...,\n",
       "         [ 0.69054294,  0.8503831 ,  1.0102232 , ...,  1.985248  ,\n",
       "           2.177056  ,  2.2090242 ],\n",
       "         [-0.25251374, -0.07668961,  0.14708656, ...,  1.0262072 ,\n",
       "           1.2020314 ,  1.2819514 ],\n",
       "         [-0.79597014, -0.6840821 , -0.540226  , ...,  0.6106229 ,\n",
       "           0.722511  ,  0.8663671 ]],\n",
       " \n",
       "        [[-2.393105  , -2.2205243 , -1.9328897 , ...,  2.7843192 ,\n",
       "           2.4966843 ,  2.2282252 ],\n",
       "         [-2.450632  , -2.297227  , -2.0287678 , ...,  2.630914  ,\n",
       "           2.4391575 ,  2.247401  ],\n",
       "         [-2.5465102 , -2.393105  , -2.1438217 , ...,  2.458333  ,\n",
       "           2.4391575 ,  2.3816304 ],\n",
       "         ...,\n",
       "         [ 0.8859302 ,  1.0776867 ,  1.269443  , ...,  2.1898742 ,\n",
       "           2.4008062 ,  2.51586   ],\n",
       "         [-0.24543288, -0.03450079,  0.23395824, ...,  1.0009841 ,\n",
       "           1.1927406 ,  1.3653213 ],\n",
       "         [-0.89740485, -0.7631753 , -0.5905945 , ...,  0.464066  ,\n",
       "           0.61747116,  0.82840323]],\n",
       " \n",
       "        [[-2.2210634 , -1.9595    , -1.5235609 , ...,  3.3298936 ,\n",
       "           2.8939545 ,  2.3998904 ],\n",
       "         [-2.2791886 , -2.0757504 , -1.6398113 , ...,  3.1845806 ,\n",
       "           2.7777042 ,  2.428953  ],\n",
       "         [-2.4245017 , -2.1920009 , -1.8141869 , ...,  2.9520798 ,\n",
       "           2.864892  ,  2.719579  ],\n",
       "         ...,\n",
       "         [ 2.8358295 ,  3.1264555 ,  3.4752066 , ...,  2.8939545 ,\n",
       "           3.3298936 ,  3.4170814 ],\n",
       "         [ 1.1211358 ,  1.4408245 ,  1.847701  , ...,  1.1211358 ,\n",
       "           1.5280123 ,  1.6733253 ],\n",
       "         [ 0.1330074 ,  0.33644563,  0.59800905, ...,  0.33644563,\n",
       "           0.65613425,  0.9467603 ]]], dtype=float32),\n",
       " {'boxes': array([[8.340e+02, 2.220e+02, 8.900e+02, 2.580e+02],\n",
       "         [2.260e+02, 5.480e+02, 3.560e+02, 6.060e+02],\n",
       "         [3.770e+02, 5.040e+02, 4.510e+02, 6.640e+02],\n",
       "         [8.340e+02, 9.500e+01, 9.430e+02, 2.020e+02],\n",
       "         [2.600e+01, 1.440e+02, 1.500e+02, 2.610e+02],\n",
       "         [5.690e+02, 3.820e+02, 6.880e+02, 4.930e+02],\n",
       "         [5.200e+01, 6.020e+02, 1.340e+02, 6.470e+02],\n",
       "         [6.270e+02, 3.020e+02, 7.490e+02, 3.770e+02],\n",
       "         [4.120e+02, 3.670e+02, 4.800e+02, 4.490e+02],\n",
       "         [9.530e+02, 2.200e+02, 1.009e+03, 3.230e+02],\n",
       "         [3.000e+01, 7.000e+01, 1.560e+02, 2.030e+02],\n",
       "         [3.500e+01, 5.410e+02, 8.100e+01, 5.870e+02],\n",
       "         [1.030e+02, 6.000e+01, 2.200e+02, 1.430e+02],\n",
       "         [4.170e+02, 4.000e+00, 5.270e+02, 9.500e+01],\n",
       "         [7.640e+02, 2.990e+02, 8.830e+02, 3.920e+02],\n",
       "         [5.390e+02, 5.800e+01, 5.970e+02, 1.880e+02],\n",
       "         [1.390e+02, 2.740e+02, 2.600e+02, 3.500e+02],\n",
       "         [4.610e+02, 6.340e+02, 5.790e+02, 6.980e+02],\n",
       "         [2.150e+02, 6.340e+02, 3.280e+02, 7.090e+02],\n",
       "         [1.340e+02, 9.030e+02, 2.610e+02, 9.520e+02],\n",
       "         [7.370e+02, 5.450e+02, 8.240e+02, 5.930e+02],\n",
       "         [2.920e+02, 9.300e+02, 3.350e+02, 9.760e+02],\n",
       "         [0.000e+00, 8.270e+02, 8.600e+01, 8.850e+02],\n",
       "         [3.240e+02, 4.400e+01, 3.810e+02, 1.140e+02],\n",
       "         [6.630e+02, 7.940e+02, 7.790e+02, 8.580e+02],\n",
       "         [3.250e+02, 7.300e+02, 4.010e+02, 8.020e+02],\n",
       "         [1.550e+02, 5.540e+02, 2.290e+02, 6.240e+02],\n",
       "         [7.830e+02, 8.330e+02, 8.530e+02, 9.240e+02],\n",
       "         [5.340e+02, 4.600e+01, 6.070e+02, 2.700e+02],\n",
       "         [1.550e+02, 2.810e+02, 2.610e+02, 4.190e+02],\n",
       "         [1.010e+02, 2.400e+02, 1.830e+02, 3.150e+02],\n",
       "         [5.830e+02, 3.290e+02, 6.630e+02, 4.120e+02],\n",
       "         [3.600e+01, 5.950e+02, 1.280e+02, 6.360e+02],\n",
       "         [0.000e+00, 4.870e+02, 4.600e+01, 5.580e+02],\n",
       "         [2.500e+01, 4.820e+02, 7.600e+01, 5.420e+02],\n",
       "         [1.600e+02, 6.890e+02, 3.000e+02, 7.630e+02],\n",
       "         [2.020e+02, 7.020e+02, 3.060e+02, 7.860e+02],\n",
       "         [8.520e+02, 6.770e+02, 9.670e+02, 8.350e+02],\n",
       "         [9.040e+02, 7.000e+02, 9.770e+02, 8.200e+02],\n",
       "         [1.750e+02, 8.660e+02, 2.570e+02, 9.090e+02],\n",
       "         [6.120e+02, 8.820e+02, 8.270e+02, 1.018e+03],\n",
       "         [6.750e+02, 9.860e+02, 8.060e+02, 1.024e+03],\n",
       "         [9.590e+02, 8.690e+02, 9.820e+02, 9.000e+02],\n",
       "         [6.000e+02, 7.230e+02, 8.210e+02, 8.040e+02],\n",
       "         [5.750e+02, 1.460e+02, 6.470e+02, 2.670e+02],\n",
       "         [9.450e+02, 1.930e+02, 1.002e+03, 2.380e+02],\n",
       "         [2.160e+02, 4.400e+02, 2.620e+02, 4.600e+02],\n",
       "         [6.300e+01, 1.220e+02, 1.820e+02, 1.700e+02],\n",
       "         [4.600e+02, 4.870e+02, 5.430e+02, 5.560e+02],\n",
       "         [2.500e+02, 8.400e+02, 3.700e+02, 8.900e+02],\n",
       "         [2.160e+02, 4.430e+02, 3.020e+02, 5.370e+02],\n",
       "         [1.470e+02, 4.860e+02, 3.070e+02, 5.380e+02],\n",
       "         [2.100e+02, 1.510e+02, 3.360e+02, 2.200e+02],\n",
       "         [4.710e+02, 9.860e+02, 5.700e+02, 1.022e+03],\n",
       "         [5.800e+02, 1.590e+02, 6.670e+02, 2.360e+02],\n",
       "         [6.440e+02, 0.000e+00, 7.490e+02, 4.000e+01],\n",
       "         [0.000e+00, 2.580e+02, 1.350e+02, 3.260e+02],\n",
       "         [9.270e+02, 2.350e+02, 9.970e+02, 2.860e+02],\n",
       "         [9.170e+02, 8.120e+02, 1.024e+03, 8.710e+02],\n",
       "         [4.300e+02, 3.600e+02, 5.310e+02, 4.970e+02],\n",
       "         [5.320e+02, 6.500e+02, 6.080e+02, 6.820e+02],\n",
       "         [3.960e+02, 9.160e+02, 4.820e+02, 9.940e+02],\n",
       "         [6.910e+02, 1.290e+02, 7.530e+02, 1.860e+02],\n",
       "         [2.710e+02, 5.910e+02, 3.820e+02, 6.410e+02],\n",
       "         [6.790e+02, 1.880e+02, 8.760e+02, 2.450e+02],\n",
       "         [2.200e+02, 7.920e+02, 2.850e+02, 8.340e+02],\n",
       "         [9.210e+02, 9.600e+02, 9.980e+02, 1.007e+03],\n",
       "         [9.040e+02, 8.380e+02, 9.720e+02, 8.920e+02],\n",
       "         [2.760e+02, 1.030e+02, 3.530e+02, 1.890e+02],\n",
       "         [4.190e+02, 8.900e+02, 5.930e+02, 9.480e+02],\n",
       "         [8.410e+02, 1.520e+02, 9.290e+02, 2.160e+02],\n",
       "         [5.310e+02, 8.250e+02, 6.260e+02, 8.620e+02],\n",
       "         [6.860e+02, 7.780e+02, 7.290e+02, 8.880e+02],\n",
       "         [2.670e+02, 2.660e+02, 3.700e+02, 3.060e+02],\n",
       "         [2.780e+02, 6.290e+02, 3.830e+02, 6.660e+02],\n",
       "         [7.590e+02, 1.470e+02, 8.180e+02, 1.810e+02],\n",
       "         [3.500e+02, 3.410e+02, 4.570e+02, 4.210e+02],\n",
       "         [2.100e+02, 2.290e+02, 2.860e+02, 2.810e+02],\n",
       "         [6.500e+02, 5.400e+02, 7.310e+02, 6.030e+02],\n",
       "         [5.300e+02, 3.450e+02, 6.150e+02, 3.830e+02],\n",
       "         [1.000e+00, 4.400e+02, 8.500e+01, 4.900e+02],\n",
       "         [2.070e+02, 9.290e+02, 2.980e+02, 9.960e+02],\n",
       "         [6.920e+02, 4.930e+02, 7.910e+02, 5.480e+02],\n",
       "         [4.440e+02, 8.810e+02, 5.670e+02, 9.150e+02],\n",
       "         [8.840e+02, 1.460e+02, 1.002e+03, 2.450e+02],\n",
       "         [5.540e+02, 8.750e+02, 6.780e+02, 9.160e+02],\n",
       "         [1.800e+02, 9.780e+02, 4.020e+02, 1.024e+03],\n",
       "         [0.000e+00, 5.120e+02, 1.920e+02, 5.970e+02],\n",
       "         [1.000e+00, 5.380e+02, 2.600e+01, 5.690e+02],\n",
       "         [5.360e+02, 6.200e+02, 6.270e+02, 6.640e+02],\n",
       "         [8.840e+02, 7.760e+02, 9.870e+02, 8.290e+02],\n",
       "         [1.350e+02, 3.100e+02, 1.880e+02, 4.090e+02],\n",
       "         [8.520e+02, 2.310e+02, 9.060e+02, 2.710e+02],\n",
       "         [5.270e+02, 8.470e+02, 6.130e+02, 8.770e+02],\n",
       "         [3.120e+02, 1.000e+00, 3.610e+02, 3.000e+01],\n",
       "         [7.380e+02, 8.610e+02, 8.170e+02, 9.060e+02],\n",
       "         [4.000e+01, 4.790e+02, 1.610e+02, 5.500e+02],\n",
       "         [5.580e+02, 6.060e+02, 7.170e+02, 6.510e+02],\n",
       "         [3.340e+02, 7.930e+02, 4.180e+02, 8.390e+02],\n",
       "         [0.000e+00, 4.790e+02, 4.500e+01, 5.130e+02],\n",
       "         [2.620e+02, 7.100e+01, 4.370e+02, 1.610e+02],\n",
       "         [9.810e+02, 8.880e+02, 1.022e+03, 9.330e+02],\n",
       "         [5.840e+02, 5.700e+01, 6.930e+02, 1.120e+02]], dtype=float32),\n",
       "  'labels': array([1, 1, 1, 1, 1, 1, 1, 1, 1, 1, 1, 1, 1, 1, 1, 1, 1, 1, 1, 1, 1, 1,\n",
       "         1, 1, 1, 1, 1, 1, 1, 1, 1, 1, 1, 1, 1, 1, 1, 1, 1, 1, 1, 1, 1, 1,\n",
       "         1, 1, 1, 1, 1, 1, 1, 1, 1, 1, 1, 1, 1, 1, 1, 1, 1, 1, 1, 1, 1, 1,\n",
       "         1, 1, 1, 1, 1, 1, 1, 1, 1, 1, 1, 1, 1, 1, 1, 1, 1, 1, 1, 1, 1, 1,\n",
       "         1, 1, 1, 1, 1, 1, 1, 1, 1, 1, 1, 1, 1, 1, 1], dtype=int64)})"
      ]
     },
     "execution_count": 3,
     "metadata": {},
     "output_type": "execute_result"
    }
   ],
   "source": [
    "conf = config()\n",
    "WD = WheatDataset(config, is_train=True, augmentation=True, augmentor=augg, random_seed=0)\n",
    "data = WD[0]\n",
    "data"
   ]
  },
  {
   "cell_type": "code",
   "execution_count": null,
   "metadata": {},
   "outputs": [],
   "source": []
  }
 ],
 "metadata": {
  "kernelspec": {
   "display_name": "Python 3",
   "language": "python",
   "name": "python3"
  },
  "toc": {
   "base_numbering": 1,
   "nav_menu": {},
   "number_sections": true,
   "sideBar": true,
   "skip_h1_title": false,
   "title_cell": "Table of Contents",
   "title_sidebar": "Contents",
   "toc_cell": false,
   "toc_position": {},
   "toc_section_display": true,
   "toc_window_display": false
  },
  "varInspector": {
   "cols": {
    "lenName": 16,
    "lenType": 16,
    "lenVar": 40
   },
   "kernels_config": {
    "python": {
     "delete_cmd_postfix": "",
     "delete_cmd_prefix": "del ",
     "library": "var_list.py",
     "varRefreshCmd": "print(var_dic_list())"
    },
    "r": {
     "delete_cmd_postfix": ") ",
     "delete_cmd_prefix": "rm(",
     "library": "var_list.r",
     "varRefreshCmd": "cat(var_dic_list()) "
    }
   },
   "types_to_exclude": [
    "module",
    "function",
    "builtin_function_or_method",
    "instance",
    "_Feature"
   ],
   "window_display": false
  }
 },
 "nbformat": 4,
 "nbformat_minor": 2
}
