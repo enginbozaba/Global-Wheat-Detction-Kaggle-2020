{
 "cells": [
  {
   "cell_type": "code",
   "execution_count": 1,
   "metadata": {
    "ExecuteTime": {
     "end_time": "2020-05-21T20:33:16.340978Z",
     "start_time": "2020-05-21T20:33:09.665850Z"
    }
   },
   "outputs": [],
   "source": [
    "import torch\n",
    "import torchvision\n",
    "import math\n",
    "import pandas as pd\n",
    "import numpy as np\n",
    "import gc\n",
    "from tqdm import tqdm_notebook\n",
    "from torch.utils.tensorboard import SummaryWriter\n",
    "\n",
    "\n",
    "from GWD_data import WheatDataset\n",
    "from metric import calculate_image_precision\n",
    "from utils import collate_fn, plot_boxes, get_model_name, format_prediction_string, remove_blanks, is_contain_blanks\n",
    "from config import config\n"
   ]
  },
  {
   "cell_type": "code",
   "execution_count": 2,
   "metadata": {
    "ExecuteTime": {
     "end_time": "2020-05-21T20:33:17.408216Z",
     "start_time": "2020-05-21T20:33:16.619889Z"
    }
   },
   "outputs": [],
   "source": [
    "conf = config()\n",
    "conf.DEVICE = torch.device('cuda:0') if torch.cuda.is_available() else torch.device('cpu')\n",
    "conf.BATH_SIZE = 4\n",
    "torch.random.manual_seed(5)\n",
    "writer = SummaryWriter(\"runs/Validate_RC\") #\n",
    "\n",
    "\n",
    "WD_Train = WheatDataset(conf, augmentation=False)\n",
    "WD_Valid = WheatDataset(conf, augmentation=False, train=False)\n",
    "WD_Train_Loader = torch.utils.data.DataLoader(WD_Train, batch_size=conf.BATH_SIZE, shuffle=True, collate_fn=collate_fn)\n",
    "WD_Valid_Loader = torch.utils.data.DataLoader(WD_Valid, batch_size=conf.BATH_SIZE, shuffle=True, collate_fn=collate_fn)"
   ]
  },
  {
   "cell_type": "code",
   "execution_count": 3,
   "metadata": {
    "ExecuteTime": {
     "end_time": "2020-05-21T20:33:17.761101Z",
     "start_time": "2020-05-21T20:33:17.747106Z"
    }
   },
   "outputs": [
    {
     "data": {
      "text/plain": [
       "['fasterrcnn_resnet50_fpn_best.pth',\n",
       " 'GWD.pt',\n",
       " 'GWD_EPOCH_0_SCORE_0.0000_LOSS_237.9718.pt',\n",
       " 'GWD_EPOCH_10_SCORE_0.0000_LOSS_206.7397.pt',\n",
       " 'GWD_EPOCH_11_SCORE_0.0000_LOSS_205.6545.pt',\n",
       " 'GWD_EPOCH_12_SCORE_0.0000_LOSS_205.1640.pt',\n",
       " 'GWD_EPOCH_13_SCORE_0.0000_LOSS_205.4779.pt',\n",
       " 'GWD_EPOCH_14_SCORE_0.0000_LOSS_205.5879.pt',\n",
       " 'GWD_EPOCH_15_SCORE_0.0000_LOSS_204.1447.pt',\n",
       " 'GWD_EPOCH_16_SCORE_0.0000_LOSS_201.6743.pt',\n",
       " 'GWD_EPOCH_17_SCORE_0.0000_LOSS_204.0144.pt',\n",
       " 'GWD_EPOCH_18_SCORE_0.0000_LOSS_202.8660.pt',\n",
       " 'GWD_EPOCH_19_SCORE_0.0000_LOSS_201.4089.pt',\n",
       " 'GWD_EPOCH_1_SCORE_0.0000_LOSS_222.6304.pt',\n",
       " 'GWD_EPOCH_20_SCORE_0.0000_LOSS_200.7300.pt',\n",
       " 'GWD_EPOCH_2_SCORE_0.0000_LOSS_218.9721.pt',\n",
       " 'GWD_EPOCH_3_SCORE_0.0000_LOSS_216.0619.pt',\n",
       " 'GWD_EPOCH_4_SCORE_0.0000_LOSS_214.6626.pt',\n",
       " 'GWD_EPOCH_5_SCORE_0.0000_LOSS_211.9636.pt',\n",
       " 'GWD_EPOCH_6_SCORE_0.0000_LOSS_211.5326.pt',\n",
       " 'GWD_EPOCH_7_SCORE_0.0000_LOSS_208.4762.pt',\n",
       " 'GWD_EPOCH_8_SCORE_0.0000_LOSS_208.8839.pt',\n",
       " 'GWD_EPOCH_9_SCORE_0.0000_LOSS_209.3289.pt']"
      ]
     },
     "execution_count": 3,
     "metadata": {},
     "output_type": "execute_result"
    }
   ],
   "source": [
    "import os\n",
    "os.listdir('model/model_rc')"
   ]
  },
  {
   "cell_type": "code",
   "execution_count": 4,
   "metadata": {
    "ExecuteTime": {
     "end_time": "2020-05-21T20:33:18.074001Z",
     "start_time": "2020-05-21T20:33:18.067004Z"
    }
   },
   "outputs": [],
   "source": [
    "model_list = [\n",
    "\n",
    " 'GWD_EPOCH_9_SCORE_0.0000_LOSS_209.3289.pt',\n",
    " 'GWD_EPOCH_10_SCORE_0.0000_LOSS_206.7397.pt',\n",
    " 'GWD_EPOCH_11_SCORE_0.0000_LOSS_205.6545.pt',\n",
    " 'GWD_EPOCH_12_SCORE_0.0000_LOSS_205.1640.pt',\n",
    " 'GWD_EPOCH_13_SCORE_0.0000_LOSS_205.4779.pt',\n",
    " 'GWD_EPOCH_14_SCORE_0.0000_LOSS_205.5879.pt',\n",
    " 'GWD_EPOCH_15_SCORE_0.0000_LOSS_204.1447.pt',\n",
    " 'GWD_EPOCH_16_SCORE_0.0000_LOSS_201.6743.pt',\n",
    " 'GWD_EPOCH_17_SCORE_0.0000_LOSS_204.0144.pt',\n",
    " 'GWD_EPOCH_18_SCORE_0.0000_LOSS_202.8660.pt',\n",
    " 'GWD_EPOCH_19_SCORE_0.0000_LOSS_201.4089.pt'\n",
    " ]"
   ]
  },
  {
   "cell_type": "markdown",
   "metadata": {},
   "source": [
    "# Testing Data"
   ]
  },
  {
   "cell_type": "code",
   "execution_count": 5,
   "metadata": {
    "ExecuteTime": {
     "end_time": "2020-05-21T20:33:20.830391Z",
     "start_time": "2020-05-21T20:33:20.821395Z"
    }
   },
   "outputs": [],
   "source": [
    "torch.cuda.empty_cache()\n"
   ]
  },
  {
   "cell_type": "code",
   "execution_count": 6,
   "metadata": {
    "ExecuteTime": {
     "end_time": "2020-05-21T21:06:58.898131Z",
     "start_time": "2020-05-21T20:33:21.624328Z"
    },
    "scrolled": true
   },
   "outputs": [
    {
     "data": {
      "application/vnd.jupyter.widget-view+json": {
       "model_id": "9ecf8acef1bd4656998ffd2f5c98b92c",
       "version_major": 2,
       "version_minor": 0
      },
      "text/plain": [
       "HBox(children=(IntProgress(value=0, max=11), HTML(value='')))"
      ]
     },
     "metadata": {},
     "output_type": "display_data"
    },
    {
     "data": {
      "application/vnd.jupyter.widget-view+json": {
       "model_id": "e2f98c9624394626b116e9a506db710c",
       "version_major": 2,
       "version_minor": 0
      },
      "text/plain": [
       "HBox(children=(IntProgress(value=0, max=169), HTML(value='')))"
      ]
     },
     "metadata": {},
     "output_type": "display_data"
    },
    {
     "name": "stderr",
     "output_type": "stream",
     "text": [
      "C:\\ProgramData\\Anaconda3\\lib\\site-packages\\torch\\nn\\functional.py:2854: UserWarning: The default behavior for interpolate/upsample with float scale_factor will change in 1.6.0 to align with other frameworks/libraries, and use scale_factor directly, instead of relying on the computed output size. If you wish to keep the old behavior, please set recompute_scale_factor=True. See the documentation of nn.Upsample for details. \n",
      "  warnings.warn(\"The default behavior for interpolate/upsample with float scale_factor will change \"\n",
      "..\\torch\\csrc\\utils\\python_arg_parser.cpp:756: UserWarning: This overload of nonzero is deprecated:\n",
      "\tnonzero(Tensor input, *, Tensor out)\n",
      "Consider using one of the following signatures instead:\n",
      "\tnonzero(Tensor input, *, bool as_tuple)\n"
     ]
    },
    {
     "name": "stdout",
     "output_type": "stream",
     "text": [
      "\n"
     ]
    },
    {
     "data": {
      "application/vnd.jupyter.widget-view+json": {
       "model_id": "827ef9d653e0418390630b222d8dc800",
       "version_major": 2,
       "version_minor": 0
      },
      "text/plain": [
       "HBox(children=(IntProgress(value=0, max=169), HTML(value='')))"
      ]
     },
     "metadata": {},
     "output_type": "display_data"
    },
    {
     "name": "stdout",
     "output_type": "stream",
     "text": [
      "\n"
     ]
    },
    {
     "data": {
      "application/vnd.jupyter.widget-view+json": {
       "model_id": "3b7c74461b9d4238b17b4685ce3d659c",
       "version_major": 2,
       "version_minor": 0
      },
      "text/plain": [
       "HBox(children=(IntProgress(value=0, max=169), HTML(value='')))"
      ]
     },
     "metadata": {},
     "output_type": "display_data"
    },
    {
     "name": "stdout",
     "output_type": "stream",
     "text": [
      "\n"
     ]
    },
    {
     "data": {
      "application/vnd.jupyter.widget-view+json": {
       "model_id": "2f492137155249d78440a2dedb327e75",
       "version_major": 2,
       "version_minor": 0
      },
      "text/plain": [
       "HBox(children=(IntProgress(value=0, max=169), HTML(value='')))"
      ]
     },
     "metadata": {},
     "output_type": "display_data"
    },
    {
     "name": "stdout",
     "output_type": "stream",
     "text": [
      "\n"
     ]
    },
    {
     "data": {
      "application/vnd.jupyter.widget-view+json": {
       "model_id": "751200f483b64d959f899972ba5d33f0",
       "version_major": 2,
       "version_minor": 0
      },
      "text/plain": [
       "HBox(children=(IntProgress(value=0, max=169), HTML(value='')))"
      ]
     },
     "metadata": {},
     "output_type": "display_data"
    },
    {
     "name": "stdout",
     "output_type": "stream",
     "text": [
      "\n"
     ]
    },
    {
     "data": {
      "application/vnd.jupyter.widget-view+json": {
       "model_id": "76d1baa942ed4b3eb5935b2191825e15",
       "version_major": 2,
       "version_minor": 0
      },
      "text/plain": [
       "HBox(children=(IntProgress(value=0, max=169), HTML(value='')))"
      ]
     },
     "metadata": {},
     "output_type": "display_data"
    },
    {
     "name": "stdout",
     "output_type": "stream",
     "text": [
      "\n"
     ]
    },
    {
     "data": {
      "application/vnd.jupyter.widget-view+json": {
       "model_id": "99eb8e081875483eb862bb5ffb4b1774",
       "version_major": 2,
       "version_minor": 0
      },
      "text/plain": [
       "HBox(children=(IntProgress(value=0, max=169), HTML(value='')))"
      ]
     },
     "metadata": {},
     "output_type": "display_data"
    },
    {
     "name": "stdout",
     "output_type": "stream",
     "text": [
      "\n"
     ]
    },
    {
     "data": {
      "application/vnd.jupyter.widget-view+json": {
       "model_id": "f6fefb5eaa7c4c51a047500b37527f82",
       "version_major": 2,
       "version_minor": 0
      },
      "text/plain": [
       "HBox(children=(IntProgress(value=0, max=169), HTML(value='')))"
      ]
     },
     "metadata": {},
     "output_type": "display_data"
    },
    {
     "name": "stdout",
     "output_type": "stream",
     "text": [
      "\n"
     ]
    },
    {
     "data": {
      "application/vnd.jupyter.widget-view+json": {
       "model_id": "afcf8f046b52470d82cfc7f5ddb9fe51",
       "version_major": 2,
       "version_minor": 0
      },
      "text/plain": [
       "HBox(children=(IntProgress(value=0, max=169), HTML(value='')))"
      ]
     },
     "metadata": {},
     "output_type": "display_data"
    },
    {
     "name": "stdout",
     "output_type": "stream",
     "text": [
      "\n"
     ]
    },
    {
     "data": {
      "application/vnd.jupyter.widget-view+json": {
       "model_id": "e06befce18f648b29251431d27e63955",
       "version_major": 2,
       "version_minor": 0
      },
      "text/plain": [
       "HBox(children=(IntProgress(value=0, max=169), HTML(value='')))"
      ]
     },
     "metadata": {},
     "output_type": "display_data"
    },
    {
     "name": "stdout",
     "output_type": "stream",
     "text": [
      "\n"
     ]
    },
    {
     "data": {
      "application/vnd.jupyter.widget-view+json": {
       "model_id": "d20553f5f94b4a3e86abfdbaf1cce958",
       "version_major": 2,
       "version_minor": 0
      },
      "text/plain": [
       "HBox(children=(IntProgress(value=0, max=169), HTML(value='')))"
      ]
     },
     "metadata": {},
     "output_type": "display_data"
    },
    {
     "name": "stdout",
     "output_type": "stream",
     "text": [
      "\n",
      "\n"
     ]
    }
   ],
   "source": [
    "for i in tqdm_notebook(range(len(model_list))):\n",
    "    \n",
    "    EPOCH = int(model_list[i].split('_')[2])\n",
    "    LOSS = float(model_list[i].split('_')[-1][:-3])\n",
    "    \n",
    "    GWD_Model = torch.load('model/model_rc/'+model_list[i])\n",
    "    GWD_Model.eval()\n",
    "    GWD_Model.to(conf.DEVICE)\n",
    "    precisions = []\n",
    "    \n",
    "    for images, targets in tqdm_notebook(WD_Valid_Loader):\n",
    "        try:\n",
    "            images = [torch.tensor(image, dtype = torch.float32).to(conf.DEVICE) for image in images]\n",
    "            preds = GWD_Model(images)\n",
    "\n",
    "            for pred, target in zip(preds, targets):\n",
    "                ground_truth = target['boxes']\n",
    "                pred_boxes = pred['boxes'].to(torch.device('cpu')).detach().numpy()\n",
    "                precisions.append(calculate_image_precision(ground_truth, pred_boxes, thresholds=conf.PRECISION_THRESH))\n",
    "        except:\n",
    "            print('weird shape error')\n",
    "    \n",
    "    test_score = np.mean(np.array(precisions))\n",
    "    writer.add_scalar('Epoch_Vars/Model_Loss', LOSS, EPOCH)\n",
    "    writer.add_scalar('Epoch_Vars/Validation_Score', test_score, EPOCH)\n",
    "    \n",
    "    GWD_Model=None\n",
    "    torch.cuda.empty_cache()\n",
    "    gc.collect()"
   ]
  },
  {
   "cell_type": "markdown",
   "metadata": {},
   "source": [
    "# tRAINING dTA"
   ]
  },
  {
   "cell_type": "code",
   "execution_count": 3,
   "metadata": {
    "ExecuteTime": {
     "end_time": "2020-05-20T20:32:54.345420Z",
     "start_time": "2020-05-20T20:32:54.339422Z"
    }
   },
   "outputs": [],
   "source": [
    "model_list = [\n",
    "\n",
    " 'GWD_EPOCH_74_SCORE_0.0000_LOSS_188.3118.pt',\n",
    " 'GWD_EPOCH_75_SCORE_0.0000_LOSS_186.5710.pt',\n",
    " 'GWD_EPOCH_76_SCORE_0.0000_LOSS_187.5649.pt',\n",
    " 'GWD_EPOCH_77_SCORE_0.0000_LOSS_188.5023.pt',\n",
    " 'GWD_EPOCH_78_SCORE_0.0000_LOSS_187.6333.pt',\n",
    " 'GWD_EPOCH_79_SCORE_0.0000_LOSS_188.6617.pt',\n",
    " 'GWD_EPOCH_80_SCORE_0.0000_LOSS_186.8159.pt',\n",
    " 'GWD_EPOCH_81_SCORE_0.0000_LOSS_186.5748.pt',\n",
    " 'GWD_EPOCH_82_SCORE_0.0000_LOSS_187.3791.pt',\n",
    " 'GWD_EPOCH_83_SCORE_0.0000_LOSS_187.8456.pt',\n",
    " 'GWD_EPOCH_84_SCORE_0.0000_LOSS_187.2457.pt',\n",
    " 'GWD_EPOCH_85_SCORE_0.0000_LOSS_186.4667.pt',\n",
    " 'GWD_EPOCH_86_SCORE_0.0000_LOSS_187.2145.pt',\n",
    " 'GWD_EPOCH_87_SCORE_0.0000_LOSS_187.1556.pt',\n",
    " 'GWD_EPOCH_88_SCORE_0.0000_LOSS_186.3744.pt',\n",
    " 'GWD_EPOCH_89_SCORE_0.0000_LOSS_184.3004.pt',\n",
    " 'GWD_EPOCH_90_SCORE_0.0000_LOSS_185.7923.pt',\n",
    " 'GWD_EPOCH_91_SCORE_0.0000_LOSS_185.0747.pt',\n",
    " 'GWD_EPOCH_92_SCORE_0.0000_LOSS_184.9123.pt',\n",
    " 'GWD_EPOCH_93_SCORE_0.0000_LOSS_185.4093.pt',\n",
    " 'GWD_EPOCH_94_SCORE_0.0000_LOSS_186.2040.pt',\n",
    " 'GWD_EPOCH_95_SCORE_0.0000_LOSS_185.7346.pt',\n",
    " 'GWD_EPOCH_96_SCORE_0.0000_LOSS_185.8636.pt',\n",
    " 'GWD_EPOCH_97_SCORE_0.0000_LOSS_184.2307.pt',\n",
    " 'GWD_EPOCH_98_SCORE_0.0000_LOSS_183.7612.pt',\n",
    " 'GWD_EPOCH_99_SCORE_0.0000_LOSS_186.0609.pt']"
   ]
  },
  {
   "cell_type": "code",
   "execution_count": 4,
   "metadata": {
    "ExecuteTime": {
     "end_time": "2020-05-21T02:32:12.562507Z",
     "start_time": "2020-05-20T20:33:01.060099Z"
    }
   },
   "outputs": [
    {
     "data": {
      "application/vnd.jupyter.widget-view+json": {
       "model_id": "21fa53f1ea9d412291d12182aac9f5a7",
       "version_major": 2,
       "version_minor": 0
      },
      "text/plain": [
       "HBox(children=(IntProgress(value=0, max=26), HTML(value='')))"
      ]
     },
     "metadata": {},
     "output_type": "display_data"
    },
    {
     "data": {
      "application/vnd.jupyter.widget-view+json": {
       "model_id": "7357c1c18e314d67bdae0c75ea087c15",
       "version_major": 2,
       "version_minor": 0
      },
      "text/plain": [
       "HBox(children=(IntProgress(value=0, max=675), HTML(value='')))"
      ]
     },
     "metadata": {},
     "output_type": "display_data"
    },
    {
     "name": "stderr",
     "output_type": "stream",
     "text": [
      "C:\\ProgramData\\Anaconda3\\lib\\site-packages\\torch\\nn\\functional.py:2854: UserWarning: The default behavior for interpolate/upsample with float scale_factor will change in 1.6.0 to align with other frameworks/libraries, and use scale_factor directly, instead of relying on the computed output size. If you wish to keep the old behavior, please set recompute_scale_factor=True. See the documentation of nn.Upsample for details. \n",
      "  warnings.warn(\"The default behavior for interpolate/upsample with float scale_factor will change \"\n",
      "..\\torch\\csrc\\utils\\python_arg_parser.cpp:756: UserWarning: This overload of nonzero is deprecated:\n",
      "\tnonzero(Tensor input, *, Tensor out)\n",
      "Consider using one of the following signatures instead:\n",
      "\tnonzero(Tensor input, *, bool as_tuple)\n"
     ]
    },
    {
     "name": "stdout",
     "output_type": "stream",
     "text": [
      "\n"
     ]
    },
    {
     "data": {
      "application/vnd.jupyter.widget-view+json": {
       "model_id": "e02b5a7cc83541e2ba719cd7eb831727",
       "version_major": 2,
       "version_minor": 0
      },
      "text/plain": [
       "HBox(children=(IntProgress(value=0, max=675), HTML(value='')))"
      ]
     },
     "metadata": {},
     "output_type": "display_data"
    },
    {
     "name": "stdout",
     "output_type": "stream",
     "text": [
      "\n"
     ]
    },
    {
     "data": {
      "application/vnd.jupyter.widget-view+json": {
       "model_id": "ab7e3f10e8a4446fbad9110b537a5da4",
       "version_major": 2,
       "version_minor": 0
      },
      "text/plain": [
       "HBox(children=(IntProgress(value=0, max=675), HTML(value='')))"
      ]
     },
     "metadata": {},
     "output_type": "display_data"
    },
    {
     "name": "stdout",
     "output_type": "stream",
     "text": [
      "\n"
     ]
    },
    {
     "data": {
      "application/vnd.jupyter.widget-view+json": {
       "model_id": "a3a64c68ea4f4028b88364ea61af810b",
       "version_major": 2,
       "version_minor": 0
      },
      "text/plain": [
       "HBox(children=(IntProgress(value=0, max=675), HTML(value='')))"
      ]
     },
     "metadata": {},
     "output_type": "display_data"
    },
    {
     "name": "stdout",
     "output_type": "stream",
     "text": [
      "\n"
     ]
    },
    {
     "data": {
      "application/vnd.jupyter.widget-view+json": {
       "model_id": "154353e30ef54ffe8c8ee0418543e7ac",
       "version_major": 2,
       "version_minor": 0
      },
      "text/plain": [
       "HBox(children=(IntProgress(value=0, max=675), HTML(value='')))"
      ]
     },
     "metadata": {},
     "output_type": "display_data"
    },
    {
     "name": "stdout",
     "output_type": "stream",
     "text": [
      "\n"
     ]
    },
    {
     "data": {
      "application/vnd.jupyter.widget-view+json": {
       "model_id": "c790bad98c7a4149a6669110dc9a34a9",
       "version_major": 2,
       "version_minor": 0
      },
      "text/plain": [
       "HBox(children=(IntProgress(value=0, max=675), HTML(value='')))"
      ]
     },
     "metadata": {},
     "output_type": "display_data"
    },
    {
     "name": "stdout",
     "output_type": "stream",
     "text": [
      "\n"
     ]
    },
    {
     "data": {
      "application/vnd.jupyter.widget-view+json": {
       "model_id": "8bb2d56f4165406cadf5e996c3ee4371",
       "version_major": 2,
       "version_minor": 0
      },
      "text/plain": [
       "HBox(children=(IntProgress(value=0, max=675), HTML(value='')))"
      ]
     },
     "metadata": {},
     "output_type": "display_data"
    },
    {
     "name": "stdout",
     "output_type": "stream",
     "text": [
      "\n"
     ]
    },
    {
     "data": {
      "application/vnd.jupyter.widget-view+json": {
       "model_id": "8ce17c7d6eb64065bbefb71a7b435a5e",
       "version_major": 2,
       "version_minor": 0
      },
      "text/plain": [
       "HBox(children=(IntProgress(value=0, max=675), HTML(value='')))"
      ]
     },
     "metadata": {},
     "output_type": "display_data"
    },
    {
     "name": "stdout",
     "output_type": "stream",
     "text": [
      "\n"
     ]
    },
    {
     "data": {
      "application/vnd.jupyter.widget-view+json": {
       "model_id": "b0d1f07769504b5e82a9899422587f13",
       "version_major": 2,
       "version_minor": 0
      },
      "text/plain": [
       "HBox(children=(IntProgress(value=0, max=675), HTML(value='')))"
      ]
     },
     "metadata": {},
     "output_type": "display_data"
    },
    {
     "name": "stdout",
     "output_type": "stream",
     "text": [
      "\n"
     ]
    },
    {
     "data": {
      "application/vnd.jupyter.widget-view+json": {
       "model_id": "4c42088c017a44a0924708786b001686",
       "version_major": 2,
       "version_minor": 0
      },
      "text/plain": [
       "HBox(children=(IntProgress(value=0, max=675), HTML(value='')))"
      ]
     },
     "metadata": {},
     "output_type": "display_data"
    },
    {
     "name": "stdout",
     "output_type": "stream",
     "text": [
      "\n"
     ]
    },
    {
     "data": {
      "application/vnd.jupyter.widget-view+json": {
       "model_id": "a9306e9e5f3a4444af33393da5dc3270",
       "version_major": 2,
       "version_minor": 0
      },
      "text/plain": [
       "HBox(children=(IntProgress(value=0, max=675), HTML(value='')))"
      ]
     },
     "metadata": {},
     "output_type": "display_data"
    },
    {
     "name": "stdout",
     "output_type": "stream",
     "text": [
      "\n"
     ]
    },
    {
     "data": {
      "application/vnd.jupyter.widget-view+json": {
       "model_id": "bf6d57476aa249528f7fc73ed0100090",
       "version_major": 2,
       "version_minor": 0
      },
      "text/plain": [
       "HBox(children=(IntProgress(value=0, max=675), HTML(value='')))"
      ]
     },
     "metadata": {},
     "output_type": "display_data"
    },
    {
     "name": "stdout",
     "output_type": "stream",
     "text": [
      "\n"
     ]
    },
    {
     "data": {
      "application/vnd.jupyter.widget-view+json": {
       "model_id": "3ea88447de58429497075de18aba86fb",
       "version_major": 2,
       "version_minor": 0
      },
      "text/plain": [
       "HBox(children=(IntProgress(value=0, max=675), HTML(value='')))"
      ]
     },
     "metadata": {},
     "output_type": "display_data"
    },
    {
     "name": "stdout",
     "output_type": "stream",
     "text": [
      "\n"
     ]
    },
    {
     "data": {
      "application/vnd.jupyter.widget-view+json": {
       "model_id": "98c209dec4ca4396bb15db94f57df582",
       "version_major": 2,
       "version_minor": 0
      },
      "text/plain": [
       "HBox(children=(IntProgress(value=0, max=675), HTML(value='')))"
      ]
     },
     "metadata": {},
     "output_type": "display_data"
    },
    {
     "name": "stdout",
     "output_type": "stream",
     "text": [
      "\n"
     ]
    },
    {
     "data": {
      "application/vnd.jupyter.widget-view+json": {
       "model_id": "4e462d0429c34d5eb48436c096dc14d5",
       "version_major": 2,
       "version_minor": 0
      },
      "text/plain": [
       "HBox(children=(IntProgress(value=0, max=675), HTML(value='')))"
      ]
     },
     "metadata": {},
     "output_type": "display_data"
    },
    {
     "name": "stdout",
     "output_type": "stream",
     "text": [
      "\n"
     ]
    },
    {
     "data": {
      "application/vnd.jupyter.widget-view+json": {
       "model_id": "c80c66ef930346649c610d25b0a98c91",
       "version_major": 2,
       "version_minor": 0
      },
      "text/plain": [
       "HBox(children=(IntProgress(value=0, max=675), HTML(value='')))"
      ]
     },
     "metadata": {},
     "output_type": "display_data"
    },
    {
     "name": "stdout",
     "output_type": "stream",
     "text": [
      "\n"
     ]
    },
    {
     "data": {
      "application/vnd.jupyter.widget-view+json": {
       "model_id": "ef858687f394425789a20ba8bf724ed1",
       "version_major": 2,
       "version_minor": 0
      },
      "text/plain": [
       "HBox(children=(IntProgress(value=0, max=675), HTML(value='')))"
      ]
     },
     "metadata": {},
     "output_type": "display_data"
    },
    {
     "name": "stdout",
     "output_type": "stream",
     "text": [
      "\n"
     ]
    },
    {
     "data": {
      "application/vnd.jupyter.widget-view+json": {
       "model_id": "6330e40ab9c446d8b62f0642f6b18bfd",
       "version_major": 2,
       "version_minor": 0
      },
      "text/plain": [
       "HBox(children=(IntProgress(value=0, max=675), HTML(value='')))"
      ]
     },
     "metadata": {},
     "output_type": "display_data"
    },
    {
     "name": "stdout",
     "output_type": "stream",
     "text": [
      "\n"
     ]
    },
    {
     "data": {
      "application/vnd.jupyter.widget-view+json": {
       "model_id": "5818e0549daf4956aad96ea85faa68d9",
       "version_major": 2,
       "version_minor": 0
      },
      "text/plain": [
       "HBox(children=(IntProgress(value=0, max=675), HTML(value='')))"
      ]
     },
     "metadata": {},
     "output_type": "display_data"
    },
    {
     "name": "stdout",
     "output_type": "stream",
     "text": [
      "\n"
     ]
    },
    {
     "data": {
      "application/vnd.jupyter.widget-view+json": {
       "model_id": "08eec392c6f645df96373d44cd1eb341",
       "version_major": 2,
       "version_minor": 0
      },
      "text/plain": [
       "HBox(children=(IntProgress(value=0, max=675), HTML(value='')))"
      ]
     },
     "metadata": {},
     "output_type": "display_data"
    },
    {
     "name": "stdout",
     "output_type": "stream",
     "text": [
      "\n"
     ]
    },
    {
     "data": {
      "application/vnd.jupyter.widget-view+json": {
       "model_id": "ada21057bce04c2cab566aed766de048",
       "version_major": 2,
       "version_minor": 0
      },
      "text/plain": [
       "HBox(children=(IntProgress(value=0, max=675), HTML(value='')))"
      ]
     },
     "metadata": {},
     "output_type": "display_data"
    },
    {
     "name": "stdout",
     "output_type": "stream",
     "text": [
      "\n"
     ]
    },
    {
     "data": {
      "application/vnd.jupyter.widget-view+json": {
       "model_id": "f886294253c64331bd353e65f79cd6dc",
       "version_major": 2,
       "version_minor": 0
      },
      "text/plain": [
       "HBox(children=(IntProgress(value=0, max=675), HTML(value='')))"
      ]
     },
     "metadata": {},
     "output_type": "display_data"
    },
    {
     "name": "stdout",
     "output_type": "stream",
     "text": [
      "\n"
     ]
    },
    {
     "data": {
      "application/vnd.jupyter.widget-view+json": {
       "model_id": "1e93665fd3f54a56bcec8f48cd545553",
       "version_major": 2,
       "version_minor": 0
      },
      "text/plain": [
       "HBox(children=(IntProgress(value=0, max=675), HTML(value='')))"
      ]
     },
     "metadata": {},
     "output_type": "display_data"
    },
    {
     "name": "stdout",
     "output_type": "stream",
     "text": [
      "\n"
     ]
    },
    {
     "data": {
      "application/vnd.jupyter.widget-view+json": {
       "model_id": "53e8cdffeeb2449fa6ded759c5dc7c29",
       "version_major": 2,
       "version_minor": 0
      },
      "text/plain": [
       "HBox(children=(IntProgress(value=0, max=675), HTML(value='')))"
      ]
     },
     "metadata": {},
     "output_type": "display_data"
    },
    {
     "name": "stdout",
     "output_type": "stream",
     "text": [
      "\n"
     ]
    },
    {
     "data": {
      "application/vnd.jupyter.widget-view+json": {
       "model_id": "9a539256e0844b729bbb41ca0efc745f",
       "version_major": 2,
       "version_minor": 0
      },
      "text/plain": [
       "HBox(children=(IntProgress(value=0, max=675), HTML(value='')))"
      ]
     },
     "metadata": {},
     "output_type": "display_data"
    },
    {
     "name": "stdout",
     "output_type": "stream",
     "text": [
      "\n"
     ]
    },
    {
     "data": {
      "application/vnd.jupyter.widget-view+json": {
       "model_id": "3b7a8feaa3f9454e996652c463f4dfb2",
       "version_major": 2,
       "version_minor": 0
      },
      "text/plain": [
       "HBox(children=(IntProgress(value=0, max=675), HTML(value='')))"
      ]
     },
     "metadata": {},
     "output_type": "display_data"
    },
    {
     "name": "stdout",
     "output_type": "stream",
     "text": [
      "\n",
      "\n"
     ]
    }
   ],
   "source": [
    "torch.cuda.empty_cache()\n",
    "for i in tqdm_notebook(range(len(model_list))):\n",
    "    \n",
    "    EPOCH = int(model_list[i].split('_')[2])\n",
    "    LOSS = float(model_list[i].split('_')[-1][:-3])\n",
    "    \n",
    "    GWD_Model = torch.load('model/model_aug/'+model_list[i])\n",
    "    GWD_Model.eval()\n",
    "    GWD_Model.to(conf.DEVICE)\n",
    "    precisions = []\n",
    "    \n",
    "    for images, targets in tqdm_notebook(WD_Train_Loader):\n",
    "        try:\n",
    "            images = [torch.tensor(image, dtype = torch.float32).to(conf.DEVICE) for image in images]\n",
    "            preds = GWD_Model(images)\n",
    "\n",
    "            for pred, target in zip(preds, targets):\n",
    "                ground_truth = target['boxes']\n",
    "                pred_boxes = pred['boxes'].to(torch.device('cpu')).detach().numpy()\n",
    "                precisions.append(calculate_image_precision(ground_truth, pred_boxes, thresholds=conf.PRECISION_THRESH))\n",
    "        except:\n",
    "            print('weird shape error')\n",
    "    \n",
    "    train_score = np.mean(np.array(precisions))\n",
    "    #writer.add_scalar('Epoch_Vars/Model_Loss', LOSS, EPOCH)\n",
    "    writer.add_scalar('Epoch_Vars/Training_Score', train_score, EPOCH)\n",
    "    \n",
    "    GWD_Model=None\n",
    "    torch.cuda.empty_cache()\n",
    "    gc.collect()"
   ]
  },
  {
   "cell_type": "code",
   "execution_count": 39,
   "metadata": {
    "ExecuteTime": {
     "end_time": "2020-05-12T20:40:31.846621Z",
     "start_time": "2020-05-12T20:40:31.358777Z"
    }
   },
   "outputs": [
    {
     "data": {
      "text/html": [
       "<div>\n",
       "<style scoped>\n",
       "    .dataframe tbody tr th:only-of-type {\n",
       "        vertical-align: middle;\n",
       "    }\n",
       "\n",
       "    .dataframe tbody tr th {\n",
       "        vertical-align: top;\n",
       "    }\n",
       "\n",
       "    .dataframe thead th {\n",
       "        text-align: right;\n",
       "    }\n",
       "</style>\n",
       "<table border=\"1\" class=\"dataframe\">\n",
       "  <thead>\n",
       "    <tr style=\"text-align: right;\">\n",
       "      <th></th>\n",
       "      <th>image_id</th>\n",
       "      <th>width</th>\n",
       "      <th>height</th>\n",
       "      <th>bbox</th>\n",
       "      <th>source</th>\n",
       "    </tr>\n",
       "  </thead>\n",
       "  <tbody>\n",
       "    <tr>\n",
       "      <td>147552</td>\n",
       "      <td>893938464</td>\n",
       "      <td>1024</td>\n",
       "      <td>1024</td>\n",
       "      <td>[116.0, 177.0, 445.0, 133.0]</td>\n",
       "      <td>arvalis_2</td>\n",
       "    </tr>\n",
       "  </tbody>\n",
       "</table>\n",
       "</div>"
      ],
      "text/plain": [
       "         image_id  width  height                          bbox     source\n",
       "147552  893938464   1024    1024  [116.0, 177.0, 445.0, 133.0]  arvalis_2"
      ]
     },
     "execution_count": 39,
     "metadata": {},
     "output_type": "execute_result"
    }
   ],
   "source": [
    "i = [173, 3687, 4412, 113947, 117344, 118211, 121633, 121634, 147504, 147552]\n",
    "f = pd.read_csv(conf.DATA_PATH+'/train.csv')\n",
    "I = f[f.image_id == '893938464']\n",
    "B = I[I.bbox=='[116.0, 177.0, 445.0, 133.0]']\n",
    "B"
   ]
  },
  {
   "cell_type": "code",
   "execution_count": 38,
   "metadata": {
    "ExecuteTime": {
     "end_time": "2020-05-12T20:40:22.565411Z",
     "start_time": "2020-05-12T20:40:22.555413Z"
    }
   },
   "outputs": [
    {
     "data": {
      "text/plain": [
       "(147793, 5)"
      ]
     },
     "execution_count": 38,
     "metadata": {},
     "output_type": "execute_result"
    }
   ],
   "source": [
    "f.shape"
   ]
  },
  {
   "cell_type": "code",
   "execution_count": 40,
   "metadata": {
    "ExecuteTime": {
     "end_time": "2020-05-12T20:40:57.285066Z",
     "start_time": "2020-05-12T20:40:57.242081Z"
    }
   },
   "outputs": [
    {
     "data": {
      "text/plain": [
       "(147783, 5)"
      ]
     },
     "execution_count": 40,
     "metadata": {},
     "output_type": "execute_result"
    }
   ],
   "source": [
    "I = f.drop(f.index[i])\n",
    "I.shape"
   ]
  },
  {
   "cell_type": "code",
   "execution_count": null,
   "metadata": {},
   "outputs": [],
   "source": []
  }
 ],
 "metadata": {
  "kernelspec": {
   "display_name": "Python 3",
   "language": "python",
   "name": "python3"
  },
  "language_info": {
   "codemirror_mode": {
    "name": "ipython",
    "version": 3
   },
   "file_extension": ".py",
   "mimetype": "text/x-python",
   "name": "python",
   "nbconvert_exporter": "python",
   "pygments_lexer": "ipython3",
   "version": "3.7.4"
  },
  "toc": {
   "base_numbering": 1,
   "nav_menu": {},
   "number_sections": true,
   "sideBar": true,
   "skip_h1_title": false,
   "title_cell": "Table of Contents",
   "title_sidebar": "Contents",
   "toc_cell": false,
   "toc_position": {},
   "toc_section_display": true,
   "toc_window_display": false
  },
  "varInspector": {
   "cols": {
    "lenName": 16,
    "lenType": 16,
    "lenVar": 40
   },
   "kernels_config": {
    "python": {
     "delete_cmd_postfix": "",
     "delete_cmd_prefix": "del ",
     "library": "var_list.py",
     "varRefreshCmd": "print(var_dic_list())"
    },
    "r": {
     "delete_cmd_postfix": ") ",
     "delete_cmd_prefix": "rm(",
     "library": "var_list.r",
     "varRefreshCmd": "cat(var_dic_list()) "
    }
   },
   "types_to_exclude": [
    "module",
    "function",
    "builtin_function_or_method",
    "instance",
    "_Feature"
   ],
   "window_display": false
  }
 },
 "nbformat": 4,
 "nbformat_minor": 2
}
