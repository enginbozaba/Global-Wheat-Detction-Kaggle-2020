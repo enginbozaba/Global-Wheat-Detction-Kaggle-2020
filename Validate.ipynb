{
 "cells": [
  {
   "cell_type": "code",
   "execution_count": 1,
   "metadata": {
    "ExecuteTime": {
     "end_time": "2020-05-20T04:31:30.415565Z",
     "start_time": "2020-05-20T04:31:13.334388Z"
    }
   },
   "outputs": [],
   "source": [
    "import torch\n",
    "import torchvision\n",
    "import math\n",
    "import pandas as pd\n",
    "import numpy as np\n",
    "import gc\n",
    "from tqdm import tqdm_notebook\n",
    "from torch.utils.tensorboard import SummaryWriter\n",
    "\n",
    "\n",
    "from GWD_data import WheatDataset\n",
    "from metric import calculate_image_precision\n",
    "from utils import collate_fn, plot_boxes, get_model_name, format_prediction_string, remove_blanks, is_contain_blanks\n",
    "from config import config\n"
   ]
  },
  {
   "cell_type": "code",
   "execution_count": 2,
   "metadata": {
    "ExecuteTime": {
     "end_time": "2020-05-20T04:31:31.379250Z",
     "start_time": "2020-05-20T04:31:30.421574Z"
    }
   },
   "outputs": [],
   "source": [
    "conf = config()\n",
    "conf.DEVICE = torch.device('cuda:0') if torch.cuda.is_available() else torch.device('cpu')\n",
    "conf.BATH_SIZE = 4\n",
    "torch.random.manual_seed(5)\n",
    "writer = SummaryWriter(\"runs/Validate\") #\n",
    "\n",
    "\n",
    "WD_Train = WheatDataset(conf, augmentation=False)\n",
    "WD_Valid = WheatDataset(conf, augmentation=False, train=False)\n",
    "WD_Train_Loader = torch.utils.data.DataLoader(WD_Train, batch_size=conf.BATH_SIZE, shuffle=True, collate_fn=collate_fn)\n",
    "WD_Valid_Loader = torch.utils.data.DataLoader(WD_Valid, batch_size=conf.BATH_SIZE, shuffle=True, collate_fn=collate_fn)"
   ]
  },
  {
   "cell_type": "code",
   "execution_count": 3,
   "metadata": {
    "ExecuteTime": {
     "end_time": "2020-05-20T04:31:37.541133Z",
     "start_time": "2020-05-20T04:31:37.524138Z"
    }
   },
   "outputs": [
    {
     "data": {
      "text/plain": [
       "['GWD.pt',\n",
       " 'GWD_EPOCH_0_SCORE_0.0000_LOSS_3332025901956944363520.0000.pt',\n",
       " 'GWD_EPOCH_50_SCORE_0.0000_LOSS_230.9741.pt',\n",
       " 'GWD_EPOCH_51_SCORE_0.0000_LOSS_214.4186.pt',\n",
       " 'GWD_EPOCH_52_SCORE_0.0000_LOSS_211.4518.pt',\n",
       " 'GWD_EPOCH_53_SCORE_0.0000_LOSS_209.2590.pt',\n",
       " 'GWD_EPOCH_54_SCORE_0.0000_LOSS_208.4643.pt',\n",
       " 'GWD_EPOCH_55_SCORE_0.0000_LOSS_207.5890.pt',\n",
       " 'GWD_EPOCH_56_SCORE_0.0000_LOSS_206.8142.pt',\n",
       " 'GWD_EPOCH_57_SCORE_0.0000_LOSS_201.7957.pt',\n",
       " 'GWD_EPOCH_58_SCORE_0.0000_LOSS_202.5311.pt',\n",
       " 'GWD_EPOCH_59_SCORE_0.0000_LOSS_203.9009.pt',\n",
       " 'GWD_EPOCH_60_SCORE_0.0000_LOSS_196.5959.pt',\n",
       " 'GWD_EPOCH_61_SCORE_0.0000_LOSS_194.2428.pt',\n",
       " 'GWD_EPOCH_62_SCORE_0.0000_LOSS_194.8321.pt',\n",
       " 'GWD_EPOCH_63_SCORE_0.0000_LOSS_193.6661.pt',\n",
       " 'GWD_EPOCH_64_SCORE_0.0000_LOSS_193.3471.pt',\n",
       " 'GWD_EPOCH_65_SCORE_0.0000_LOSS_192.2357.pt',\n",
       " 'GWD_EPOCH_66_SCORE_0.0000_LOSS_191.0659.pt',\n",
       " 'GWD_EPOCH_67_SCORE_0.0000_LOSS_193.7352.pt',\n",
       " 'GWD_EPOCH_68_SCORE_0.0000_LOSS_192.4975.pt',\n",
       " 'GWD_EPOCH_69_SCORE_0.0000_LOSS_192.5318.pt',\n",
       " 'GWD_EPOCH_70_SCORE_0.0000_LOSS_190.3728.pt',\n",
       " 'GWD_EPOCH_71_SCORE_0.0000_LOSS_188.8550.pt',\n",
       " 'GWD_EPOCH_72_SCORE_0.0000_LOSS_188.6531.pt',\n",
       " 'GWD_EPOCH_73_SCORE_0.0000_LOSS_191.5888.pt',\n",
       " 'GWD_EPOCH_74_SCORE_0.0000_LOSS_188.3118.pt',\n",
       " 'GWD_EPOCH_75_SCORE_0.0000_LOSS_186.5710.pt',\n",
       " 'GWD_EPOCH_76_SCORE_0.0000_LOSS_187.5649.pt',\n",
       " 'GWD_EPOCH_77_SCORE_0.0000_LOSS_188.5023.pt',\n",
       " 'GWD_EPOCH_78_SCORE_0.0000_LOSS_187.6333.pt',\n",
       " 'GWD_EPOCH_79_SCORE_0.0000_LOSS_188.6617.pt',\n",
       " 'GWD_EPOCH_80_SCORE_0.0000_LOSS_186.8159.pt',\n",
       " 'GWD_EPOCH_81_SCORE_0.0000_LOSS_186.5748.pt',\n",
       " 'GWD_EPOCH_82_SCORE_0.0000_LOSS_187.3791.pt',\n",
       " 'GWD_EPOCH_83_SCORE_0.0000_LOSS_187.8456.pt',\n",
       " 'GWD_EPOCH_84_SCORE_0.0000_LOSS_187.2457.pt',\n",
       " 'GWD_EPOCH_85_SCORE_0.0000_LOSS_186.4667.pt',\n",
       " 'GWD_EPOCH_86_SCORE_0.0000_LOSS_187.2145.pt',\n",
       " 'GWD_EPOCH_87_SCORE_0.0000_LOSS_187.1556.pt',\n",
       " 'GWD_EPOCH_88_SCORE_0.0000_LOSS_186.3744.pt',\n",
       " 'GWD_EPOCH_89_SCORE_0.0000_LOSS_184.3004.pt',\n",
       " 'GWD_EPOCH_90_SCORE_0.0000_LOSS_185.7923.pt',\n",
       " 'GWD_EPOCH_91_SCORE_0.0000_LOSS_185.0747.pt',\n",
       " 'GWD_EPOCH_92_SCORE_0.0000_LOSS_184.9123.pt',\n",
       " 'GWD_EPOCH_93_SCORE_0.0000_LOSS_185.4093.pt',\n",
       " 'GWD_EPOCH_94_SCORE_0.0000_LOSS_186.2040.pt']"
      ]
     },
     "execution_count": 3,
     "metadata": {},
     "output_type": "execute_result"
    }
   ],
   "source": [
    "import os\n",
    "os.listdir('model/model_aug')"
   ]
  },
  {
   "cell_type": "code",
   "execution_count": 4,
   "metadata": {
    "ExecuteTime": {
     "end_time": "2020-05-20T04:31:57.409759Z",
     "start_time": "2020-05-20T04:31:57.401761Z"
    }
   },
   "outputs": [],
   "source": [
    "model_list = [\n",
    " 'GWD_EPOCH_74_SCORE_0.0000_LOSS_188.3118.pt',\n",
    " 'GWD_EPOCH_75_SCORE_0.0000_LOSS_186.5710.pt',\n",
    " 'GWD_EPOCH_76_SCORE_0.0000_LOSS_187.5649.pt',\n",
    " 'GWD_EPOCH_77_SCORE_0.0000_LOSS_188.5023.pt',\n",
    " 'GWD_EPOCH_78_SCORE_0.0000_LOSS_187.6333.pt',\n",
    " 'GWD_EPOCH_79_SCORE_0.0000_LOSS_188.6617.pt',\n",
    " 'GWD_EPOCH_80_SCORE_0.0000_LOSS_186.8159.pt',\n",
    " 'GWD_EPOCH_81_SCORE_0.0000_LOSS_186.5748.pt',\n",
    " 'GWD_EPOCH_82_SCORE_0.0000_LOSS_187.3791.pt',\n",
    " 'GWD_EPOCH_83_SCORE_0.0000_LOSS_187.8456.pt',\n",
    " 'GWD_EPOCH_84_SCORE_0.0000_LOSS_187.2457.pt',\n",
    " 'GWD_EPOCH_85_SCORE_0.0000_LOSS_186.4667.pt',\n",
    " 'GWD_EPOCH_86_SCORE_0.0000_LOSS_187.2145.pt',\n",
    " 'GWD_EPOCH_87_SCORE_0.0000_LOSS_187.1556.pt',\n",
    " 'GWD_EPOCH_88_SCORE_0.0000_LOSS_186.3744.pt',\n",
    " 'GWD_EPOCH_89_SCORE_0.0000_LOSS_184.3004.pt',\n",
    " 'GWD_EPOCH_90_SCORE_0.0000_LOSS_185.7923.pt',\n",
    " 'GWD_EPOCH_91_SCORE_0.0000_LOSS_185.0747.pt',\n",
    " 'GWD_EPOCH_92_SCORE_0.0000_LOSS_184.9123.pt',\n",
    " 'GWD_EPOCH_93_SCORE_0.0000_LOSS_185.4093.pt',\n",
    " 'GWD_EPOCH_94_SCORE_0.0000_LOSS_186.2040.pt']"
   ]
  },
  {
   "cell_type": "markdown",
   "metadata": {},
   "source": [
    "# Testing Data"
   ]
  },
  {
   "cell_type": "code",
   "execution_count": 5,
   "metadata": {
    "ExecuteTime": {
     "end_time": "2020-05-20T04:32:00.130891Z",
     "start_time": "2020-05-20T04:32:00.125892Z"
    }
   },
   "outputs": [],
   "source": [
    "torch.cuda.empty_cache()"
   ]
  },
  {
   "cell_type": "code",
   "execution_count": 6,
   "metadata": {
    "ExecuteTime": {
     "end_time": "2020-05-20T05:40:07.156934Z",
     "start_time": "2020-05-20T04:32:02.935886Z"
    },
    "scrolled": true
   },
   "outputs": [
    {
     "data": {
      "application/vnd.jupyter.widget-view+json": {
       "model_id": "4ddaeb6e0682496192df3ebe6b1db9cb",
       "version_major": 2,
       "version_minor": 0
      },
      "text/plain": [
       "HBox(children=(IntProgress(value=0, max=21), HTML(value='')))"
      ]
     },
     "metadata": {},
     "output_type": "display_data"
    },
    {
     "data": {
      "application/vnd.jupyter.widget-view+json": {
       "model_id": "a1b5be8ce01240368aabef4e456f3374",
       "version_major": 2,
       "version_minor": 0
      },
      "text/plain": [
       "HBox(children=(IntProgress(value=0, max=169), HTML(value='')))"
      ]
     },
     "metadata": {},
     "output_type": "display_data"
    },
    {
     "name": "stderr",
     "output_type": "stream",
     "text": [
      "C:\\ProgramData\\Anaconda3\\lib\\site-packages\\torch\\nn\\functional.py:2854: UserWarning: The default behavior for interpolate/upsample with float scale_factor will change in 1.6.0 to align with other frameworks/libraries, and use scale_factor directly, instead of relying on the computed output size. If you wish to keep the old behavior, please set recompute_scale_factor=True. See the documentation of nn.Upsample for details. \n",
      "  warnings.warn(\"The default behavior for interpolate/upsample with float scale_factor will change \"\n",
      "..\\torch\\csrc\\utils\\python_arg_parser.cpp:756: UserWarning: This overload of nonzero is deprecated:\n",
      "\tnonzero(Tensor input, *, Tensor out)\n",
      "Consider using one of the following signatures instead:\n",
      "\tnonzero(Tensor input, *, bool as_tuple)\n"
     ]
    },
    {
     "name": "stdout",
     "output_type": "stream",
     "text": [
      "\n"
     ]
    },
    {
     "data": {
      "application/vnd.jupyter.widget-view+json": {
       "model_id": "82513a646d70446c9c5f7a34b119ebdb",
       "version_major": 2,
       "version_minor": 0
      },
      "text/plain": [
       "HBox(children=(IntProgress(value=0, max=169), HTML(value='')))"
      ]
     },
     "metadata": {},
     "output_type": "display_data"
    },
    {
     "name": "stdout",
     "output_type": "stream",
     "text": [
      "\n"
     ]
    },
    {
     "data": {
      "application/vnd.jupyter.widget-view+json": {
       "model_id": "a635fcc1ae9c4db783a57cff1aa04d50",
       "version_major": 2,
       "version_minor": 0
      },
      "text/plain": [
       "HBox(children=(IntProgress(value=0, max=169), HTML(value='')))"
      ]
     },
     "metadata": {},
     "output_type": "display_data"
    },
    {
     "name": "stdout",
     "output_type": "stream",
     "text": [
      "\n"
     ]
    },
    {
     "data": {
      "application/vnd.jupyter.widget-view+json": {
       "model_id": "ccdcc81fe724486ab0cbda22cc6ac304",
       "version_major": 2,
       "version_minor": 0
      },
      "text/plain": [
       "HBox(children=(IntProgress(value=0, max=169), HTML(value='')))"
      ]
     },
     "metadata": {},
     "output_type": "display_data"
    },
    {
     "name": "stdout",
     "output_type": "stream",
     "text": [
      "\n"
     ]
    },
    {
     "data": {
      "application/vnd.jupyter.widget-view+json": {
       "model_id": "1d68ad3070534ed19d2b69356ea03c8a",
       "version_major": 2,
       "version_minor": 0
      },
      "text/plain": [
       "HBox(children=(IntProgress(value=0, max=169), HTML(value='')))"
      ]
     },
     "metadata": {},
     "output_type": "display_data"
    },
    {
     "name": "stdout",
     "output_type": "stream",
     "text": [
      "\n"
     ]
    },
    {
     "data": {
      "application/vnd.jupyter.widget-view+json": {
       "model_id": "dafcd0d5db174087afbf4a6a2fee175a",
       "version_major": 2,
       "version_minor": 0
      },
      "text/plain": [
       "HBox(children=(IntProgress(value=0, max=169), HTML(value='')))"
      ]
     },
     "metadata": {},
     "output_type": "display_data"
    },
    {
     "name": "stdout",
     "output_type": "stream",
     "text": [
      "\n"
     ]
    },
    {
     "data": {
      "application/vnd.jupyter.widget-view+json": {
       "model_id": "d71199c3e54e487d91693f3752f88b37",
       "version_major": 2,
       "version_minor": 0
      },
      "text/plain": [
       "HBox(children=(IntProgress(value=0, max=169), HTML(value='')))"
      ]
     },
     "metadata": {},
     "output_type": "display_data"
    },
    {
     "name": "stdout",
     "output_type": "stream",
     "text": [
      "\n"
     ]
    },
    {
     "data": {
      "application/vnd.jupyter.widget-view+json": {
       "model_id": "f82ff84f56274a8291ae676fc73d1dde",
       "version_major": 2,
       "version_minor": 0
      },
      "text/plain": [
       "HBox(children=(IntProgress(value=0, max=169), HTML(value='')))"
      ]
     },
     "metadata": {},
     "output_type": "display_data"
    },
    {
     "name": "stdout",
     "output_type": "stream",
     "text": [
      "\n"
     ]
    },
    {
     "data": {
      "application/vnd.jupyter.widget-view+json": {
       "model_id": "b677c15663864fca8351bc64ce28f1c1",
       "version_major": 2,
       "version_minor": 0
      },
      "text/plain": [
       "HBox(children=(IntProgress(value=0, max=169), HTML(value='')))"
      ]
     },
     "metadata": {},
     "output_type": "display_data"
    },
    {
     "name": "stdout",
     "output_type": "stream",
     "text": [
      "\n"
     ]
    },
    {
     "data": {
      "application/vnd.jupyter.widget-view+json": {
       "model_id": "cb34fff99c5d42a196d4df943f926d79",
       "version_major": 2,
       "version_minor": 0
      },
      "text/plain": [
       "HBox(children=(IntProgress(value=0, max=169), HTML(value='')))"
      ]
     },
     "metadata": {},
     "output_type": "display_data"
    },
    {
     "name": "stdout",
     "output_type": "stream",
     "text": [
      "\n"
     ]
    },
    {
     "data": {
      "application/vnd.jupyter.widget-view+json": {
       "model_id": "eac1cf2dcf8a42bfb61c030f1979c373",
       "version_major": 2,
       "version_minor": 0
      },
      "text/plain": [
       "HBox(children=(IntProgress(value=0, max=169), HTML(value='')))"
      ]
     },
     "metadata": {},
     "output_type": "display_data"
    },
    {
     "name": "stdout",
     "output_type": "stream",
     "text": [
      "\n"
     ]
    },
    {
     "data": {
      "application/vnd.jupyter.widget-view+json": {
       "model_id": "c7f14942945f4b0ebc0470053f737deb",
       "version_major": 2,
       "version_minor": 0
      },
      "text/plain": [
       "HBox(children=(IntProgress(value=0, max=169), HTML(value='')))"
      ]
     },
     "metadata": {},
     "output_type": "display_data"
    },
    {
     "name": "stdout",
     "output_type": "stream",
     "text": [
      "\n"
     ]
    },
    {
     "data": {
      "application/vnd.jupyter.widget-view+json": {
       "model_id": "60d17baf3f7740528a097f8875f7246d",
       "version_major": 2,
       "version_minor": 0
      },
      "text/plain": [
       "HBox(children=(IntProgress(value=0, max=169), HTML(value='')))"
      ]
     },
     "metadata": {},
     "output_type": "display_data"
    },
    {
     "name": "stdout",
     "output_type": "stream",
     "text": [
      "\n"
     ]
    },
    {
     "data": {
      "application/vnd.jupyter.widget-view+json": {
       "model_id": "a08e939037ef43a0aef3bfc2f614d8c4",
       "version_major": 2,
       "version_minor": 0
      },
      "text/plain": [
       "HBox(children=(IntProgress(value=0, max=169), HTML(value='')))"
      ]
     },
     "metadata": {},
     "output_type": "display_data"
    },
    {
     "name": "stdout",
     "output_type": "stream",
     "text": [
      "\n"
     ]
    },
    {
     "data": {
      "application/vnd.jupyter.widget-view+json": {
       "model_id": "e593384c5f51448fb930d0ab31f2539e",
       "version_major": 2,
       "version_minor": 0
      },
      "text/plain": [
       "HBox(children=(IntProgress(value=0, max=169), HTML(value='')))"
      ]
     },
     "metadata": {},
     "output_type": "display_data"
    },
    {
     "name": "stdout",
     "output_type": "stream",
     "text": [
      "\n"
     ]
    },
    {
     "data": {
      "application/vnd.jupyter.widget-view+json": {
       "model_id": "168eed3872694810907eeaef34d2c8db",
       "version_major": 2,
       "version_minor": 0
      },
      "text/plain": [
       "HBox(children=(IntProgress(value=0, max=169), HTML(value='')))"
      ]
     },
     "metadata": {},
     "output_type": "display_data"
    },
    {
     "name": "stdout",
     "output_type": "stream",
     "text": [
      "\n"
     ]
    },
    {
     "data": {
      "application/vnd.jupyter.widget-view+json": {
       "model_id": "f2f09506dd0043bca279ab859b336f3d",
       "version_major": 2,
       "version_minor": 0
      },
      "text/plain": [
       "HBox(children=(IntProgress(value=0, max=169), HTML(value='')))"
      ]
     },
     "metadata": {},
     "output_type": "display_data"
    },
    {
     "name": "stdout",
     "output_type": "stream",
     "text": [
      "\n"
     ]
    },
    {
     "data": {
      "application/vnd.jupyter.widget-view+json": {
       "model_id": "b82a103fd2e84321badd2b42c2f5bb30",
       "version_major": 2,
       "version_minor": 0
      },
      "text/plain": [
       "HBox(children=(IntProgress(value=0, max=169), HTML(value='')))"
      ]
     },
     "metadata": {},
     "output_type": "display_data"
    },
    {
     "name": "stdout",
     "output_type": "stream",
     "text": [
      "\n"
     ]
    },
    {
     "data": {
      "application/vnd.jupyter.widget-view+json": {
       "model_id": "82a126189e9a4ea18c90546f75bdb96f",
       "version_major": 2,
       "version_minor": 0
      },
      "text/plain": [
       "HBox(children=(IntProgress(value=0, max=169), HTML(value='')))"
      ]
     },
     "metadata": {},
     "output_type": "display_data"
    },
    {
     "name": "stdout",
     "output_type": "stream",
     "text": [
      "\n"
     ]
    },
    {
     "data": {
      "application/vnd.jupyter.widget-view+json": {
       "model_id": "8c8c3bb840f74d9098bb202ee2486254",
       "version_major": 2,
       "version_minor": 0
      },
      "text/plain": [
       "HBox(children=(IntProgress(value=0, max=169), HTML(value='')))"
      ]
     },
     "metadata": {},
     "output_type": "display_data"
    },
    {
     "name": "stdout",
     "output_type": "stream",
     "text": [
      "\n"
     ]
    },
    {
     "data": {
      "application/vnd.jupyter.widget-view+json": {
       "model_id": "04a657e6bf9f40929e6a2f83585c8885",
       "version_major": 2,
       "version_minor": 0
      },
      "text/plain": [
       "HBox(children=(IntProgress(value=0, max=169), HTML(value='')))"
      ]
     },
     "metadata": {},
     "output_type": "display_data"
    },
    {
     "name": "stdout",
     "output_type": "stream",
     "text": [
      "\n",
      "\n"
     ]
    }
   ],
   "source": [
    "for i in tqdm_notebook(range(len(model_list))):\n",
    "    \n",
    "    EPOCH = int(model_list[i].split('_')[2])\n",
    "    LOSS = float(model_list[i].split('_')[-1][:-3])\n",
    "    \n",
    "    GWD_Model = torch.load('model/model_aug/'+model_list[i])\n",
    "    GWD_Model.eval()\n",
    "    GWD_Model.to(conf.DEVICE)\n",
    "    precisions = []\n",
    "    \n",
    "    for images, targets in tqdm_notebook(WD_Valid_Loader):\n",
    "        try:\n",
    "            images = [torch.tensor(image, dtype = torch.float32).to(conf.DEVICE) for image in images]\n",
    "            preds = GWD_Model(images)\n",
    "\n",
    "            for pred, target in zip(preds, targets):\n",
    "                ground_truth = target['boxes']\n",
    "                pred_boxes = pred['boxes'].to(torch.device('cpu')).detach().numpy()\n",
    "                precisions.append(calculate_image_precision(ground_truth, pred_boxes, thresholds=conf.PRECISION_THRESH))\n",
    "        except:\n",
    "            print('weird shape error')\n",
    "    \n",
    "    test_score = np.mean(np.array(precisions))\n",
    "    writer.add_scalar('Epoch_Vars/Model_Loss', LOSS, EPOCH)\n",
    "    writer.add_scalar('Epoch_Vars/Validation_Score', test_score, EPOCH)\n",
    "    \n",
    "    GWD_Model=None\n",
    "    torch.cuda.empty_cache()\n",
    "    gc.collect()"
   ]
  },
  {
   "cell_type": "markdown",
   "metadata": {},
   "source": [
    "# tRAINING dTA"
   ]
  },
  {
   "cell_type": "code",
   "execution_count": 3,
   "metadata": {
    "ExecuteTime": {
     "end_time": "2020-05-19T21:51:14.288718Z",
     "start_time": "2020-05-19T21:51:14.277720Z"
    }
   },
   "outputs": [],
   "source": [
    "model_list = [\n",
    "\n",
    " 'GWD_EPOCH_50_SCORE_0.0000_LOSS_230.9741.pt',\n",
    " 'GWD_EPOCH_51_SCORE_0.0000_LOSS_214.4186.pt',\n",
    " 'GWD_EPOCH_52_SCORE_0.0000_LOSS_211.4518.pt',\n",
    " 'GWD_EPOCH_53_SCORE_0.0000_LOSS_209.2590.pt',\n",
    " 'GWD_EPOCH_54_SCORE_0.0000_LOSS_208.4643.pt',\n",
    " 'GWD_EPOCH_55_SCORE_0.0000_LOSS_207.5890.pt',\n",
    " 'GWD_EPOCH_56_SCORE_0.0000_LOSS_206.8142.pt',\n",
    " 'GWD_EPOCH_57_SCORE_0.0000_LOSS_201.7957.pt',\n",
    " 'GWD_EPOCH_58_SCORE_0.0000_LOSS_202.5311.pt',\n",
    " 'GWD_EPOCH_59_SCORE_0.0000_LOSS_203.9009.pt',\n",
    " 'GWD_EPOCH_60_SCORE_0.0000_LOSS_196.5959.pt',\n",
    " 'GWD_EPOCH_61_SCORE_0.0000_LOSS_194.2428.pt',\n",
    " 'GWD_EPOCH_62_SCORE_0.0000_LOSS_194.8321.pt',\n",
    " 'GWD_EPOCH_63_SCORE_0.0000_LOSS_193.6661.pt',\n",
    " 'GWD_EPOCH_64_SCORE_0.0000_LOSS_193.3471.pt',\n",
    " 'GWD_EPOCH_65_SCORE_0.0000_LOSS_192.2357.pt',\n",
    " 'GWD_EPOCH_66_SCORE_0.0000_LOSS_191.0659.pt',\n",
    " 'GWD_EPOCH_67_SCORE_0.0000_LOSS_193.7352.pt',\n",
    " 'GWD_EPOCH_68_SCORE_0.0000_LOSS_192.4975.pt',\n",
    " 'GWD_EPOCH_69_SCORE_0.0000_LOSS_192.5318.pt',\n",
    " 'GWD_EPOCH_70_SCORE_0.0000_LOSS_190.3728.pt',\n",
    " 'GWD_EPOCH_71_SCORE_0.0000_LOSS_188.8550.pt',\n",
    " 'GWD_EPOCH_72_SCORE_0.0000_LOSS_188.6531.pt',\n",
    " 'GWD_EPOCH_73_SCORE_0.0000_LOSS_191.5888.pt']"
   ]
  },
  {
   "cell_type": "code",
   "execution_count": 4,
   "metadata": {
    "ExecuteTime": {
     "end_time": "2020-05-20T03:25:02.764817Z",
     "start_time": "2020-05-19T21:51:16.126567Z"
    }
   },
   "outputs": [
    {
     "data": {
      "application/vnd.jupyter.widget-view+json": {
       "model_id": "e961258918284b598f78ad5ae01539b1",
       "version_major": 2,
       "version_minor": 0
      },
      "text/plain": [
       "HBox(children=(IntProgress(value=0, max=24), HTML(value='')))"
      ]
     },
     "metadata": {},
     "output_type": "display_data"
    },
    {
     "data": {
      "application/vnd.jupyter.widget-view+json": {
       "model_id": "93b021be273643ef8e73bce401733c07",
       "version_major": 2,
       "version_minor": 0
      },
      "text/plain": [
       "HBox(children=(IntProgress(value=0, max=675), HTML(value='')))"
      ]
     },
     "metadata": {},
     "output_type": "display_data"
    },
    {
     "name": "stderr",
     "output_type": "stream",
     "text": [
      "C:\\ProgramData\\Anaconda3\\lib\\site-packages\\torch\\nn\\functional.py:2854: UserWarning: The default behavior for interpolate/upsample with float scale_factor will change in 1.6.0 to align with other frameworks/libraries, and use scale_factor directly, instead of relying on the computed output size. If you wish to keep the old behavior, please set recompute_scale_factor=True. See the documentation of nn.Upsample for details. \n",
      "  warnings.warn(\"The default behavior for interpolate/upsample with float scale_factor will change \"\n",
      "..\\torch\\csrc\\utils\\python_arg_parser.cpp:756: UserWarning: This overload of nonzero is deprecated:\n",
      "\tnonzero(Tensor input, *, Tensor out)\n",
      "Consider using one of the following signatures instead:\n",
      "\tnonzero(Tensor input, *, bool as_tuple)\n"
     ]
    },
    {
     "name": "stdout",
     "output_type": "stream",
     "text": [
      "\n"
     ]
    },
    {
     "data": {
      "application/vnd.jupyter.widget-view+json": {
       "model_id": "2ef8aa914213489abee31e762dd6e614",
       "version_major": 2,
       "version_minor": 0
      },
      "text/plain": [
       "HBox(children=(IntProgress(value=0, max=675), HTML(value='')))"
      ]
     },
     "metadata": {},
     "output_type": "display_data"
    },
    {
     "name": "stdout",
     "output_type": "stream",
     "text": [
      "\n"
     ]
    },
    {
     "data": {
      "application/vnd.jupyter.widget-view+json": {
       "model_id": "097ca6c5f5294d29a4baf33b919e50b6",
       "version_major": 2,
       "version_minor": 0
      },
      "text/plain": [
       "HBox(children=(IntProgress(value=0, max=675), HTML(value='')))"
      ]
     },
     "metadata": {},
     "output_type": "display_data"
    },
    {
     "name": "stdout",
     "output_type": "stream",
     "text": [
      "\n"
     ]
    },
    {
     "data": {
      "application/vnd.jupyter.widget-view+json": {
       "model_id": "a3b454d3c8d64b4b932e62443c33187c",
       "version_major": 2,
       "version_minor": 0
      },
      "text/plain": [
       "HBox(children=(IntProgress(value=0, max=675), HTML(value='')))"
      ]
     },
     "metadata": {},
     "output_type": "display_data"
    },
    {
     "name": "stdout",
     "output_type": "stream",
     "text": [
      "\n"
     ]
    },
    {
     "data": {
      "application/vnd.jupyter.widget-view+json": {
       "model_id": "cb664605ac394fc68af316cd915e905e",
       "version_major": 2,
       "version_minor": 0
      },
      "text/plain": [
       "HBox(children=(IntProgress(value=0, max=675), HTML(value='')))"
      ]
     },
     "metadata": {},
     "output_type": "display_data"
    },
    {
     "name": "stdout",
     "output_type": "stream",
     "text": [
      "\n"
     ]
    },
    {
     "data": {
      "application/vnd.jupyter.widget-view+json": {
       "model_id": "eba2a120626b4024a777f8764022dea1",
       "version_major": 2,
       "version_minor": 0
      },
      "text/plain": [
       "HBox(children=(IntProgress(value=0, max=675), HTML(value='')))"
      ]
     },
     "metadata": {},
     "output_type": "display_data"
    },
    {
     "name": "stdout",
     "output_type": "stream",
     "text": [
      "\n"
     ]
    },
    {
     "data": {
      "application/vnd.jupyter.widget-view+json": {
       "model_id": "a9b1b657383f46018c32e70bf8054702",
       "version_major": 2,
       "version_minor": 0
      },
      "text/plain": [
       "HBox(children=(IntProgress(value=0, max=675), HTML(value='')))"
      ]
     },
     "metadata": {},
     "output_type": "display_data"
    },
    {
     "name": "stdout",
     "output_type": "stream",
     "text": [
      "\n"
     ]
    },
    {
     "data": {
      "application/vnd.jupyter.widget-view+json": {
       "model_id": "b7f03a36e55f4acaab0ed86ae467291e",
       "version_major": 2,
       "version_minor": 0
      },
      "text/plain": [
       "HBox(children=(IntProgress(value=0, max=675), HTML(value='')))"
      ]
     },
     "metadata": {},
     "output_type": "display_data"
    },
    {
     "name": "stdout",
     "output_type": "stream",
     "text": [
      "\n"
     ]
    },
    {
     "data": {
      "application/vnd.jupyter.widget-view+json": {
       "model_id": "f41aa5f379d04a1f909d01d980ca0bba",
       "version_major": 2,
       "version_minor": 0
      },
      "text/plain": [
       "HBox(children=(IntProgress(value=0, max=675), HTML(value='')))"
      ]
     },
     "metadata": {},
     "output_type": "display_data"
    },
    {
     "name": "stdout",
     "output_type": "stream",
     "text": [
      "\n"
     ]
    },
    {
     "data": {
      "application/vnd.jupyter.widget-view+json": {
       "model_id": "092d515ce3124de79c5c93b1063f4d15",
       "version_major": 2,
       "version_minor": 0
      },
      "text/plain": [
       "HBox(children=(IntProgress(value=0, max=675), HTML(value='')))"
      ]
     },
     "metadata": {},
     "output_type": "display_data"
    },
    {
     "name": "stdout",
     "output_type": "stream",
     "text": [
      "\n"
     ]
    },
    {
     "data": {
      "application/vnd.jupyter.widget-view+json": {
       "model_id": "83c27e507f5f4a6cbd341fc2552a99b4",
       "version_major": 2,
       "version_minor": 0
      },
      "text/plain": [
       "HBox(children=(IntProgress(value=0, max=675), HTML(value='')))"
      ]
     },
     "metadata": {},
     "output_type": "display_data"
    },
    {
     "name": "stdout",
     "output_type": "stream",
     "text": [
      "\n"
     ]
    },
    {
     "data": {
      "application/vnd.jupyter.widget-view+json": {
       "model_id": "a1f28d3b48a54c2db63b2b07ba6a08a4",
       "version_major": 2,
       "version_minor": 0
      },
      "text/plain": [
       "HBox(children=(IntProgress(value=0, max=675), HTML(value='')))"
      ]
     },
     "metadata": {},
     "output_type": "display_data"
    },
    {
     "name": "stdout",
     "output_type": "stream",
     "text": [
      "\n"
     ]
    },
    {
     "data": {
      "application/vnd.jupyter.widget-view+json": {
       "model_id": "262601bd1a434c878ae90a50ca776902",
       "version_major": 2,
       "version_minor": 0
      },
      "text/plain": [
       "HBox(children=(IntProgress(value=0, max=675), HTML(value='')))"
      ]
     },
     "metadata": {},
     "output_type": "display_data"
    },
    {
     "name": "stdout",
     "output_type": "stream",
     "text": [
      "\n"
     ]
    },
    {
     "data": {
      "application/vnd.jupyter.widget-view+json": {
       "model_id": "b72eb94ea1944b9ea05c416423dda8ee",
       "version_major": 2,
       "version_minor": 0
      },
      "text/plain": [
       "HBox(children=(IntProgress(value=0, max=675), HTML(value='')))"
      ]
     },
     "metadata": {},
     "output_type": "display_data"
    },
    {
     "name": "stdout",
     "output_type": "stream",
     "text": [
      "\n"
     ]
    },
    {
     "data": {
      "application/vnd.jupyter.widget-view+json": {
       "model_id": "ab6a36fd8e544e329d160f40c2ba5e76",
       "version_major": 2,
       "version_minor": 0
      },
      "text/plain": [
       "HBox(children=(IntProgress(value=0, max=675), HTML(value='')))"
      ]
     },
     "metadata": {},
     "output_type": "display_data"
    },
    {
     "name": "stdout",
     "output_type": "stream",
     "text": [
      "\n"
     ]
    },
    {
     "data": {
      "application/vnd.jupyter.widget-view+json": {
       "model_id": "478c80eeeb154f35984e29adb642d761",
       "version_major": 2,
       "version_minor": 0
      },
      "text/plain": [
       "HBox(children=(IntProgress(value=0, max=675), HTML(value='')))"
      ]
     },
     "metadata": {},
     "output_type": "display_data"
    },
    {
     "name": "stdout",
     "output_type": "stream",
     "text": [
      "\n"
     ]
    },
    {
     "data": {
      "application/vnd.jupyter.widget-view+json": {
       "model_id": "1971c22a191a4cb4aa2fac624a8a6cfa",
       "version_major": 2,
       "version_minor": 0
      },
      "text/plain": [
       "HBox(children=(IntProgress(value=0, max=675), HTML(value='')))"
      ]
     },
     "metadata": {},
     "output_type": "display_data"
    },
    {
     "name": "stdout",
     "output_type": "stream",
     "text": [
      "\n"
     ]
    },
    {
     "data": {
      "application/vnd.jupyter.widget-view+json": {
       "model_id": "3421f9ad3c474d16990ae79832a12124",
       "version_major": 2,
       "version_minor": 0
      },
      "text/plain": [
       "HBox(children=(IntProgress(value=0, max=675), HTML(value='')))"
      ]
     },
     "metadata": {},
     "output_type": "display_data"
    },
    {
     "name": "stdout",
     "output_type": "stream",
     "text": [
      "\n"
     ]
    },
    {
     "data": {
      "application/vnd.jupyter.widget-view+json": {
       "model_id": "6f2b440e7f254708a5164528fc255bb8",
       "version_major": 2,
       "version_minor": 0
      },
      "text/plain": [
       "HBox(children=(IntProgress(value=0, max=675), HTML(value='')))"
      ]
     },
     "metadata": {},
     "output_type": "display_data"
    },
    {
     "name": "stdout",
     "output_type": "stream",
     "text": [
      "\n"
     ]
    },
    {
     "data": {
      "application/vnd.jupyter.widget-view+json": {
       "model_id": "fb24964e432647889650389fa4ed1ca7",
       "version_major": 2,
       "version_minor": 0
      },
      "text/plain": [
       "HBox(children=(IntProgress(value=0, max=675), HTML(value='')))"
      ]
     },
     "metadata": {},
     "output_type": "display_data"
    },
    {
     "name": "stdout",
     "output_type": "stream",
     "text": [
      "\n"
     ]
    },
    {
     "data": {
      "application/vnd.jupyter.widget-view+json": {
       "model_id": "97de1f8238ce43149cf3ea411ba657a0",
       "version_major": 2,
       "version_minor": 0
      },
      "text/plain": [
       "HBox(children=(IntProgress(value=0, max=675), HTML(value='')))"
      ]
     },
     "metadata": {},
     "output_type": "display_data"
    },
    {
     "name": "stdout",
     "output_type": "stream",
     "text": [
      "\n"
     ]
    },
    {
     "data": {
      "application/vnd.jupyter.widget-view+json": {
       "model_id": "122b5f0a90f34584b30f38c39b359ea9",
       "version_major": 2,
       "version_minor": 0
      },
      "text/plain": [
       "HBox(children=(IntProgress(value=0, max=675), HTML(value='')))"
      ]
     },
     "metadata": {},
     "output_type": "display_data"
    },
    {
     "name": "stdout",
     "output_type": "stream",
     "text": [
      "\n"
     ]
    },
    {
     "data": {
      "application/vnd.jupyter.widget-view+json": {
       "model_id": "661d6a729b8e4969a629183819144bfc",
       "version_major": 2,
       "version_minor": 0
      },
      "text/plain": [
       "HBox(children=(IntProgress(value=0, max=675), HTML(value='')))"
      ]
     },
     "metadata": {},
     "output_type": "display_data"
    },
    {
     "name": "stdout",
     "output_type": "stream",
     "text": [
      "\n"
     ]
    },
    {
     "data": {
      "application/vnd.jupyter.widget-view+json": {
       "model_id": "b6fd5c05fd1c4827a7d40753fc6e7b8b",
       "version_major": 2,
       "version_minor": 0
      },
      "text/plain": [
       "HBox(children=(IntProgress(value=0, max=675), HTML(value='')))"
      ]
     },
     "metadata": {},
     "output_type": "display_data"
    },
    {
     "name": "stdout",
     "output_type": "stream",
     "text": [
      "\n",
      "\n"
     ]
    }
   ],
   "source": [
    "torch.cuda.empty_cache()\n",
    "for i in tqdm_notebook(range(len(model_list))):\n",
    "    \n",
    "    EPOCH = int(model_list[i].split('_')[2])\n",
    "    LOSS = float(model_list[i].split('_')[-1][:-3])\n",
    "    \n",
    "    GWD_Model = torch.load('model/model_aug/'+model_list[i])\n",
    "    GWD_Model.eval()\n",
    "    GWD_Model.to(conf.DEVICE)\n",
    "    precisions = []\n",
    "    \n",
    "    for images, targets in tqdm_notebook(WD_Train_Loader):\n",
    "        try:\n",
    "            images = [torch.tensor(image, dtype = torch.float32).to(conf.DEVICE) for image in images]\n",
    "            preds = GWD_Model(images)\n",
    "\n",
    "            for pred, target in zip(preds, targets):\n",
    "                ground_truth = target['boxes']\n",
    "                pred_boxes = pred['boxes'].to(torch.device('cpu')).detach().numpy()\n",
    "                precisions.append(calculate_image_precision(ground_truth, pred_boxes, thresholds=conf.PRECISION_THRESH))\n",
    "        except:\n",
    "            print('weird shape error')\n",
    "    \n",
    "    train_score = np.mean(np.array(precisions))\n",
    "    #writer.add_scalar('Epoch_Vars/Model_Loss', LOSS, EPOCH)\n",
    "    writer.add_scalar('Epoch_Vars/Training_Score', train_score, EPOCH)\n",
    "    \n",
    "    GWD_Model=None\n",
    "    torch.cuda.empty_cache()\n",
    "    gc.collect()"
   ]
  },
  {
   "cell_type": "code",
   "execution_count": 39,
   "metadata": {
    "ExecuteTime": {
     "end_time": "2020-05-12T20:40:31.846621Z",
     "start_time": "2020-05-12T20:40:31.358777Z"
    }
   },
   "outputs": [
    {
     "data": {
      "text/html": [
       "<div>\n",
       "<style scoped>\n",
       "    .dataframe tbody tr th:only-of-type {\n",
       "        vertical-align: middle;\n",
       "    }\n",
       "\n",
       "    .dataframe tbody tr th {\n",
       "        vertical-align: top;\n",
       "    }\n",
       "\n",
       "    .dataframe thead th {\n",
       "        text-align: right;\n",
       "    }\n",
       "</style>\n",
       "<table border=\"1\" class=\"dataframe\">\n",
       "  <thead>\n",
       "    <tr style=\"text-align: right;\">\n",
       "      <th></th>\n",
       "      <th>image_id</th>\n",
       "      <th>width</th>\n",
       "      <th>height</th>\n",
       "      <th>bbox</th>\n",
       "      <th>source</th>\n",
       "    </tr>\n",
       "  </thead>\n",
       "  <tbody>\n",
       "    <tr>\n",
       "      <td>147552</td>\n",
       "      <td>893938464</td>\n",
       "      <td>1024</td>\n",
       "      <td>1024</td>\n",
       "      <td>[116.0, 177.0, 445.0, 133.0]</td>\n",
       "      <td>arvalis_2</td>\n",
       "    </tr>\n",
       "  </tbody>\n",
       "</table>\n",
       "</div>"
      ],
      "text/plain": [
       "         image_id  width  height                          bbox     source\n",
       "147552  893938464   1024    1024  [116.0, 177.0, 445.0, 133.0]  arvalis_2"
      ]
     },
     "execution_count": 39,
     "metadata": {},
     "output_type": "execute_result"
    }
   ],
   "source": [
    "i = [173, 3687, 4412, 113947, 117344, 118211, 121633, 121634, 147504, 147552]\n",
    "f = pd.read_csv(conf.DATA_PATH+'/train.csv')\n",
    "I = f[f.image_id == '893938464']\n",
    "B = I[I.bbox=='[116.0, 177.0, 445.0, 133.0]']\n",
    "B"
   ]
  },
  {
   "cell_type": "code",
   "execution_count": 38,
   "metadata": {
    "ExecuteTime": {
     "end_time": "2020-05-12T20:40:22.565411Z",
     "start_time": "2020-05-12T20:40:22.555413Z"
    }
   },
   "outputs": [
    {
     "data": {
      "text/plain": [
       "(147793, 5)"
      ]
     },
     "execution_count": 38,
     "metadata": {},
     "output_type": "execute_result"
    }
   ],
   "source": [
    "f.shape"
   ]
  },
  {
   "cell_type": "code",
   "execution_count": 40,
   "metadata": {
    "ExecuteTime": {
     "end_time": "2020-05-12T20:40:57.285066Z",
     "start_time": "2020-05-12T20:40:57.242081Z"
    }
   },
   "outputs": [
    {
     "data": {
      "text/plain": [
       "(147783, 5)"
      ]
     },
     "execution_count": 40,
     "metadata": {},
     "output_type": "execute_result"
    }
   ],
   "source": [
    "I = f.drop(f.index[i])\n",
    "I.shape"
   ]
  },
  {
   "cell_type": "code",
   "execution_count": null,
   "metadata": {},
   "outputs": [],
   "source": []
  }
 ],
 "metadata": {
  "kernelspec": {
   "display_name": "Python 3",
   "language": "python",
   "name": "python3"
  },
  "toc": {
   "base_numbering": 1,
   "nav_menu": {},
   "number_sections": true,
   "sideBar": true,
   "skip_h1_title": false,
   "title_cell": "Table of Contents",
   "title_sidebar": "Contents",
   "toc_cell": false,
   "toc_position": {},
   "toc_section_display": true,
   "toc_window_display": false
  },
  "varInspector": {
   "cols": {
    "lenName": 16,
    "lenType": 16,
    "lenVar": 40
   },
   "kernels_config": {
    "python": {
     "delete_cmd_postfix": "",
     "delete_cmd_prefix": "del ",
     "library": "var_list.py",
     "varRefreshCmd": "print(var_dic_list())"
    },
    "r": {
     "delete_cmd_postfix": ") ",
     "delete_cmd_prefix": "rm(",
     "library": "var_list.r",
     "varRefreshCmd": "cat(var_dic_list()) "
    }
   },
   "types_to_exclude": [
    "module",
    "function",
    "builtin_function_or_method",
    "instance",
    "_Feature"
   ],
   "window_display": false
  }
 },
 "nbformat": 4,
 "nbformat_minor": 2
}
