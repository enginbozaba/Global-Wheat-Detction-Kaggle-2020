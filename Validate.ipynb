{
 "cells": [
  {
   "cell_type": "code",
   "execution_count": 1,
   "metadata": {
    "ExecuteTime": {
     "end_time": "2020-05-13T03:49:13.901067Z",
     "start_time": "2020-05-13T03:49:09.202502Z"
    }
   },
   "outputs": [],
   "source": [
    "import torch\n",
    "import torchvision\n",
    "import math\n",
    "import pandas as pd\n",
    "import numpy as np\n",
    "import gc\n",
    "from tqdm import tqdm_notebook\n",
    "from torch.utils.tensorboard import SummaryWriter\n",
    "\n",
    "\n",
    "from GWD_data import WheatDataset\n",
    "from metric import calculate_image_precision\n",
    "from utils import collate_fn, plot_boxes, get_model_name, format_prediction_string, remove_blanks, is_contain_blanks\n",
    "from config import config\n"
   ]
  },
  {
   "cell_type": "code",
   "execution_count": 2,
   "metadata": {
    "ExecuteTime": {
     "end_time": "2020-05-13T03:49:15.935265Z",
     "start_time": "2020-05-13T03:49:15.283567Z"
    }
   },
   "outputs": [],
   "source": [
    "conf = config()\n",
    "conf.DEVICE = torch.device('cuda:0') if torch.cuda.is_available() else torch.device('cpu')\n",
    "conf.BATH_SIZE = 4\n",
    "torch.random.manual_seed(5)\n",
    "writer = SummaryWriter(\"runs/Validate\") #\n",
    "\n",
    "\n",
    "WD_Train = WheatDataset(conf)\n",
    "WD_Valid = WheatDataset(conf, train=False)\n",
    "WD_Train_Loader = torch.utils.data.DataLoader(WD_Train, batch_size=conf.BATH_SIZE, shuffle=True, collate_fn=collate_fn)\n",
    "WD_Valid_Loader = torch.utils.data.DataLoader(WD_Valid, batch_size=conf.BATH_SIZE, shuffle=True, collate_fn=collate_fn)"
   ]
  },
  {
   "cell_type": "code",
   "execution_count": 3,
   "metadata": {
    "ExecuteTime": {
     "end_time": "2020-05-13T02:35:18.252366Z",
     "start_time": "2020-05-13T02:35:18.244367Z"
    }
   },
   "outputs": [
    {
     "data": {
      "text/plain": [
       "['global_wheat_epoch_0_loss_0.7703235149383545.model',\n",
       " 'global_wheat_epoch_0_step_0_loss_1.7423330545425415.model',\n",
       " 'global_wheat_epoch_0_step_0_loss_1.792172908782959.model',\n",
       " 'global_wheat_epoch_0_step_100_loss_1.3611688613891602.model',\n",
       " 'global_wheat_epoch_0_step_200_loss_1.02377450466156.model',\n",
       " 'global_wheat_epoch_0_step_300_loss_0.8959460258483887.model',\n",
       " 'global_wheat_epoch_0_step_400_loss_0.8438630104064941.model',\n",
       " 'global_wheat_epoch_4_loss_0.7505825161933899.model',\n",
       " 'GWD_EPOCH_0_SCORE_0.0000_LOSS_382.9978.pt',\n",
       " 'GWD_EPOCH_10_SCORE_0.0000_LOSS_211.9845.pt',\n",
       " 'GWD_EPOCH_11_SCORE_0.0000_LOSS_209.1651.pt',\n",
       " 'GWD_EPOCH_12_SCORE_0.0000_LOSS_208.6549.pt',\n",
       " 'GWD_EPOCH_13_SCORE_0.0000_LOSS_206.3007.pt',\n",
       " 'GWD_EPOCH_14_SCORE_0.0000_LOSS_205.7413.pt',\n",
       " 'GWD_EPOCH_15_SCORE_0.0000_LOSS_205.9956.pt',\n",
       " 'GWD_EPOCH_16_SCORE_0.0000_LOSS_203.7507.pt',\n",
       " 'GWD_EPOCH_17_SCORE_0.0000_LOSS_201.9021.pt',\n",
       " 'GWD_EPOCH_18_SCORE_0.0000_LOSS_203.8619.pt',\n",
       " 'GWD_EPOCH_19_SCORE_0.0000_LOSS_200.8293.pt',\n",
       " 'GWD_EPOCH_1_SCORE_0.0000_LOSS_273.1651.pt',\n",
       " 'GWD_EPOCH_20_SCORE_0.0000_LOSS_197.1215.pt',\n",
       " 'GWD_EPOCH_21_SCORE_0.0000_LOSS_195.4317.pt',\n",
       " 'GWD_EPOCH_22_SCORE_0.0000_LOSS_194.9353.pt',\n",
       " 'GWD_EPOCH_23_SCORE_0.0000_LOSS_193.9966.pt',\n",
       " 'GWD_EPOCH_24_SCORE_0.0000_LOSS_193.6854.pt',\n",
       " 'GWD_EPOCH_25_SCORE_0.0000_LOSS_194.8778.pt',\n",
       " 'GWD_EPOCH_26_SCORE_0.0000_LOSS_193.3428.pt',\n",
       " 'GWD_EPOCH_27_SCORE_0.0000_LOSS_194.3706.pt',\n",
       " 'GWD_EPOCH_28_SCORE_0.0000_LOSS_192.9131.pt',\n",
       " 'GWD_EPOCH_29_SCORE_0.0000_LOSS_191.8370.pt',\n",
       " 'GWD_EPOCH_2_SCORE_0.0000_LOSS_252.9564.pt',\n",
       " 'GWD_EPOCH_30_SCORE_0.0000_LOSS_190.1350.pt',\n",
       " 'GWD_EPOCH_31_SCORE_0.0000_LOSS_191.7623.pt',\n",
       " 'GWD_EPOCH_32_SCORE_0.0000_LOSS_189.1150.pt',\n",
       " 'GWD_EPOCH_33_SCORE_0.0000_LOSS_189.5725.pt',\n",
       " 'GWD_EPOCH_34_SCORE_0.0000_LOSS_188.9933.pt',\n",
       " 'GWD_EPOCH_35_SCORE_0.0000_LOSS_190.0600.pt',\n",
       " 'GWD_EPOCH_3_SCORE_0.0000_LOSS_240.0688.pt',\n",
       " 'GWD_EPOCH_4_SCORE_0.0000_LOSS_234.7404.pt',\n",
       " 'GWD_EPOCH_5_SCORE_0.0000_LOSS_228.4960.pt',\n",
       " 'GWD_EPOCH_6_SCORE_0.0000_LOSS_226.8703.pt',\n",
       " 'GWD_EPOCH_7_SCORE_0.0000_LOSS_222.0856.pt',\n",
       " 'GWD_EPOCH_8_SCORE_0.0000_LOSS_218.4846.pt',\n",
       " 'GWD_EPOCH_9_SCORE_0.0000_LOSS_216.1966.pt']"
      ]
     },
     "execution_count": 3,
     "metadata": {},
     "output_type": "execute_result"
    }
   ],
   "source": [
    "import os\n",
    "os.listdir('model/')"
   ]
  },
  {
   "cell_type": "code",
   "execution_count": 4,
   "metadata": {
    "ExecuteTime": {
     "end_time": "2020-05-13T02:35:23.228207Z",
     "start_time": "2020-05-13T02:35:23.218209Z"
    }
   },
   "outputs": [],
   "source": [
    "model_list = [\n",
    " 'GWD_EPOCH_16_SCORE_0.0000_LOSS_203.7507.pt',\n",
    " 'GWD_EPOCH_17_SCORE_0.0000_LOSS_201.9021.pt',\n",
    " 'GWD_EPOCH_18_SCORE_0.0000_LOSS_203.8619.pt',\n",
    " 'GWD_EPOCH_19_SCORE_0.0000_LOSS_200.8293.pt',\n",
    " 'GWD_EPOCH_20_SCORE_0.0000_LOSS_197.1215.pt',\n",
    " 'GWD_EPOCH_21_SCORE_0.0000_LOSS_195.4317.pt',\n",
    " 'GWD_EPOCH_22_SCORE_0.0000_LOSS_194.9353.pt',\n",
    " 'GWD_EPOCH_23_SCORE_0.0000_LOSS_193.9966.pt',\n",
    " 'GWD_EPOCH_24_SCORE_0.0000_LOSS_193.6854.pt',\n",
    " 'GWD_EPOCH_25_SCORE_0.0000_LOSS_194.8778.pt',\n",
    " 'GWD_EPOCH_26_SCORE_0.0000_LOSS_193.3428.pt',\n",
    " 'GWD_EPOCH_27_SCORE_0.0000_LOSS_194.3706.pt',\n",
    " 'GWD_EPOCH_28_SCORE_0.0000_LOSS_192.9131.pt',\n",
    " 'GWD_EPOCH_29_SCORE_0.0000_LOSS_191.8370.pt',\n",
    " 'GWD_EPOCH_30_SCORE_0.0000_LOSS_190.1350.pt',\n",
    " 'GWD_EPOCH_31_SCORE_0.0000_LOSS_191.7623.pt',\n",
    " 'GWD_EPOCH_32_SCORE_0.0000_LOSS_189.1150.pt',\n",
    " 'GWD_EPOCH_33_SCORE_0.0000_LOSS_189.5725.pt',\n",
    " 'GWD_EPOCH_34_SCORE_0.0000_LOSS_188.9933.pt',\n",
    " 'GWD_EPOCH_35_SCORE_0.0000_LOSS_190.0600.pt']"
   ]
  },
  {
   "cell_type": "markdown",
   "metadata": {},
   "source": [
    "# Testing Data"
   ]
  },
  {
   "cell_type": "code",
   "execution_count": 5,
   "metadata": {
    "ExecuteTime": {
     "end_time": "2020-05-13T02:35:25.186109Z",
     "start_time": "2020-05-13T02:35:25.178112Z"
    }
   },
   "outputs": [],
   "source": [
    "torch.cuda.empty_cache()"
   ]
  },
  {
   "cell_type": "code",
   "execution_count": 6,
   "metadata": {
    "ExecuteTime": {
     "end_time": "2020-05-13T03:46:25.991351Z",
     "start_time": "2020-05-13T02:35:27.332360Z"
    },
    "scrolled": true
   },
   "outputs": [
    {
     "data": {
      "application/vnd.jupyter.widget-view+json": {
       "model_id": "9eaedd760ca84f7eb06f32b0a8a8e69a",
       "version_major": 2,
       "version_minor": 0
      },
      "text/plain": [
       "HBox(children=(IntProgress(value=0, max=20), HTML(value='')))"
      ]
     },
     "metadata": {},
     "output_type": "display_data"
    },
    {
     "data": {
      "application/vnd.jupyter.widget-view+json": {
       "model_id": "1d24d51fa0f64d71a30e87654e445194",
       "version_major": 2,
       "version_minor": 0
      },
      "text/plain": [
       "HBox(children=(IntProgress(value=0, max=169), HTML(value='')))"
      ]
     },
     "metadata": {},
     "output_type": "display_data"
    },
    {
     "name": "stderr",
     "output_type": "stream",
     "text": [
      "C:\\ProgramData\\Anaconda3\\lib\\site-packages\\torch\\nn\\functional.py:2854: UserWarning: The default behavior for interpolate/upsample with float scale_factor will change in 1.6.0 to align with other frameworks/libraries, and use scale_factor directly, instead of relying on the computed output size. If you wish to keep the old behavior, please set recompute_scale_factor=True. See the documentation of nn.Upsample for details. \n",
      "  warnings.warn(\"The default behavior for interpolate/upsample with float scale_factor will change \"\n",
      "..\\torch\\csrc\\utils\\python_arg_parser.cpp:756: UserWarning: This overload of nonzero is deprecated:\n",
      "\tnonzero(Tensor input, *, Tensor out)\n",
      "Consider using one of the following signatures instead:\n",
      "\tnonzero(Tensor input, *, bool as_tuple)\n"
     ]
    },
    {
     "name": "stdout",
     "output_type": "stream",
     "text": [
      "\n"
     ]
    },
    {
     "data": {
      "application/vnd.jupyter.widget-view+json": {
       "model_id": "baba9d5a3e814a5cb0d8a82f7fde54de",
       "version_major": 2,
       "version_minor": 0
      },
      "text/plain": [
       "HBox(children=(IntProgress(value=0, max=169), HTML(value='')))"
      ]
     },
     "metadata": {},
     "output_type": "display_data"
    },
    {
     "name": "stdout",
     "output_type": "stream",
     "text": [
      "\n"
     ]
    },
    {
     "data": {
      "application/vnd.jupyter.widget-view+json": {
       "model_id": "d5778eb4ba984e0980cf73995b09e170",
       "version_major": 2,
       "version_minor": 0
      },
      "text/plain": [
       "HBox(children=(IntProgress(value=0, max=169), HTML(value='')))"
      ]
     },
     "metadata": {},
     "output_type": "display_data"
    },
    {
     "name": "stdout",
     "output_type": "stream",
     "text": [
      "\n"
     ]
    },
    {
     "data": {
      "application/vnd.jupyter.widget-view+json": {
       "model_id": "3be71567aaae4446ad6f1e3f4ff237eb",
       "version_major": 2,
       "version_minor": 0
      },
      "text/plain": [
       "HBox(children=(IntProgress(value=0, max=169), HTML(value='')))"
      ]
     },
     "metadata": {},
     "output_type": "display_data"
    },
    {
     "name": "stdout",
     "output_type": "stream",
     "text": [
      "\n"
     ]
    },
    {
     "data": {
      "application/vnd.jupyter.widget-view+json": {
       "model_id": "b26cd13110474725b0378955bf312200",
       "version_major": 2,
       "version_minor": 0
      },
      "text/plain": [
       "HBox(children=(IntProgress(value=0, max=169), HTML(value='')))"
      ]
     },
     "metadata": {},
     "output_type": "display_data"
    },
    {
     "name": "stdout",
     "output_type": "stream",
     "text": [
      "\n"
     ]
    },
    {
     "data": {
      "application/vnd.jupyter.widget-view+json": {
       "model_id": "7c2639d3c5e544c387acdca2134fca53",
       "version_major": 2,
       "version_minor": 0
      },
      "text/plain": [
       "HBox(children=(IntProgress(value=0, max=169), HTML(value='')))"
      ]
     },
     "metadata": {},
     "output_type": "display_data"
    },
    {
     "name": "stdout",
     "output_type": "stream",
     "text": [
      "\n"
     ]
    },
    {
     "data": {
      "application/vnd.jupyter.widget-view+json": {
       "model_id": "20c0bc253ed144d2a958e9e558aa1f44",
       "version_major": 2,
       "version_minor": 0
      },
      "text/plain": [
       "HBox(children=(IntProgress(value=0, max=169), HTML(value='')))"
      ]
     },
     "metadata": {},
     "output_type": "display_data"
    },
    {
     "name": "stdout",
     "output_type": "stream",
     "text": [
      "\n"
     ]
    },
    {
     "data": {
      "application/vnd.jupyter.widget-view+json": {
       "model_id": "79321a934cdc4392b365a6cd1cccd46a",
       "version_major": 2,
       "version_minor": 0
      },
      "text/plain": [
       "HBox(children=(IntProgress(value=0, max=169), HTML(value='')))"
      ]
     },
     "metadata": {},
     "output_type": "display_data"
    },
    {
     "name": "stdout",
     "output_type": "stream",
     "text": [
      "\n"
     ]
    },
    {
     "data": {
      "application/vnd.jupyter.widget-view+json": {
       "model_id": "6f373d79b8f9429b9d3eeb29317e9896",
       "version_major": 2,
       "version_minor": 0
      },
      "text/plain": [
       "HBox(children=(IntProgress(value=0, max=169), HTML(value='')))"
      ]
     },
     "metadata": {},
     "output_type": "display_data"
    },
    {
     "name": "stdout",
     "output_type": "stream",
     "text": [
      "\n"
     ]
    },
    {
     "data": {
      "application/vnd.jupyter.widget-view+json": {
       "model_id": "b943b7a40b2d4e05ad459e4d26be359c",
       "version_major": 2,
       "version_minor": 0
      },
      "text/plain": [
       "HBox(children=(IntProgress(value=0, max=169), HTML(value='')))"
      ]
     },
     "metadata": {},
     "output_type": "display_data"
    },
    {
     "name": "stdout",
     "output_type": "stream",
     "text": [
      "weird shape error\n",
      "\n"
     ]
    },
    {
     "data": {
      "application/vnd.jupyter.widget-view+json": {
       "model_id": "e586869b6b494bc8b86a3a42924e4759",
       "version_major": 2,
       "version_minor": 0
      },
      "text/plain": [
       "HBox(children=(IntProgress(value=0, max=169), HTML(value='')))"
      ]
     },
     "metadata": {},
     "output_type": "display_data"
    },
    {
     "name": "stdout",
     "output_type": "stream",
     "text": [
      "\n"
     ]
    },
    {
     "data": {
      "application/vnd.jupyter.widget-view+json": {
       "model_id": "525e9ffe1ada46e79b4655b352da6866",
       "version_major": 2,
       "version_minor": 0
      },
      "text/plain": [
       "HBox(children=(IntProgress(value=0, max=169), HTML(value='')))"
      ]
     },
     "metadata": {},
     "output_type": "display_data"
    },
    {
     "name": "stdout",
     "output_type": "stream",
     "text": [
      "\n"
     ]
    },
    {
     "data": {
      "application/vnd.jupyter.widget-view+json": {
       "model_id": "23f4a68882f64123a9bfa2742772b87f",
       "version_major": 2,
       "version_minor": 0
      },
      "text/plain": [
       "HBox(children=(IntProgress(value=0, max=169), HTML(value='')))"
      ]
     },
     "metadata": {},
     "output_type": "display_data"
    },
    {
     "name": "stdout",
     "output_type": "stream",
     "text": [
      "\n"
     ]
    },
    {
     "data": {
      "application/vnd.jupyter.widget-view+json": {
       "model_id": "7942238c5e794618b4e8684c06ab8cb4",
       "version_major": 2,
       "version_minor": 0
      },
      "text/plain": [
       "HBox(children=(IntProgress(value=0, max=169), HTML(value='')))"
      ]
     },
     "metadata": {},
     "output_type": "display_data"
    },
    {
     "name": "stdout",
     "output_type": "stream",
     "text": [
      "\n"
     ]
    },
    {
     "data": {
      "application/vnd.jupyter.widget-view+json": {
       "model_id": "9e39af2044c5448ab3d1b015db454efc",
       "version_major": 2,
       "version_minor": 0
      },
      "text/plain": [
       "HBox(children=(IntProgress(value=0, max=169), HTML(value='')))"
      ]
     },
     "metadata": {},
     "output_type": "display_data"
    },
    {
     "name": "stdout",
     "output_type": "stream",
     "text": [
      "\n"
     ]
    },
    {
     "data": {
      "application/vnd.jupyter.widget-view+json": {
       "model_id": "6a40043e78fe4a119f159821576c7ee8",
       "version_major": 2,
       "version_minor": 0
      },
      "text/plain": [
       "HBox(children=(IntProgress(value=0, max=169), HTML(value='')))"
      ]
     },
     "metadata": {},
     "output_type": "display_data"
    },
    {
     "name": "stdout",
     "output_type": "stream",
     "text": [
      "weird shape error\n",
      "\n"
     ]
    },
    {
     "data": {
      "application/vnd.jupyter.widget-view+json": {
       "model_id": "2f9a9a7db67c4fdf92ffecd72781c2c8",
       "version_major": 2,
       "version_minor": 0
      },
      "text/plain": [
       "HBox(children=(IntProgress(value=0, max=169), HTML(value='')))"
      ]
     },
     "metadata": {},
     "output_type": "display_data"
    },
    {
     "name": "stdout",
     "output_type": "stream",
     "text": [
      "\n"
     ]
    },
    {
     "data": {
      "application/vnd.jupyter.widget-view+json": {
       "model_id": "70a9bcd283ec4af589347e4fcde8f693",
       "version_major": 2,
       "version_minor": 0
      },
      "text/plain": [
       "HBox(children=(IntProgress(value=0, max=169), HTML(value='')))"
      ]
     },
     "metadata": {},
     "output_type": "display_data"
    },
    {
     "name": "stdout",
     "output_type": "stream",
     "text": [
      "\n"
     ]
    },
    {
     "data": {
      "application/vnd.jupyter.widget-view+json": {
       "model_id": "34bfaf5b1614430eb48427be9105eee6",
       "version_major": 2,
       "version_minor": 0
      },
      "text/plain": [
       "HBox(children=(IntProgress(value=0, max=169), HTML(value='')))"
      ]
     },
     "metadata": {},
     "output_type": "display_data"
    },
    {
     "name": "stdout",
     "output_type": "stream",
     "text": [
      "\n"
     ]
    },
    {
     "data": {
      "application/vnd.jupyter.widget-view+json": {
       "model_id": "40f1795343ba4dae86b125cb35c7f6fa",
       "version_major": 2,
       "version_minor": 0
      },
      "text/plain": [
       "HBox(children=(IntProgress(value=0, max=169), HTML(value='')))"
      ]
     },
     "metadata": {},
     "output_type": "display_data"
    },
    {
     "name": "stdout",
     "output_type": "stream",
     "text": [
      "\n",
      "\n"
     ]
    }
   ],
   "source": [
    "for i in tqdm_notebook(range(len(model_list))):\n",
    "    \n",
    "    EPOCH = int(model_list[i].split('_')[2])\n",
    "    LOSS = float(model_list[i].split('_')[-1][:-3])\n",
    "    \n",
    "    GWD_Model = torch.load('model/'+model_list[i])\n",
    "    GWD_Model.eval()\n",
    "    GWD_Model.to(conf.DEVICE)\n",
    "    precisions = []\n",
    "    \n",
    "    for images, targets in tqdm_notebook(WD_Valid_Loader):\n",
    "        try:\n",
    "            images = [torch.tensor(image, dtype = torch.float32).to(conf.DEVICE) for image in images]\n",
    "            preds = GWD_Model(images)\n",
    "\n",
    "            for pred, target in zip(preds, targets):\n",
    "                ground_truth = target['boxes']\n",
    "                pred_boxes = pred['boxes'].to(torch.device('cpu')).detach().numpy()\n",
    "                precisions.append(calculate_image_precision(ground_truth, pred_boxes, thresholds=conf.PRECISION_THRESH))\n",
    "        except:\n",
    "            print('weird shape error')\n",
    "    \n",
    "    test_score = np.mean(np.array(precisions))\n",
    "    writer.add_scalar('Epoch_Vars/Model_Loss', LOSS, EPOCH)\n",
    "    writer.add_scalar('Epoch_Vars/Validation_Score', test_score, EPOCH)\n",
    "    \n",
    "    GWD_Model=None\n",
    "    torch.cuda.empty_cache()\n",
    "    gc.collect()"
   ]
  },
  {
   "cell_type": "markdown",
   "metadata": {},
   "source": [
    "# tRAINING dTA"
   ]
  },
  {
   "cell_type": "code",
   "execution_count": 3,
   "metadata": {
    "ExecuteTime": {
     "end_time": "2020-05-13T03:49:20.419607Z",
     "start_time": "2020-05-13T03:49:20.409609Z"
    }
   },
   "outputs": [],
   "source": [
    "model_list = [\n",
    " 'GWD_EPOCH_16_SCORE_0.0000_LOSS_203.7507.pt',\n",
    " 'GWD_EPOCH_17_SCORE_0.0000_LOSS_201.9021.pt',\n",
    " 'GWD_EPOCH_18_SCORE_0.0000_LOSS_203.8619.pt',\n",
    " 'GWD_EPOCH_19_SCORE_0.0000_LOSS_200.8293.pt',\n",
    " 'GWD_EPOCH_20_SCORE_0.0000_LOSS_197.1215.pt',\n",
    " 'GWD_EPOCH_21_SCORE_0.0000_LOSS_195.4317.pt',\n",
    " 'GWD_EPOCH_22_SCORE_0.0000_LOSS_194.9353.pt',\n",
    " 'GWD_EPOCH_23_SCORE_0.0000_LOSS_193.9966.pt',\n",
    " 'GWD_EPOCH_24_SCORE_0.0000_LOSS_193.6854.pt',\n",
    " 'GWD_EPOCH_25_SCORE_0.0000_LOSS_194.8778.pt',\n",
    " 'GWD_EPOCH_26_SCORE_0.0000_LOSS_193.3428.pt',\n",
    " 'GWD_EPOCH_27_SCORE_0.0000_LOSS_194.3706.pt',\n",
    " 'GWD_EPOCH_28_SCORE_0.0000_LOSS_192.9131.pt',\n",
    " 'GWD_EPOCH_29_SCORE_0.0000_LOSS_191.8370.pt',\n",
    " 'GWD_EPOCH_30_SCORE_0.0000_LOSS_190.1350.pt',\n",
    " 'GWD_EPOCH_31_SCORE_0.0000_LOSS_191.7623.pt',\n",
    " 'GWD_EPOCH_32_SCORE_0.0000_LOSS_189.1150.pt',\n",
    " 'GWD_EPOCH_33_SCORE_0.0000_LOSS_189.5725.pt',\n",
    " 'GWD_EPOCH_34_SCORE_0.0000_LOSS_188.9933.pt',\n",
    " 'GWD_EPOCH_35_SCORE_0.0000_LOSS_190.0600.pt']"
   ]
  },
  {
   "cell_type": "code",
   "execution_count": null,
   "metadata": {
    "ExecuteTime": {
     "start_time": "2020-05-13T03:49:22.365Z"
    }
   },
   "outputs": [
    {
     "data": {
      "application/vnd.jupyter.widget-view+json": {
       "model_id": "76e9fe2a97754d2f8b9f8265a1e1c809",
       "version_major": 2,
       "version_minor": 0
      },
      "text/plain": [
       "HBox(children=(IntProgress(value=0, max=20), HTML(value='')))"
      ]
     },
     "metadata": {},
     "output_type": "display_data"
    },
    {
     "data": {
      "application/vnd.jupyter.widget-view+json": {
       "model_id": "ee04a962f2c346fba8f787d7a0d8632f",
       "version_major": 2,
       "version_minor": 0
      },
      "text/plain": [
       "HBox(children=(IntProgress(value=0, max=675), HTML(value='')))"
      ]
     },
     "metadata": {},
     "output_type": "display_data"
    },
    {
     "name": "stderr",
     "output_type": "stream",
     "text": [
      "C:\\ProgramData\\Anaconda3\\lib\\site-packages\\torch\\nn\\functional.py:2854: UserWarning: The default behavior for interpolate/upsample with float scale_factor will change in 1.6.0 to align with other frameworks/libraries, and use scale_factor directly, instead of relying on the computed output size. If you wish to keep the old behavior, please set recompute_scale_factor=True. See the documentation of nn.Upsample for details. \n",
      "  warnings.warn(\"The default behavior for interpolate/upsample with float scale_factor will change \"\n",
      "..\\torch\\csrc\\utils\\python_arg_parser.cpp:756: UserWarning: This overload of nonzero is deprecated:\n",
      "\tnonzero(Tensor input, *, Tensor out)\n",
      "Consider using one of the following signatures instead:\n",
      "\tnonzero(Tensor input, *, bool as_tuple)\n"
     ]
    },
    {
     "name": "stdout",
     "output_type": "stream",
     "text": [
      "weird shape error\n",
      "weird shape error\n",
      "weird shape error\n",
      "weird shape error\n",
      "\n"
     ]
    },
    {
     "data": {
      "application/vnd.jupyter.widget-view+json": {
       "model_id": "25c4a54cfa4746eeb0e92ee0050a3c47",
       "version_major": 2,
       "version_minor": 0
      },
      "text/plain": [
       "HBox(children=(IntProgress(value=0, max=675), HTML(value='')))"
      ]
     },
     "metadata": {},
     "output_type": "display_data"
    },
    {
     "name": "stdout",
     "output_type": "stream",
     "text": [
      "weird shape error\n",
      "weird shape error\n",
      "weird shape error\n",
      "weird shape error\n",
      "weird shape error\n",
      "weird shape error\n",
      "weird shape error\n",
      "\n"
     ]
    },
    {
     "data": {
      "application/vnd.jupyter.widget-view+json": {
       "model_id": "b5d884e86352431eb1306320f565caf6",
       "version_major": 2,
       "version_minor": 0
      },
      "text/plain": [
       "HBox(children=(IntProgress(value=0, max=675), HTML(value='')))"
      ]
     },
     "metadata": {},
     "output_type": "display_data"
    },
    {
     "name": "stdout",
     "output_type": "stream",
     "text": [
      "weird shape error\n",
      "weird shape error\n",
      "weird shape error\n",
      "weird shape error\n",
      "\n"
     ]
    },
    {
     "data": {
      "application/vnd.jupyter.widget-view+json": {
       "model_id": "f6028831b65640fd961b72b8eb9d65b0",
       "version_major": 2,
       "version_minor": 0
      },
      "text/plain": [
       "HBox(children=(IntProgress(value=0, max=675), HTML(value='')))"
      ]
     },
     "metadata": {},
     "output_type": "display_data"
    },
    {
     "name": "stdout",
     "output_type": "stream",
     "text": [
      "weird shape error\n",
      "weird shape error\n",
      "weird shape error\n",
      "weird shape error\n",
      "\n"
     ]
    },
    {
     "data": {
      "application/vnd.jupyter.widget-view+json": {
       "model_id": "7c4662088bb042c6806400f7ab47757a",
       "version_major": 2,
       "version_minor": 0
      },
      "text/plain": [
       "HBox(children=(IntProgress(value=0, max=675), HTML(value='')))"
      ]
     },
     "metadata": {},
     "output_type": "display_data"
    },
    {
     "name": "stdout",
     "output_type": "stream",
     "text": [
      "weird shape error\n",
      "\n"
     ]
    },
    {
     "data": {
      "application/vnd.jupyter.widget-view+json": {
       "model_id": "31e65f0085ea4b18a3efe4ffdf669d1f",
       "version_major": 2,
       "version_minor": 0
      },
      "text/plain": [
       "HBox(children=(IntProgress(value=0, max=675), HTML(value='')))"
      ]
     },
     "metadata": {},
     "output_type": "display_data"
    },
    {
     "name": "stdout",
     "output_type": "stream",
     "text": [
      "weird shape error\n",
      "weird shape error\n",
      "weird shape error\n",
      "weird shape error\n",
      "\n"
     ]
    },
    {
     "data": {
      "application/vnd.jupyter.widget-view+json": {
       "model_id": "d851380900bb45edaa2afabcf8452ed0",
       "version_major": 2,
       "version_minor": 0
      },
      "text/plain": [
       "HBox(children=(IntProgress(value=0, max=675), HTML(value='')))"
      ]
     },
     "metadata": {},
     "output_type": "display_data"
    },
    {
     "name": "stdout",
     "output_type": "stream",
     "text": [
      "weird shape error\n",
      "weird shape error\n",
      "\n"
     ]
    },
    {
     "data": {
      "application/vnd.jupyter.widget-view+json": {
       "model_id": "5741b8a843274e308deff29d6ae02a96",
       "version_major": 2,
       "version_minor": 0
      },
      "text/plain": [
       "HBox(children=(IntProgress(value=0, max=675), HTML(value='')))"
      ]
     },
     "metadata": {},
     "output_type": "display_data"
    },
    {
     "name": "stdout",
     "output_type": "stream",
     "text": [
      "weird shape error\n",
      "weird shape error\n",
      "weird shape error\n",
      "weird shape error\n",
      "weird shape error\n",
      "\n"
     ]
    },
    {
     "data": {
      "application/vnd.jupyter.widget-view+json": {
       "model_id": "c5d46937c4c1486683403978422db2ce",
       "version_major": 2,
       "version_minor": 0
      },
      "text/plain": [
       "HBox(children=(IntProgress(value=0, max=675), HTML(value='')))"
      ]
     },
     "metadata": {},
     "output_type": "display_data"
    },
    {
     "name": "stdout",
     "output_type": "stream",
     "text": [
      "weird shape error\n",
      "weird shape error\n",
      "weird shape error\n",
      "\n"
     ]
    },
    {
     "data": {
      "application/vnd.jupyter.widget-view+json": {
       "model_id": "788edbb6c21c49238bfa947ead81f597",
       "version_major": 2,
       "version_minor": 0
      },
      "text/plain": [
       "HBox(children=(IntProgress(value=0, max=675), HTML(value='')))"
      ]
     },
     "metadata": {},
     "output_type": "display_data"
    },
    {
     "name": "stdout",
     "output_type": "stream",
     "text": [
      "weird shape error\n",
      "weird shape error\n",
      "\n"
     ]
    },
    {
     "data": {
      "application/vnd.jupyter.widget-view+json": {
       "model_id": "3a2022e7ec6f4c07a24c7b75807c9c55",
       "version_major": 2,
       "version_minor": 0
      },
      "text/plain": [
       "HBox(children=(IntProgress(value=0, max=675), HTML(value='')))"
      ]
     },
     "metadata": {},
     "output_type": "display_data"
    },
    {
     "name": "stdout",
     "output_type": "stream",
     "text": [
      "weird shape error\n",
      "weird shape error\n",
      "\n"
     ]
    },
    {
     "data": {
      "application/vnd.jupyter.widget-view+json": {
       "model_id": "85f99c8ad892436bb116494e0da8227f",
       "version_major": 2,
       "version_minor": 0
      },
      "text/plain": [
       "HBox(children=(IntProgress(value=0, max=675), HTML(value='')))"
      ]
     },
     "metadata": {},
     "output_type": "display_data"
    },
    {
     "name": "stdout",
     "output_type": "stream",
     "text": [
      "weird shape error\n",
      "weird shape error\n",
      "weird shape error\n",
      "weird shape error\n",
      "\n"
     ]
    },
    {
     "data": {
      "application/vnd.jupyter.widget-view+json": {
       "model_id": "0c9df98bf01a484091473a54708c01f1",
       "version_major": 2,
       "version_minor": 0
      },
      "text/plain": [
       "HBox(children=(IntProgress(value=0, max=675), HTML(value='')))"
      ]
     },
     "metadata": {},
     "output_type": "display_data"
    },
    {
     "name": "stdout",
     "output_type": "stream",
     "text": [
      "weird shape error\n",
      "weird shape error\n",
      "weird shape error\n",
      "weird shape error\n",
      "weird shape error\n",
      "\n"
     ]
    },
    {
     "data": {
      "application/vnd.jupyter.widget-view+json": {
       "model_id": "992bec31f87345cfa4f4e1cecba1e421",
       "version_major": 2,
       "version_minor": 0
      },
      "text/plain": [
       "HBox(children=(IntProgress(value=0, max=675), HTML(value='')))"
      ]
     },
     "metadata": {},
     "output_type": "display_data"
    },
    {
     "name": "stdout",
     "output_type": "stream",
     "text": [
      "weird shape error\n",
      "weird shape error\n",
      "\n"
     ]
    },
    {
     "data": {
      "application/vnd.jupyter.widget-view+json": {
       "model_id": "b08d694257a6443aa2b26789f346d597",
       "version_major": 2,
       "version_minor": 0
      },
      "text/plain": [
       "HBox(children=(IntProgress(value=0, max=675), HTML(value='')))"
      ]
     },
     "metadata": {},
     "output_type": "display_data"
    },
    {
     "name": "stdout",
     "output_type": "stream",
     "text": [
      "weird shape error\n",
      "weird shape error\n",
      "\n"
     ]
    },
    {
     "data": {
      "application/vnd.jupyter.widget-view+json": {
       "model_id": "921c9c3922734e3facbe2abf2d4464c0",
       "version_major": 2,
       "version_minor": 0
      },
      "text/plain": [
       "HBox(children=(IntProgress(value=0, max=675), HTML(value='')))"
      ]
     },
     "metadata": {},
     "output_type": "display_data"
    },
    {
     "name": "stdout",
     "output_type": "stream",
     "text": [
      "weird shape error\n",
      "weird shape error\n",
      "weird shape error\n",
      "\n"
     ]
    },
    {
     "data": {
      "application/vnd.jupyter.widget-view+json": {
       "model_id": "34b40de7579f4c0bb6df6022635e77fe",
       "version_major": 2,
       "version_minor": 0
      },
      "text/plain": [
       "HBox(children=(IntProgress(value=0, max=675), HTML(value='')))"
      ]
     },
     "metadata": {},
     "output_type": "display_data"
    },
    {
     "name": "stdout",
     "output_type": "stream",
     "text": [
      "weird shape error\n",
      "weird shape error\n",
      "weird shape error\n",
      "weird shape error\n",
      "weird shape error\n",
      "\n"
     ]
    },
    {
     "data": {
      "application/vnd.jupyter.widget-view+json": {
       "model_id": "d21d2b3a464444918d707e8abb3b923f",
       "version_major": 2,
       "version_minor": 0
      },
      "text/plain": [
       "HBox(children=(IntProgress(value=0, max=675), HTML(value='')))"
      ]
     },
     "metadata": {},
     "output_type": "display_data"
    },
    {
     "name": "stdout",
     "output_type": "stream",
     "text": [
      "weird shape error\n",
      "weird shape error\n",
      "weird shape error\n",
      "weird shape error\n",
      "weird shape error\n",
      "\n"
     ]
    },
    {
     "data": {
      "application/vnd.jupyter.widget-view+json": {
       "model_id": "fdbbd9ea928b44e48ed6f6f5ec67cf99",
       "version_major": 2,
       "version_minor": 0
      },
      "text/plain": [
       "HBox(children=(IntProgress(value=0, max=675), HTML(value='')))"
      ]
     },
     "metadata": {},
     "output_type": "display_data"
    }
   ],
   "source": [
    "torch.cuda.empty_cache()\n",
    "for i in tqdm_notebook(range(len(model_list))):\n",
    "    \n",
    "    EPOCH = int(model_list[i].split('_')[2])\n",
    "    LOSS = float(model_list[i].split('_')[-1][:-3])\n",
    "    \n",
    "    GWD_Model = torch.load('model/'+model_list[i])\n",
    "    GWD_Model.eval()\n",
    "    GWD_Model.to(conf.DEVICE)\n",
    "    precisions = []\n",
    "    \n",
    "    for images, targets in tqdm_notebook(WD_Train_Loader):\n",
    "        try:\n",
    "            images = [torch.tensor(image, dtype = torch.float32).to(conf.DEVICE) for image in images]\n",
    "            preds = GWD_Model(images)\n",
    "\n",
    "            for pred, target in zip(preds, targets):\n",
    "                ground_truth = target['boxes']\n",
    "                pred_boxes = pred['boxes'].to(torch.device('cpu')).detach().numpy()\n",
    "                precisions.append(calculate_image_precision(ground_truth, pred_boxes, thresholds=conf.PRECISION_THRESH))\n",
    "        except:\n",
    "            print('weird shape error')\n",
    "    \n",
    "    train_score = np.mean(np.array(precisions))\n",
    "    #writer.add_scalar('Epoch_Vars/Model_Loss', LOSS, EPOCH)\n",
    "    writer.add_scalar('Epoch_Vars/Training_Score', train_score, EPOCH)\n",
    "    \n",
    "    GWD_Model=None\n",
    "    torch.cuda.empty_cache()\n",
    "    gc.collect()"
   ]
  },
  {
   "cell_type": "code",
   "execution_count": 39,
   "metadata": {
    "ExecuteTime": {
     "end_time": "2020-05-12T20:40:31.846621Z",
     "start_time": "2020-05-12T20:40:31.358777Z"
    }
   },
   "outputs": [
    {
     "data": {
      "text/html": [
       "<div>\n",
       "<style scoped>\n",
       "    .dataframe tbody tr th:only-of-type {\n",
       "        vertical-align: middle;\n",
       "    }\n",
       "\n",
       "    .dataframe tbody tr th {\n",
       "        vertical-align: top;\n",
       "    }\n",
       "\n",
       "    .dataframe thead th {\n",
       "        text-align: right;\n",
       "    }\n",
       "</style>\n",
       "<table border=\"1\" class=\"dataframe\">\n",
       "  <thead>\n",
       "    <tr style=\"text-align: right;\">\n",
       "      <th></th>\n",
       "      <th>image_id</th>\n",
       "      <th>width</th>\n",
       "      <th>height</th>\n",
       "      <th>bbox</th>\n",
       "      <th>source</th>\n",
       "    </tr>\n",
       "  </thead>\n",
       "  <tbody>\n",
       "    <tr>\n",
       "      <td>147552</td>\n",
       "      <td>893938464</td>\n",
       "      <td>1024</td>\n",
       "      <td>1024</td>\n",
       "      <td>[116.0, 177.0, 445.0, 133.0]</td>\n",
       "      <td>arvalis_2</td>\n",
       "    </tr>\n",
       "  </tbody>\n",
       "</table>\n",
       "</div>"
      ],
      "text/plain": [
       "         image_id  width  height                          bbox     source\n",
       "147552  893938464   1024    1024  [116.0, 177.0, 445.0, 133.0]  arvalis_2"
      ]
     },
     "execution_count": 39,
     "metadata": {},
     "output_type": "execute_result"
    }
   ],
   "source": [
    "i = [173, 3687, 4412, 113947, 117344, 118211, 121633, 121634, 147504, 147552]\n",
    "f = pd.read_csv(conf.DATA_PATH+'/train.csv')\n",
    "I = f[f.image_id == '893938464']\n",
    "B = I[I.bbox=='[116.0, 177.0, 445.0, 133.0]']\n",
    "B"
   ]
  },
  {
   "cell_type": "code",
   "execution_count": 38,
   "metadata": {
    "ExecuteTime": {
     "end_time": "2020-05-12T20:40:22.565411Z",
     "start_time": "2020-05-12T20:40:22.555413Z"
    }
   },
   "outputs": [
    {
     "data": {
      "text/plain": [
       "(147793, 5)"
      ]
     },
     "execution_count": 38,
     "metadata": {},
     "output_type": "execute_result"
    }
   ],
   "source": [
    "f.shape"
   ]
  },
  {
   "cell_type": "code",
   "execution_count": 40,
   "metadata": {
    "ExecuteTime": {
     "end_time": "2020-05-12T20:40:57.285066Z",
     "start_time": "2020-05-12T20:40:57.242081Z"
    }
   },
   "outputs": [
    {
     "data": {
      "text/plain": [
       "(147783, 5)"
      ]
     },
     "execution_count": 40,
     "metadata": {},
     "output_type": "execute_result"
    }
   ],
   "source": [
    "I = f.drop(f.index[i])\n",
    "I.shape"
   ]
  },
  {
   "cell_type": "code",
   "execution_count": null,
   "metadata": {},
   "outputs": [],
   "source": []
  }
 ],
 "metadata": {
  "kernelspec": {
   "display_name": "Python 3",
   "language": "python",
   "name": "python3"
  },
  "language_info": {
   "codemirror_mode": {
    "name": "ipython",
    "version": 3
   },
   "file_extension": ".py",
   "mimetype": "text/x-python",
   "name": "python",
   "nbconvert_exporter": "python",
   "pygments_lexer": "ipython3",
   "version": "3.7.4"
  },
  "toc": {
   "base_numbering": 1,
   "nav_menu": {},
   "number_sections": true,
   "sideBar": true,
   "skip_h1_title": false,
   "title_cell": "Table of Contents",
   "title_sidebar": "Contents",
   "toc_cell": false,
   "toc_position": {},
   "toc_section_display": true,
   "toc_window_display": false
  },
  "varInspector": {
   "cols": {
    "lenName": 16,
    "lenType": 16,
    "lenVar": 40
   },
   "kernels_config": {
    "python": {
     "delete_cmd_postfix": "",
     "delete_cmd_prefix": "del ",
     "library": "var_list.py",
     "varRefreshCmd": "print(var_dic_list())"
    },
    "r": {
     "delete_cmd_postfix": ") ",
     "delete_cmd_prefix": "rm(",
     "library": "var_list.r",
     "varRefreshCmd": "cat(var_dic_list()) "
    }
   },
   "types_to_exclude": [
    "module",
    "function",
    "builtin_function_or_method",
    "instance",
    "_Feature"
   ],
   "window_display": false
  }
 },
 "nbformat": 4,
 "nbformat_minor": 2
}
