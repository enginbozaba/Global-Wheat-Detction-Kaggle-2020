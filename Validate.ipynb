{
 "cells": [
  {
   "cell_type": "code",
   "execution_count": 1,
   "metadata": {
    "ExecuteTime": {
     "end_time": "2020-05-12T21:58:18.295500Z",
     "start_time": "2020-05-12T21:58:11.902475Z"
    }
   },
   "outputs": [],
   "source": [
    "import torch\n",
    "import torchvision\n",
    "import math\n",
    "import pandas as pd\n",
    "import numpy as np\n",
    "import gc\n",
    "from tqdm import tqdm_notebook\n",
    "from torch.utils.tensorboard import SummaryWriter\n",
    "\n",
    "\n",
    "from GWD_data import WheatDataset\n",
    "from metric import calculate_image_precision\n",
    "from utils import collate_fn, plot_boxes, get_model_name, format_prediction_string, remove_blanks, is_contain_blanks\n",
    "from config import config\n"
   ]
  },
  {
   "cell_type": "code",
   "execution_count": 2,
   "metadata": {
    "ExecuteTime": {
     "end_time": "2020-05-12T21:58:19.725282Z",
     "start_time": "2020-05-12T21:58:18.492437Z"
    }
   },
   "outputs": [],
   "source": [
    "conf = config()\n",
    "conf.DEVICE = torch.device('cuda:0') if torch.cuda.is_available() else torch.device('cpu')\n",
    "conf.BATH_SIZE = 4\n",
    "torch.random.manual_seed(5)\n",
    "writer = SummaryWriter(\"runs/Validate\") #\n",
    "\n",
    "\n",
    "WD_Train = WheatDataset(conf)\n",
    "WD_Valid = WheatDataset(conf, train=False)\n",
    "WD_Train_Loader = torch.utils.data.DataLoader(WD_Train, batch_size=conf.BATH_SIZE, shuffle=True, collate_fn=collate_fn)\n",
    "WD_Valid_Loader = torch.utils.data.DataLoader(WD_Valid, batch_size=conf.BATH_SIZE, shuffle=True, collate_fn=collate_fn)"
   ]
  },
  {
   "cell_type": "code",
   "execution_count": 9,
   "metadata": {
    "ExecuteTime": {
     "end_time": "2020-05-12T21:54:20.501446Z",
     "start_time": "2020-05-12T21:54:20.489450Z"
    }
   },
   "outputs": [
    {
     "data": {
      "text/plain": [
       "['global_wheat_epoch_0_loss_0.7703235149383545.model',\n",
       " 'global_wheat_epoch_0_step_0_loss_1.7423330545425415.model',\n",
       " 'global_wheat_epoch_0_step_0_loss_1.792172908782959.model',\n",
       " 'global_wheat_epoch_0_step_100_loss_1.3611688613891602.model',\n",
       " 'global_wheat_epoch_0_step_200_loss_1.02377450466156.model',\n",
       " 'global_wheat_epoch_0_step_300_loss_0.8959460258483887.model',\n",
       " 'global_wheat_epoch_0_step_400_loss_0.8438630104064941.model',\n",
       " 'global_wheat_epoch_4_loss_0.7505825161933899.model',\n",
       " 'GWD_EPOCH_0_SCORE_0.0000_LOSS_382.9978.pt',\n",
       " 'GWD_EPOCH_10_SCORE_0.0000_LOSS_211.9845.pt',\n",
       " 'GWD_EPOCH_11_SCORE_0.0000_LOSS_209.1651.pt',\n",
       " 'GWD_EPOCH_12_SCORE_0.0000_LOSS_208.6549.pt',\n",
       " 'GWD_EPOCH_13_SCORE_0.0000_LOSS_206.3007.pt',\n",
       " 'GWD_EPOCH_14_SCORE_0.0000_LOSS_205.7413.pt',\n",
       " 'GWD_EPOCH_15_SCORE_0.0000_LOSS_205.9956.pt',\n",
       " 'GWD_EPOCH_16_SCORE_0.0000_LOSS_203.7507.pt',\n",
       " 'GWD_EPOCH_1_SCORE_0.0000_LOSS_273.1651.pt',\n",
       " 'GWD_EPOCH_2_SCORE_0.0000_LOSS_252.9564.pt',\n",
       " 'GWD_EPOCH_3_SCORE_0.0000_LOSS_240.0688.pt',\n",
       " 'GWD_EPOCH_4_SCORE_0.0000_LOSS_234.7404.pt',\n",
       " 'GWD_EPOCH_5_SCORE_0.0000_LOSS_228.4960.pt',\n",
       " 'GWD_EPOCH_6_SCORE_0.0000_LOSS_226.8703.pt',\n",
       " 'GWD_EPOCH_7_SCORE_0.0000_LOSS_222.0856.pt',\n",
       " 'GWD_EPOCH_8_SCORE_0.0000_LOSS_218.4846.pt',\n",
       " 'GWD_EPOCH_9_SCORE_0.0000_LOSS_216.1966.pt']"
      ]
     },
     "execution_count": 9,
     "metadata": {},
     "output_type": "execute_result"
    }
   ],
   "source": [
    "import os\n",
    "os.listdir('model/')"
   ]
  },
  {
   "cell_type": "code",
   "execution_count": 3,
   "metadata": {
    "ExecuteTime": {
     "end_time": "2020-05-12T21:35:06.521724Z",
     "start_time": "2020-05-12T21:35:06.516726Z"
    }
   },
   "outputs": [],
   "source": [
    "model_list = [\n",
    " 'GWD_EPOCH_12_SCORE_0.0000_LOSS_208.6549.pt',\n",
    " 'GWD_EPOCH_13_SCORE_0.0000_LOSS_206.3007.pt',\n",
    " 'GWD_EPOCH_14_SCORE_0.0000_LOSS_205.7413.pt',\n",
    " 'GWD_EPOCH_15_SCORE_0.0000_LOSS_205.9956.pt']"
   ]
  },
  {
   "cell_type": "markdown",
   "metadata": {},
   "source": [
    "# Testing Data"
   ]
  },
  {
   "cell_type": "code",
   "execution_count": 4,
   "metadata": {
    "ExecuteTime": {
     "end_time": "2020-05-12T21:35:06.640685Z",
     "start_time": "2020-05-12T21:35:06.603698Z"
    }
   },
   "outputs": [],
   "source": [
    "torch.cuda.empty_cache()"
   ]
  },
  {
   "cell_type": "code",
   "execution_count": 5,
   "metadata": {
    "ExecuteTime": {
     "end_time": "2020-05-12T21:49:33.657665Z",
     "start_time": "2020-05-12T21:35:06.739562Z"
    }
   },
   "outputs": [
    {
     "data": {
      "application/vnd.jupyter.widget-view+json": {
       "model_id": "af269fc668404abda92e522475a34c11",
       "version_major": 2,
       "version_minor": 0
      },
      "text/plain": [
       "HBox(children=(IntProgress(value=0, max=4), HTML(value='')))"
      ]
     },
     "metadata": {},
     "output_type": "display_data"
    },
    {
     "data": {
      "application/vnd.jupyter.widget-view+json": {
       "model_id": "ad3944ba00394c09baf6056f3cb8f2f5",
       "version_major": 2,
       "version_minor": 0
      },
      "text/plain": [
       "HBox(children=(IntProgress(value=0, max=169), HTML(value='')))"
      ]
     },
     "metadata": {},
     "output_type": "display_data"
    },
    {
     "name": "stderr",
     "output_type": "stream",
     "text": [
      "C:\\ProgramData\\Anaconda3\\lib\\site-packages\\torch\\nn\\functional.py:2854: UserWarning: The default behavior for interpolate/upsample with float scale_factor will change in 1.6.0 to align with other frameworks/libraries, and use scale_factor directly, instead of relying on the computed output size. If you wish to keep the old behavior, please set recompute_scale_factor=True. See the documentation of nn.Upsample for details. \n",
      "  warnings.warn(\"The default behavior for interpolate/upsample with float scale_factor will change \"\n",
      "..\\torch\\csrc\\utils\\python_arg_parser.cpp:756: UserWarning: This overload of nonzero is deprecated:\n",
      "\tnonzero(Tensor input, *, Tensor out)\n",
      "Consider using one of the following signatures instead:\n",
      "\tnonzero(Tensor input, *, bool as_tuple)\n"
     ]
    },
    {
     "name": "stdout",
     "output_type": "stream",
     "text": [
      "\n"
     ]
    },
    {
     "data": {
      "application/vnd.jupyter.widget-view+json": {
       "model_id": "c5683bcaca60419d9dd6d9adc66cd91f",
       "version_major": 2,
       "version_minor": 0
      },
      "text/plain": [
       "HBox(children=(IntProgress(value=0, max=169), HTML(value='')))"
      ]
     },
     "metadata": {},
     "output_type": "display_data"
    },
    {
     "name": "stdout",
     "output_type": "stream",
     "text": [
      "\n"
     ]
    },
    {
     "data": {
      "application/vnd.jupyter.widget-view+json": {
       "model_id": "5d4f3ee612ef458ca53a25605d9a3a04",
       "version_major": 2,
       "version_minor": 0
      },
      "text/plain": [
       "HBox(children=(IntProgress(value=0, max=169), HTML(value='')))"
      ]
     },
     "metadata": {},
     "output_type": "display_data"
    },
    {
     "name": "stdout",
     "output_type": "stream",
     "text": [
      "\n"
     ]
    },
    {
     "data": {
      "application/vnd.jupyter.widget-view+json": {
       "model_id": "f7b65d11d92148f498b421e42a60e138",
       "version_major": 2,
       "version_minor": 0
      },
      "text/plain": [
       "HBox(children=(IntProgress(value=0, max=169), HTML(value='')))"
      ]
     },
     "metadata": {},
     "output_type": "display_data"
    },
    {
     "name": "stdout",
     "output_type": "stream",
     "text": [
      "weird shape error\n",
      "\n",
      "\n"
     ]
    }
   ],
   "source": [
    "for i in tqdm_notebook(range(len(model_list))):\n",
    "    \n",
    "    EPOCH = int(model_list[i].split('_')[2])\n",
    "    LOSS = float(model_list[i].split('_')[-1][:-3])\n",
    "    \n",
    "    GWD_Model = torch.load('model/'+model_list[i])\n",
    "    GWD_Model.eval()\n",
    "    GWD_Model.to(conf.DEVICE)\n",
    "    precisions = []\n",
    "    \n",
    "    for images, targets in tqdm_notebook(WD_Valid_Loader):\n",
    "        try:\n",
    "            images = [torch.tensor(image, dtype = torch.float32).to(conf.DEVICE) for image in images]\n",
    "            preds = GWD_Model(images)\n",
    "\n",
    "            for pred, target in zip(preds, targets):\n",
    "                ground_truth = target['boxes']\n",
    "                pred_boxes = pred['boxes'].to(torch.device('cpu')).detach().numpy()\n",
    "                precisions.append(calculate_image_precision(ground_truth, pred_boxes, thresholds=conf.PRECISION_THRESH))\n",
    "        except:\n",
    "            print('weird shape error')\n",
    "    \n",
    "    test_score = np.mean(np.array(precisions))\n",
    "    writer.add_scalar('Epoch_Vars/Model_Loss', LOSS, EPOCH)\n",
    "    writer.add_scalar('Epoch_Vars/Validation_Score', test_score, EPOCH)\n",
    "    \n",
    "    GWD_Model=None\n",
    "    torch.cuda.empty_cache()\n",
    "    gc.collect()"
   ]
  },
  {
   "cell_type": "markdown",
   "metadata": {},
   "source": [
    "# tRAINING dTA"
   ]
  },
  {
   "cell_type": "code",
   "execution_count": 3,
   "metadata": {
    "ExecuteTime": {
     "end_time": "2020-05-12T21:58:19.899226Z",
     "start_time": "2020-05-12T21:58:19.889229Z"
    }
   },
   "outputs": [],
   "source": [
    "model_list = [\n",
    " 'GWD_EPOCH_0_SCORE_0.0000_LOSS_382.9978.pt',\n",
    " 'GWD_EPOCH_1_SCORE_0.0000_LOSS_273.1651.pt',\n",
    " 'GWD_EPOCH_2_SCORE_0.0000_LOSS_252.9564.pt',\n",
    " 'GWD_EPOCH_3_SCORE_0.0000_LOSS_240.0688.pt',\n",
    " 'GWD_EPOCH_4_SCORE_0.0000_LOSS_234.7404.pt',\n",
    " 'GWD_EPOCH_5_SCORE_0.0000_LOSS_228.4960.pt',\n",
    " 'GWD_EPOCH_6_SCORE_0.0000_LOSS_226.8703.pt',\n",
    " 'GWD_EPOCH_7_SCORE_0.0000_LOSS_222.0856.pt',\n",
    " 'GWD_EPOCH_8_SCORE_0.0000_LOSS_218.4846.pt',\n",
    " 'GWD_EPOCH_9_SCORE_0.0000_LOSS_216.1966.pt',\n",
    " 'GWD_EPOCH_10_SCORE_0.0000_LOSS_211.9845.pt',\n",
    " 'GWD_EPOCH_11_SCORE_0.0000_LOSS_209.1651.pt',\n",
    " 'GWD_EPOCH_12_SCORE_0.0000_LOSS_208.6549.pt',\n",
    " 'GWD_EPOCH_13_SCORE_0.0000_LOSS_206.3007.pt',\n",
    " 'GWD_EPOCH_14_SCORE_0.0000_LOSS_205.7413.pt',\n",
    " 'GWD_EPOCH_15_SCORE_0.0000_LOSS_205.9956.pt',]"
   ]
  },
  {
   "cell_type": "code",
   "execution_count": null,
   "metadata": {
    "ExecuteTime": {
     "start_time": "2020-05-12T21:58:36.035Z"
    }
   },
   "outputs": [
    {
     "data": {
      "application/vnd.jupyter.widget-view+json": {
       "model_id": "4de8c6eab6f5411aae4ca296a0fec4df",
       "version_major": 2,
       "version_minor": 0
      },
      "text/plain": [
       "HBox(children=(IntProgress(value=0, max=16), HTML(value='')))"
      ]
     },
     "metadata": {},
     "output_type": "display_data"
    },
    {
     "data": {
      "application/vnd.jupyter.widget-view+json": {
       "model_id": "6c46628b6952498aae15c1832275b7e0",
       "version_major": 2,
       "version_minor": 0
      },
      "text/plain": [
       "HBox(children=(IntProgress(value=0, max=675), HTML(value='')))"
      ]
     },
     "metadata": {},
     "output_type": "display_data"
    },
    {
     "name": "stderr",
     "output_type": "stream",
     "text": [
      "C:\\ProgramData\\Anaconda3\\lib\\site-packages\\torch\\nn\\functional.py:2854: UserWarning: The default behavior for interpolate/upsample with float scale_factor will change in 1.6.0 to align with other frameworks/libraries, and use scale_factor directly, instead of relying on the computed output size. If you wish to keep the old behavior, please set recompute_scale_factor=True. See the documentation of nn.Upsample for details. \n",
      "  warnings.warn(\"The default behavior for interpolate/upsample with float scale_factor will change \"\n",
      "..\\torch\\csrc\\utils\\python_arg_parser.cpp:756: UserWarning: This overload of nonzero is deprecated:\n",
      "\tnonzero(Tensor input, *, Tensor out)\n",
      "Consider using one of the following signatures instead:\n",
      "\tnonzero(Tensor input, *, bool as_tuple)\n"
     ]
    },
    {
     "name": "stdout",
     "output_type": "stream",
     "text": [
      "weird shape error\n",
      "weird shape error\n",
      "weird shape error\n",
      "\n"
     ]
    },
    {
     "data": {
      "application/vnd.jupyter.widget-view+json": {
       "model_id": "9167f91fb32e412cb404e3bf66ac7881",
       "version_major": 2,
       "version_minor": 0
      },
      "text/plain": [
       "HBox(children=(IntProgress(value=0, max=675), HTML(value='')))"
      ]
     },
     "metadata": {},
     "output_type": "display_data"
    },
    {
     "name": "stdout",
     "output_type": "stream",
     "text": [
      "\n"
     ]
    },
    {
     "data": {
      "application/vnd.jupyter.widget-view+json": {
       "model_id": "5d5bdef27ed84d3cbe1ffa3765508e68",
       "version_major": 2,
       "version_minor": 0
      },
      "text/plain": [
       "HBox(children=(IntProgress(value=0, max=675), HTML(value='')))"
      ]
     },
     "metadata": {},
     "output_type": "display_data"
    },
    {
     "name": "stdout",
     "output_type": "stream",
     "text": [
      "\n"
     ]
    },
    {
     "data": {
      "application/vnd.jupyter.widget-view+json": {
       "model_id": "981aaf3dd3d64f6e92f024afd96ae5a0",
       "version_major": 2,
       "version_minor": 0
      },
      "text/plain": [
       "HBox(children=(IntProgress(value=0, max=675), HTML(value='')))"
      ]
     },
     "metadata": {},
     "output_type": "display_data"
    },
    {
     "name": "stdout",
     "output_type": "stream",
     "text": [
      "weird shape error\n",
      "weird shape error\n",
      "\n"
     ]
    },
    {
     "data": {
      "application/vnd.jupyter.widget-view+json": {
       "model_id": "cd26e8b6e3b3487ab61fb9e1e92d13e8",
       "version_major": 2,
       "version_minor": 0
      },
      "text/plain": [
       "HBox(children=(IntProgress(value=0, max=675), HTML(value='')))"
      ]
     },
     "metadata": {},
     "output_type": "display_data"
    },
    {
     "name": "stdout",
     "output_type": "stream",
     "text": [
      "weird shape error\n",
      "weird shape error\n",
      "weird shape error\n",
      "\n"
     ]
    },
    {
     "data": {
      "application/vnd.jupyter.widget-view+json": {
       "model_id": "7d24b2ce9c064c4b870a29a7a0d67e1f",
       "version_major": 2,
       "version_minor": 0
      },
      "text/plain": [
       "HBox(children=(IntProgress(value=0, max=675), HTML(value='')))"
      ]
     },
     "metadata": {},
     "output_type": "display_data"
    },
    {
     "name": "stdout",
     "output_type": "stream",
     "text": [
      "weird shape error\n",
      "\n"
     ]
    },
    {
     "data": {
      "application/vnd.jupyter.widget-view+json": {
       "model_id": "a3d9db60a055457badd678e6ffd346b5",
       "version_major": 2,
       "version_minor": 0
      },
      "text/plain": [
       "HBox(children=(IntProgress(value=0, max=675), HTML(value='')))"
      ]
     },
     "metadata": {},
     "output_type": "display_data"
    },
    {
     "name": "stdout",
     "output_type": "stream",
     "text": [
      "weird shape error\n",
      "weird shape error\n",
      "\n"
     ]
    },
    {
     "data": {
      "application/vnd.jupyter.widget-view+json": {
       "model_id": "86a844d338834d7d94babaabcb31f9b7",
       "version_major": 2,
       "version_minor": 0
      },
      "text/plain": [
       "HBox(children=(IntProgress(value=0, max=675), HTML(value='')))"
      ]
     },
     "metadata": {},
     "output_type": "display_data"
    }
   ],
   "source": [
    "torch.cuda.empty_cache()\n",
    "for i in tqdm_notebook(range(len(model_list))):\n",
    "    \n",
    "    EPOCH = int(model_list[i].split('_')[2])\n",
    "    LOSS = float(model_list[i].split('_')[-1][:-3])\n",
    "    \n",
    "    GWD_Model = torch.load('model/'+model_list[i])\n",
    "    GWD_Model.eval()\n",
    "    GWD_Model.to(conf.DEVICE)\n",
    "    precisions = []\n",
    "    \n",
    "    for images, targets in tqdm_notebook(WD_Train_Loader):\n",
    "        try:\n",
    "            images = [torch.tensor(image, dtype = torch.float32).to(conf.DEVICE) for image in images]\n",
    "            preds = GWD_Model(images)\n",
    "\n",
    "            for pred, target in zip(preds, targets):\n",
    "                ground_truth = target['boxes']\n",
    "                pred_boxes = pred['boxes'].to(torch.device('cpu')).detach().numpy()\n",
    "                precisions.append(calculate_image_precision(ground_truth, pred_boxes, thresholds=conf.PRECISION_THRESH))\n",
    "        except:\n",
    "            print('weird shape error')\n",
    "    \n",
    "    train_score = np.mean(np.array(precisions))\n",
    "    #writer.add_scalar('Epoch_Vars/Model_Loss', LOSS, EPOCH)\n",
    "    writer.add_scalar('Epoch_Vars/Training_Score', train_score, EPOCH)\n",
    "    \n",
    "    GWD_Model=None\n",
    "    torch.cuda.empty_cache()\n",
    "    gc.collect()"
   ]
  },
  {
   "cell_type": "code",
   "execution_count": 39,
   "metadata": {
    "ExecuteTime": {
     "end_time": "2020-05-12T20:40:31.846621Z",
     "start_time": "2020-05-12T20:40:31.358777Z"
    }
   },
   "outputs": [
    {
     "data": {
      "text/html": [
       "<div>\n",
       "<style scoped>\n",
       "    .dataframe tbody tr th:only-of-type {\n",
       "        vertical-align: middle;\n",
       "    }\n",
       "\n",
       "    .dataframe tbody tr th {\n",
       "        vertical-align: top;\n",
       "    }\n",
       "\n",
       "    .dataframe thead th {\n",
       "        text-align: right;\n",
       "    }\n",
       "</style>\n",
       "<table border=\"1\" class=\"dataframe\">\n",
       "  <thead>\n",
       "    <tr style=\"text-align: right;\">\n",
       "      <th></th>\n",
       "      <th>image_id</th>\n",
       "      <th>width</th>\n",
       "      <th>height</th>\n",
       "      <th>bbox</th>\n",
       "      <th>source</th>\n",
       "    </tr>\n",
       "  </thead>\n",
       "  <tbody>\n",
       "    <tr>\n",
       "      <td>147552</td>\n",
       "      <td>893938464</td>\n",
       "      <td>1024</td>\n",
       "      <td>1024</td>\n",
       "      <td>[116.0, 177.0, 445.0, 133.0]</td>\n",
       "      <td>arvalis_2</td>\n",
       "    </tr>\n",
       "  </tbody>\n",
       "</table>\n",
       "</div>"
      ],
      "text/plain": [
       "         image_id  width  height                          bbox     source\n",
       "147552  893938464   1024    1024  [116.0, 177.0, 445.0, 133.0]  arvalis_2"
      ]
     },
     "execution_count": 39,
     "metadata": {},
     "output_type": "execute_result"
    }
   ],
   "source": [
    "i = [173, 3687, 4412, 113947, 117344, 118211, 121633, 121634, 147504, 147552]\n",
    "f = pd.read_csv(conf.DATA_PATH+'/train.csv')\n",
    "I = f[f.image_id == '893938464']\n",
    "B = I[I.bbox=='[116.0, 177.0, 445.0, 133.0]']\n",
    "B"
   ]
  },
  {
   "cell_type": "code",
   "execution_count": 38,
   "metadata": {
    "ExecuteTime": {
     "end_time": "2020-05-12T20:40:22.565411Z",
     "start_time": "2020-05-12T20:40:22.555413Z"
    }
   },
   "outputs": [
    {
     "data": {
      "text/plain": [
       "(147793, 5)"
      ]
     },
     "execution_count": 38,
     "metadata": {},
     "output_type": "execute_result"
    }
   ],
   "source": [
    "f.shape"
   ]
  },
  {
   "cell_type": "code",
   "execution_count": 40,
   "metadata": {
    "ExecuteTime": {
     "end_time": "2020-05-12T20:40:57.285066Z",
     "start_time": "2020-05-12T20:40:57.242081Z"
    }
   },
   "outputs": [
    {
     "data": {
      "text/plain": [
       "(147783, 5)"
      ]
     },
     "execution_count": 40,
     "metadata": {},
     "output_type": "execute_result"
    }
   ],
   "source": [
    "I = f.drop(f.index[i])\n",
    "I.shape"
   ]
  },
  {
   "cell_type": "code",
   "execution_count": null,
   "metadata": {},
   "outputs": [],
   "source": []
  }
 ],
 "metadata": {
  "kernelspec": {
   "display_name": "Python 3",
   "language": "python",
   "name": "python3"
  },
  "language_info": {
   "codemirror_mode": {
    "name": "ipython",
    "version": 3
   },
   "file_extension": ".py",
   "mimetype": "text/x-python",
   "name": "python",
   "nbconvert_exporter": "python",
   "pygments_lexer": "ipython3",
   "version": "3.7.4"
  },
  "toc": {
   "base_numbering": 1,
   "nav_menu": {},
   "number_sections": true,
   "sideBar": true,
   "skip_h1_title": false,
   "title_cell": "Table of Contents",
   "title_sidebar": "Contents",
   "toc_cell": false,
   "toc_position": {},
   "toc_section_display": true,
   "toc_window_display": false
  },
  "varInspector": {
   "cols": {
    "lenName": 16,
    "lenType": 16,
    "lenVar": 40
   },
   "kernels_config": {
    "python": {
     "delete_cmd_postfix": "",
     "delete_cmd_prefix": "del ",
     "library": "var_list.py",
     "varRefreshCmd": "print(var_dic_list())"
    },
    "r": {
     "delete_cmd_postfix": ") ",
     "delete_cmd_prefix": "rm(",
     "library": "var_list.r",
     "varRefreshCmd": "cat(var_dic_list()) "
    }
   },
   "types_to_exclude": [
    "module",
    "function",
    "builtin_function_or_method",
    "instance",
    "_Feature"
   ],
   "window_display": false
  }
 },
 "nbformat": 4,
 "nbformat_minor": 2
}
