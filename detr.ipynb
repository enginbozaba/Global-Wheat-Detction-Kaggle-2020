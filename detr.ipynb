{
 "cells": [
  {
   "cell_type": "markdown",
   "metadata": {},
   "source": [
    "# Training"
   ]
  },
  {
   "cell_type": "code",
   "execution_count": 1,
   "metadata": {
    "ExecuteTime": {
     "end_time": "2020-06-29T22:15:06.299316Z",
     "start_time": "2020-06-29T22:15:00.368677Z"
    }
   },
   "outputs": [],
   "source": [
    "from torch.utils.data import DataLoader\n",
    "import gc\n",
    "import torch\n",
    "from tqdm.notebook import tqdm\n",
    "import math\n",
    "\n",
    "from detr.config import config\n",
    "from augmentations.aug import get_augmentor\n",
    "from detr.utils.data import WheatDataset, collate_fn\n",
    "#from fasterrcnn.utils.training_handler import get_training_handler"
   ]
  },
  {
   "cell_type": "code",
   "execution_count": 2,
   "metadata": {
    "ExecuteTime": {
     "end_time": "2020-06-29T22:15:34.827084Z",
     "start_time": "2020-06-29T22:15:34.306429Z"
    }
   },
   "outputs": [],
   "source": [
    "conf = config()\n",
    "augmentor = get_augmentor(min_visibility=0.3, blur = [0., 5], gaussian_noise = [0.15, 5/255], rgb_shift = [0.2, 15/255], dropout = 0.1)\n",
    "\n",
    "#conf.DATA_PATH = os.path.join('/kaggle','input', 'global-wheat-detection')\n",
    "conf.BATCH_SIZE = 4\n",
    "conf.DEVICE = torch.device('cuda:1') if torch.cuda.is_available() else torch.device('cpu')\n",
    "#conf.SPLIT = 0.8\n",
    "\n",
    "WD_Train = WheatDataset(conf, \n",
    "                  is_train=True, \n",
    "                  augmentation=True,\n",
    "                  normalize=True,\n",
    "                  augmentor=augmentor, \n",
    "                  random_seed=0)\n",
    "\n",
    "WD_Train_Loader = DataLoader(WD_Train, batch_size=conf.BATCH_SIZE, shuffle=True, collate_fn=collate_fn)\n"
   ]
  },
  {
   "cell_type": "code",
   "execution_count": 6,
   "metadata": {
    "ExecuteTime": {
     "end_time": "2020-06-29T22:16:46.984507Z",
     "start_time": "2020-06-29T22:16:43.729385Z"
    }
   },
   "outputs": [
    {
     "name": "stderr",
     "output_type": "stream",
     "text": [
      "Using cache found in C:\\Users\\jay/.cache\\torch\\hub\\facebookresearch_detr_master\n"
     ]
    }
   ],
   "source": [
    "import torch.nn.functional as F\n",
    "from torch import nn\n",
    "\n",
    "EPOCH = 0\n",
    "\n",
    "GWD_detr_Model = torch.hub.load('facebookresearch/detr', 'detr_resnet101', pretrained=False, num_classes=1)\n",
    "\n",
    "\n",
    "checkpoint = torch.hub.load_state_dict_from_url(\n",
    "            url='https://dl.fbaipublicfiles.com/detr/detr-r50-e632da11.pth',\n",
    "            #map_location='cpu',\n",
    "            check_hash=True)\n",
    "del checkpoint[\"model\"][\"class_embed.weight\"]\n",
    "del checkpoint[\"model\"][\"class_embed.bias\"]\n",
    "GWD_detr_Model.load_state_dict(checkpoint[\"model\"], strict=False)\n",
    "\n",
    "\n",
    "_ = GWD_detr_Model.to(conf.DEVICE)"
   ]
  },
  {
   "cell_type": "code",
   "execution_count": 8,
   "metadata": {
    "ExecuteTime": {
     "end_time": "2020-06-29T22:18:30.025757Z",
     "start_time": "2020-06-29T22:18:29.996522Z"
    },
    "scrolled": true
   },
   "outputs": [],
   "source": [
    "#print(GWD_detr_Model)\n",
    "params = [p for p in GWD_detr_Model.parameters() if p.requires_grad]\n",
    "optimizer = torch.optim.SGD(params, lr=0.00001, weight_decay=0.0001)  \n",
    "\n",
    "back = []\n",
    "front=[]\n",
    "for k, v in GWD_detr_Model.named_parameters():\n",
    "    if 'backbone.' in k:\n",
    "        back.append(v)\n",
    "    else:\n",
    "        front.append(v)\n",
    "lr = 1e-4\n",
    "optimizer = torch.optim.SGD([{'params': back, 'lr': lr/10}, {'params': front}], lr=lr, weight_decay=0.0001)         "
   ]
  },
  {
   "cell_type": "code",
   "execution_count": 14,
   "metadata": {
    "ExecuteTime": {
     "end_time": "2020-06-29T22:22:50.083704Z",
     "start_time": "2020-06-29T22:22:50.063339Z"
    }
   },
   "outputs": [],
   "source": [
    "from detr.detr.models.detr import SetCriterion\n",
    "from detr.detr.models.matcher import HungarianMatcher\n",
    "\n",
    "num_classes=1\n",
    "\n",
    "#These are the default values in the source code\n",
    "bbox_loss_coef=5.0 \n",
    "giou_loss_coef=2.0\n",
    "eos_coef=0.1\n",
    "set_cost_class=1.0\n",
    "set_cost_bbox=5.0\n",
    "set_cost_giou=2.0\n",
    "\n",
    "\n",
    "matcher = HungarianMatcher(cost_class=set_cost_class, cost_bbox=set_cost_bbox, cost_giou=set_cost_giou)\n",
    "weight_dict = {'loss_ce': 1, 'loss_bbox': bbox_loss_coef}\n",
    "weight_dict['loss_giou'] = giou_loss_coef\n",
    "losses = ['labels', 'boxes', 'cardinality']\n",
    "\n",
    "criterion = SetCriterion(num_classes, matcher=matcher, weight_dict=weight_dict,eos_coef=eos_coef, losses=losses)\n",
    "_ = criterion.to(conf.DEVICE)"
   ]
  },
  {
   "cell_type": "code",
   "execution_count": 15,
   "metadata": {
    "ExecuteTime": {
     "end_time": "2020-06-29T22:24:03.509705Z",
     "start_time": "2020-06-29T22:23:22.341821Z"
    }
   },
   "outputs": [
    {
     "data": {
      "application/vnd.jupyter.widget-view+json": {
       "model_id": "78d76eda453d481591ff53cb528358c0",
       "version_major": 2,
       "version_minor": 0
      },
      "text/plain": [
       "HBox(children=(IntProgress(value=0, max=50), HTML(value='')))"
      ]
     },
     "metadata": {},
     "output_type": "display_data"
    },
    {
     "data": {
      "application/vnd.jupyter.widget-view+json": {
       "model_id": "3a789754468441e7b3304dea71eac487",
       "version_major": 2,
       "version_minor": 0
      },
      "text/plain": [
       "HBox(children=(IntProgress(value=0, max=675), HTML(value='')))"
      ]
     },
     "metadata": {},
     "output_type": "display_data"
    },
    {
     "name": "stdout",
     "output_type": "stream",
     "text": [
      "loss_ce:0.4735482, class_error:4.347824, loss_bbox:0.419187, loss_giou:1.0901135, cardinality_error:57.75, \n"
     ]
    },
    {
     "ename": "KeyboardInterrupt",
     "evalue": "",
     "output_type": "error",
     "traceback": [
      "\u001b[1;31m---------------------------------------------------------------------------\u001b[0m",
      "\u001b[1;31mKeyboardInterrupt\u001b[0m                         Traceback (most recent call last)",
      "\u001b[1;32m<ipython-input-15-97fccc5ee457>\u001b[0m in \u001b[0;36m<module>\u001b[1;34m\u001b[0m\n\u001b[0;32m     30\u001b[0m         \u001b[1;32mif\u001b[0m \u001b[0mmath\u001b[0m\u001b[1;33m.\u001b[0m\u001b[0misfinite\u001b[0m\u001b[1;33m(\u001b[0m\u001b[0msummed_loss_value\u001b[0m\u001b[1;33m)\u001b[0m\u001b[1;33m:\u001b[0m\u001b[1;33m\u001b[0m\u001b[1;33m\u001b[0m\u001b[0m\n\u001b[0;32m     31\u001b[0m             \u001b[0moptimizer\u001b[0m\u001b[1;33m.\u001b[0m\u001b[0mzero_grad\u001b[0m\u001b[1;33m(\u001b[0m\u001b[1;33m)\u001b[0m\u001b[1;33m\u001b[0m\u001b[1;33m\u001b[0m\u001b[0m\n\u001b[1;32m---> 32\u001b[1;33m             \u001b[0msummed_loss_value\u001b[0m\u001b[1;33m.\u001b[0m\u001b[0mbackward\u001b[0m\u001b[1;33m(\u001b[0m\u001b[1;33m)\u001b[0m\u001b[1;33m\u001b[0m\u001b[1;33m\u001b[0m\u001b[0m\n\u001b[0m\u001b[0;32m     33\u001b[0m             \u001b[1;32mif\u001b[0m \u001b[0mclip_max_norm\u001b[0m \u001b[1;33m>\u001b[0m \u001b[1;36m0\u001b[0m\u001b[1;33m:\u001b[0m\u001b[1;33m\u001b[0m\u001b[1;33m\u001b[0m\u001b[0m\n\u001b[0;32m     34\u001b[0m                 \u001b[0mtorch\u001b[0m\u001b[1;33m.\u001b[0m\u001b[0mnn\u001b[0m\u001b[1;33m.\u001b[0m\u001b[0mutils\u001b[0m\u001b[1;33m.\u001b[0m\u001b[0mclip_grad_norm_\u001b[0m\u001b[1;33m(\u001b[0m\u001b[0mGWD_detr_Model\u001b[0m\u001b[1;33m.\u001b[0m\u001b[0mparameters\u001b[0m\u001b[1;33m(\u001b[0m\u001b[1;33m)\u001b[0m\u001b[1;33m,\u001b[0m \u001b[0mclip_max_norm\u001b[0m\u001b[1;33m)\u001b[0m\u001b[1;33m\u001b[0m\u001b[1;33m\u001b[0m\u001b[0m\n",
      "\u001b[1;32mC:\\ProgramData\\Anaconda3\\lib\\site-packages\\torch\\tensor.py\u001b[0m in \u001b[0;36mbackward\u001b[1;34m(self, gradient, retain_graph, create_graph)\u001b[0m\n\u001b[0;32m    196\u001b[0m                 \u001b[0mproducts\u001b[0m\u001b[1;33m.\u001b[0m \u001b[0mDefaults\u001b[0m \u001b[0mto\u001b[0m\u001b[0;31m \u001b[0m\u001b[0;31m`\u001b[0m\u001b[0;31m`\u001b[0m\u001b[1;32mFalse\u001b[0m\u001b[0;31m`\u001b[0m\u001b[0;31m`\u001b[0m\u001b[1;33m.\u001b[0m\u001b[1;33m\u001b[0m\u001b[1;33m\u001b[0m\u001b[0m\n\u001b[0;32m    197\u001b[0m         \"\"\"\n\u001b[1;32m--> 198\u001b[1;33m         \u001b[0mtorch\u001b[0m\u001b[1;33m.\u001b[0m\u001b[0mautograd\u001b[0m\u001b[1;33m.\u001b[0m\u001b[0mbackward\u001b[0m\u001b[1;33m(\u001b[0m\u001b[0mself\u001b[0m\u001b[1;33m,\u001b[0m \u001b[0mgradient\u001b[0m\u001b[1;33m,\u001b[0m \u001b[0mretain_graph\u001b[0m\u001b[1;33m,\u001b[0m \u001b[0mcreate_graph\u001b[0m\u001b[1;33m)\u001b[0m\u001b[1;33m\u001b[0m\u001b[1;33m\u001b[0m\u001b[0m\n\u001b[0m\u001b[0;32m    199\u001b[0m \u001b[1;33m\u001b[0m\u001b[0m\n\u001b[0;32m    200\u001b[0m     \u001b[1;32mdef\u001b[0m \u001b[0mregister_hook\u001b[0m\u001b[1;33m(\u001b[0m\u001b[0mself\u001b[0m\u001b[1;33m,\u001b[0m \u001b[0mhook\u001b[0m\u001b[1;33m)\u001b[0m\u001b[1;33m:\u001b[0m\u001b[1;33m\u001b[0m\u001b[1;33m\u001b[0m\u001b[0m\n",
      "\u001b[1;32mC:\\ProgramData\\Anaconda3\\lib\\site-packages\\torch\\autograd\\__init__.py\u001b[0m in \u001b[0;36mbackward\u001b[1;34m(tensors, grad_tensors, retain_graph, create_graph, grad_variables)\u001b[0m\n\u001b[0;32m     98\u001b[0m     Variable._execution_engine.run_backward(\n\u001b[0;32m     99\u001b[0m         \u001b[0mtensors\u001b[0m\u001b[1;33m,\u001b[0m \u001b[0mgrad_tensors\u001b[0m\u001b[1;33m,\u001b[0m \u001b[0mretain_graph\u001b[0m\u001b[1;33m,\u001b[0m \u001b[0mcreate_graph\u001b[0m\u001b[1;33m,\u001b[0m\u001b[1;33m\u001b[0m\u001b[1;33m\u001b[0m\u001b[0m\n\u001b[1;32m--> 100\u001b[1;33m         allow_unreachable=True)  # allow_unreachable flag\n\u001b[0m\u001b[0;32m    101\u001b[0m \u001b[1;33m\u001b[0m\u001b[0m\n\u001b[0;32m    102\u001b[0m \u001b[1;33m\u001b[0m\u001b[0m\n",
      "\u001b[1;31mKeyboardInterrupt\u001b[0m: "
     ]
    }
   ],
   "source": [
    "_iter=len(WD_Train_Loader)*(EPOCH)\n",
    "clip_max_norm=0.1  #Default value in their code\n",
    "\n",
    "_ = GWD_detr_Model.train()\n",
    "_ = criterion.train()\n",
    "\n",
    "for i in tqdm(range(EPOCH, 50, 1)):\n",
    "    ep_loss_ce=0\n",
    "    ep_class_error=0\n",
    "    ep_loss_bbox=0 \n",
    "    ep_loss_giou=0 \n",
    "    ep_cardinality_error=0\n",
    "    \n",
    "    \n",
    "    for images, targets in tqdm(WD_Train_Loader):\n",
    "\n",
    "        images = [torch.tensor(image, dtype = torch.float32).to(conf.DEVICE) for image in images]\n",
    "        targets = [{k: torch.tensor(v).to(conf.DEVICE) for k, v in target.items()} for target in targets]\n",
    "        #print(targets[0]['labels'])\n",
    "        \n",
    "        #Main fwd pass and loss calc  \n",
    "        outputs = GWD_detr_Model(images)\n",
    "        \n",
    "        #print(outputs['pred_logits'][0])\n",
    "\n",
    "        loss_dict = criterion(outputs, targets)\n",
    "        weight_dict = criterion.weight_dict\n",
    "        summed_loss_value = sum(loss_dict[k] * weight_dict[k] for k in loss_dict.keys() if k in weight_dict)\n",
    "\n",
    "        if math.isfinite(summed_loss_value):\n",
    "            optimizer.zero_grad()\n",
    "            summed_loss_value.backward()\n",
    "            if clip_max_norm > 0:\n",
    "                torch.nn.utils.clip_grad_norm_(GWD_detr_Model.parameters(), clip_max_norm)\n",
    "            optimizer.step()\n",
    "            \n",
    "            ep_loss_ce+= loss_dict['loss_ce'].item()\n",
    "            ep_class_error+= loss_dict['class_error'].item()\n",
    "            ep_loss_bbox+= loss_dict['loss_bbox'].item()\n",
    "            ep_loss_giou+= loss_dict['loss_giou'].item()\n",
    "            ep_cardinality_error+= loss_dict['cardinality_error'].item()\n",
    "            \n",
    "            if(_iter%50 == 0):\n",
    "                print(\"\".join([k+\":\"+str(v.data.cpu().numpy())+\", \" for k,v in loss_dict.items()]))\n",
    "    \n",
    "\n",
    "        else:\n",
    "            print('Loss is undefined:',summed_loss_value,'   skipping BackProp for step no:',_iter)\n",
    "            print(loss_dict)\n",
    "            \n",
    "        _iter+=1\n",
    "       \n",
    "    #Divide by number of batches\n",
    "    ep_loss_ce = float(ep_loss_ce/len(WD_Train_Loader))  \n",
    "    ep_class_error = float(ep_class_error/len(WD_Train_Loader))\n",
    "    ep_loss_bbox = float(ep_loss_bbox/len(WD_Train_Loader))\n",
    "    ep_loss_giou = float(ep_loss_giou/len(WD_Train_Loader))\n",
    "    ep_cardinality_error = float(ep_cardinality_error/len(WD_Train_Loader))\n",
    "    _epoch_loss = ep_loss_ce+ep_class_error+ep_loss_bbox+ep_loss_giou+ep_cardinality_error\n",
    "    \n",
    "    print('Saving model at epoch '+str(i)+', step '+str(_iter))\n",
    "    print(\"5 Avg Losses: {0}, {1}, {2}, {3}, {4}\".format(ep_loss_ce, ep_class_error, ep_loss_bbox, ep_loss_giou, ep_cardinality_error))\n",
    "    validation_score=0\n",
    "    torch.save(GWD_detr_Model.state_dict(), \"./GWD_DETR_SD_Epoch_{0}_Score_{1:.4f}_EpLoss_{2:.4f}.pt\".format(i, validation_score, _epoch_loss))\n",
    "    torch.cuda.empty_cache()\n",
    "    gc.collect() \n"
   ]
  },
  {
   "cell_type": "markdown",
   "metadata": {},
   "source": [
    "# Inference"
   ]
  },
  {
   "cell_type": "code",
   "execution_count": 1,
   "metadata": {
    "ExecuteTime": {
     "end_time": "2020-07-01T22:07:59.923548Z",
     "start_time": "2020-07-01T22:07:53.334590Z"
    }
   },
   "outputs": [],
   "source": [
    "import os\n",
    "import torch\n",
    "import torchvision\n",
    "\n",
    "from detr.config import config\n",
    "from detr.utils.inferencefns import (get_detr, \n",
    "                                     WheatInferenceDataset, \n",
    "                                     collate_fn, \n",
    "                                     format_prediction_string, \n",
    "                                     make_submission_file, \n",
    "                                     post_process)\n",
    "from global_utils.weighted_boxes_fusion.ensemble_boxes import nms, weighted_boxes_fusion\n",
    "\n",
    "saved_model_dict= 'GWD_DETR_SD_Epoch_25_Score_0.0000_EpLoss_17.2091.pt'"
   ]
  },
  {
   "cell_type": "code",
   "execution_count": 2,
   "metadata": {
    "ExecuteTime": {
     "end_time": "2020-07-01T22:08:00.735569Z",
     "start_time": "2020-07-01T22:08:00.704578Z"
    }
   },
   "outputs": [],
   "source": [
    "conf = config()\n",
    "#conf.DATA_PATH = os.path.join('/kaggle','input', 'global-wheat-detection')\n",
    "conf.BATCH_SIZE = 2\n",
    "conf.DEVICE = torch.device('cuda:0') if torch.cuda.is_available() else torch.device('cpu')\n",
    "\n",
    "WD_Inference = WheatInferenceDataset(conf, normalize=True)"
   ]
  },
  {
   "cell_type": "code",
   "execution_count": 3,
   "metadata": {
    "ExecuteTime": {
     "end_time": "2020-07-01T22:08:06.028605Z",
     "start_time": "2020-07-01T22:08:01.486330Z"
    },
    "scrolled": false
   },
   "outputs": [],
   "source": [
    "num_classes=1\n",
    "model = get_detr('resnet50', dilation=False, num_classes=num_classes)\n",
    "#model.load_state_dict(torch.load('/kaggle/input/detrmodels/'+saved_model_dict, map_location=conf.DEVICE), strict=False)   #, strict=False\n",
    "model.load_state_dict(torch.load('saved_weights/detr/GWD_DETR_SD_Epoch_42_EpLoss_20.1182_withaug_nomergeaug.pt'))\n",
    "_ = model.eval()\n",
    "_ = model.to(conf.DEVICE)"
   ]
  },
  {
   "cell_type": "code",
   "execution_count": 8,
   "metadata": {
    "ExecuteTime": {
     "end_time": "2020-07-01T22:10:13.593549Z",
     "start_time": "2020-07-01T22:10:10.210635Z"
    },
    "scrolled": true
   },
   "outputs": [],
   "source": [
    "outputs = {idx:[] for idx in WD_Inference.IMGS}\n",
    "scores_ = []\n",
    "for i in range(len(WD_Inference)):\n",
    "    image_id, image = WD_Inference[i]\n",
    "    results = model([torch.tensor(image).to(conf.DEVICE)])\n",
    "    \n",
    "    #(Xcen, Ycen, Height, Width) - scale to 0-1\n",
    "    boxes = results['pred_boxes'].cpu().detach().numpy()[0]\n",
    "    raw_scores = results['pred_logits'].cpu().detach().numpy()[0]\n",
    "    \n",
    "    scores, boxes = post_process(raw_scores, boxes)\n",
    "    \n",
    "    # changing the boxes to (x1, y1, x2, y2) - scale to 0-1\n",
    "    boxes[:,0], boxes[:,1], boxes[:,2], boxes[:,3] = boxes[:,0]-boxes[:,3]/2, boxes[:,1]-boxes[:,2]/2, boxes[:,0]+boxes[:,3]/2, boxes[:,1]+boxes[:,2]/2\n",
    "    \n",
    "    outputs[image_id].append({'boxes':boxes*1024, 'scores':scores, 'labels':np.ones(len(boxes))})"
   ]
  },
  {
   "cell_type": "code",
   "execution_count": 9,
   "metadata": {
    "ExecuteTime": {
     "end_time": "2020-07-01T22:10:41.691604Z",
     "start_time": "2020-07-01T22:10:40.370410Z"
    }
   },
   "outputs": [
    {
     "name": "stderr",
     "output_type": "stream",
     "text": [
      "D:\\Projects\\Kaggle\\Global-Wheat-Detction-Kaggle-2020\\global_utils\\weighted_boxes_fusion\\ensemble_boxes\\ensemble_boxes_wbf.py:64: UserWarning: X1 < 0 in box. Set it to 0.\n",
      "  warnings.warn('X1 < 0 in box. Set it to 0.')\n",
      "D:\\Projects\\Kaggle\\Global-Wheat-Detction-Kaggle-2020\\global_utils\\weighted_boxes_fusion\\ensemble_boxes\\ensemble_boxes_wbf.py:85: UserWarning: Y2 > 1 in box. Set it to 1. Check that you normalize boxes in [0, 1] range.\n",
      "  warnings.warn('Y2 > 1 in box. Set it to 1. Check that you normalize boxes in [0, 1] range.')\n",
      "D:\\Projects\\Kaggle\\Global-Wheat-Detction-Kaggle-2020\\global_utils\\weighted_boxes_fusion\\ensemble_boxes\\ensemble_boxes_wbf.py:73: UserWarning: X2 > 1 in box. Set it to 1. Check that you normalize boxes in [0, 1] range.\n",
      "  warnings.warn('X2 > 1 in box. Set it to 1. Check that you normalize boxes in [0, 1] range.')\n",
      "D:\\Projects\\Kaggle\\Global-Wheat-Detction-Kaggle-2020\\global_utils\\weighted_boxes_fusion\\ensemble_boxes\\ensemble_boxes_wbf.py:76: UserWarning: Y1 < 0 in box. Set it to 0.\n",
      "  warnings.warn('Y1 < 0 in box. Set it to 0.')\n"
     ]
    }
   ],
   "source": [
    "iou_thresh = 0.5\n",
    "skip_box_thresh=0.1\n",
    "\n",
    "fused_outputs = {}\n",
    "for image_id in WD_Inference.IMGS:\n",
    "    boxes, scores, labels = outputs[image_id][0]['boxes']/1024, outputs[image_id][0]['scores'], outputs[image_id][0]['labels']\n",
    "    boxes, scores, labels = weighted_boxes_fusion([boxes], [scores], [labels], weights=[1], iou_thr=iou_thresh, skip_box_thr=skip_box_thresh)\n",
    "    \n",
    "    # Now I will multiply the boxes to original scale\n",
    "    fused_outputs[image_id] = {'boxes': boxes*1024, 'scores': scores, 'labels': labels}"
   ]
  },
  {
   "cell_type": "code",
   "execution_count": 12,
   "metadata": {
    "ExecuteTime": {
     "end_time": "2020-07-01T22:11:31.259987Z",
     "start_time": "2020-07-01T22:11:31.143024Z"
    }
   },
   "outputs": [
    {
     "name": "stdout",
     "output_type": "stream",
     "text": [
      "file_saved\n"
     ]
    }
   ],
   "source": [
    "strict_cut_off = 0.5\n",
    "pred_strings = []\n",
    "for img_id in WD_Inference.IMGS:\n",
    "    try:\n",
    "        stop_index = np.argwhere(fused_outputs[img_id]['scores']<strict_cut_off)[0][0]\n",
    "    except:\n",
    "        stop_index = len(fused_outputs[img_id]['scores'])\n",
    "    \n",
    "    pred_string = format_prediction_string(fused_outputs[img_id]['boxes'][:stop_index], scores[:stop_index])\n",
    "    pred_strings.append(pred_string)\n",
    "make_submission_file(WD_Inference.IMGS, pred_strings)"
   ]
  },
  {
   "cell_type": "code",
   "execution_count": 1,
   "metadata": {
    "ExecuteTime": {
     "end_time": "2020-07-02T00:15:28.594859Z",
     "start_time": "2020-07-02T00:15:25.005665Z"
    }
   },
   "outputs": [],
   "source": [
    "\n",
    "from global_utils.model_precision import calculate_model_precision\n",
    "import pandas as pd\n",
    "import numpy as np\n",
    "import ast\n"
   ]
  },
  {
   "cell_type": "code",
   "execution_count": 2,
   "metadata": {
    "ExecuteTime": {
     "end_time": "2020-07-02T00:15:33.036435Z",
     "start_time": "2020-07-02T00:15:29.137685Z"
    }
   },
   "outputs": [],
   "source": [
    "train_df = pd.read_csv(f'data/global-wheat-detection/train.csv')\n",
    "box_data = np.stack(train_df['bbox'].apply(lambda x: ast.literal_eval(x)))\n",
    "train_df[['x', 'y', 'w', 'h']] = pd.DataFrame(box_data).astype(np.float32)"
   ]
  },
  {
   "cell_type": "code",
   "execution_count": 3,
   "metadata": {
    "ExecuteTime": {
     "end_time": "2020-07-02T00:15:33.629243Z",
     "start_time": "2020-07-02T00:15:33.596254Z"
    }
   },
   "outputs": [
    {
     "data": {
      "text/plain": [
       "array([[954, 391,  70,  90],\n",
       "       [660, 220,  95, 102],\n",
       "       [ 64, 209,  76,  57],\n",
       "       [896,  99, 102,  69],\n",
       "       [747, 460,  72,  77],\n",
       "       [885, 163, 103,  69],\n",
       "       [514, 399,  90,  97],\n",
       "       [702, 794,  97,  99],\n",
       "       [721, 624,  98, 108],\n",
       "       [826, 512,  82,  94],\n",
       "       [883, 944,  79,  74],\n",
       "       [247, 594, 123,  92],\n",
       "       [673, 514,  95, 113],\n",
       "       [829, 847, 102, 110],\n",
       "       [ 94, 737,  92, 107],\n",
       "       [588, 568,  75, 107],\n",
       "       [158, 890, 103,  64],\n",
       "       [744, 906,  75,  79],\n",
       "       [826,  33,  72,  74],\n",
       "       [601,  69,  67,  87]])"
      ]
     },
     "execution_count": 3,
     "metadata": {},
     "output_type": "execute_result"
    }
   ],
   "source": [
    "sample_id = '1ef16dab1'\n",
    "\n",
    "gt_boxes = train_df[train_df['image_id'] == sample_id][['x', 'y', 'w', 'h']].values\n",
    "gt_boxes = gt_boxes.astype(np.int)\n",
    "\n",
    "# Ground-truth boxes of our sample\n",
    "gt_boxes"
   ]
  },
  {
   "cell_type": "code",
   "execution_count": 4,
   "metadata": {
    "ExecuteTime": {
     "end_time": "2020-07-02T00:15:34.177068Z",
     "start_time": "2020-07-02T00:15:34.161074Z"
    }
   },
   "outputs": [],
   "source": [
    "preds = np.array([[956, 409, 68, 85],\n",
    "                  [883, 945, 85, 77],\n",
    "                  [745, 468, 81, 87],\n",
    "                  [658, 239, 103, 105],\n",
    "                  [518, 419, 91, 100],\n",
    "                  [711, 805, 92, 106],\n",
    "                  [62, 213, 72, 64],\n",
    "                  [884, 175, 109, 68],\n",
    "                  [721, 626, 96, 104],\n",
    "                  [878, 619, 121, 81],\n",
    "                  [887, 107, 111, 71],\n",
    "                  [827, 525, 88, 83],\n",
    "                  [816, 868, 102, 86],\n",
    "                  [166, 882, 78, 75],\n",
    "                  [603, 563, 78, 97],\n",
    "                  [744, 916, 68, 52],\n",
    "                  [582, 86, 86, 72],\n",
    "                  [79, 715, 91, 101],\n",
    "                  [246, 586, 95, 80],\n",
    "                  [181, 512, 93, 89],\n",
    "                  [655, 527, 99, 90],\n",
    "                  [568, 363, 61, 76],\n",
    "                  [9, 717, 152, 110],\n",
    "                  [576, 698, 75, 78],\n",
    "                  [805, 974, 75, 50],\n",
    "                  [10, 15, 78, 64],\n",
    "                  [826, 40, 69, 74],\n",
    "                  [32, 983, 106, 40]]\n",
    "                )\n",
    "\n",
    "scores = np.array([0.9932319, 0.99206185, 0.99145633, 0.9898089, 0.98906296, 0.9817738,\n",
    "                   0.9799762, 0.97967803, 0.9771589, 0.97688967, 0.9562935, 0.9423076,\n",
    "                   0.93556845, 0.9236257, 0.9102379, 0.88644403, 0.8808225, 0.85238415,\n",
    "                   0.8472188, 0.8417798, 0.79908705, 0.7963756, 0.7437897, 0.6044758,\n",
    "                   0.59249884, 0.5557045, 0.53130984, 0.5020239])\n",
    "\n",
    "# Sort highest confidence -> lowest confidence\n",
    "preds_sorted_idx = np.argsort(scores)[::-1]\n",
    "preds_sorted = preds[preds_sorted_idx]"
   ]
  },
  {
   "cell_type": "code",
   "execution_count": 5,
   "metadata": {
    "ExecuteTime": {
     "end_time": "2020-07-02T00:15:36.467472Z",
     "start_time": "2020-07-02T00:15:35.562623Z"
    }
   },
   "outputs": [],
   "source": [
    "import numba\n",
    "iou_thresholds = numba.typed.List()\n",
    "\n",
    "for x in [0.5, 0.55, 0.6, 0.65, 0.7, 0.75]:\n",
    "    iou_thresholds.append(x)"
   ]
  },
  {
   "cell_type": "code",
   "execution_count": 9,
   "metadata": {
    "ExecuteTime": {
     "end_time": "2020-07-02T00:16:36.109371Z",
     "start_time": "2020-07-02T00:16:36.061386Z"
    }
   },
   "outputs": [
    {
     "data": {
      "text/plain": [
       "(0.9999999999999999,\n",
       " array([1., 1., 1., 1., 1., 1., 1., 1., 1., 1., 1., 1., 1., 1., 1., 1., 1.,\n",
       "        1., 1., 1., 1., 1., 1., 1., 1., 1., 1., 1., 1., 1., 1., 1., 1., 1.,\n",
       "        1., 1., 1., 1., 1., 1., 1., 1., 1., 1., 1., 1., 1., 1., 1., 1., 1.,\n",
       "        1., 1., 1., 1., 1., 1., 1., 1., 1., 1., 1., 1., 1., 1., 1., 1., 1.,\n",
       "        1., 1., 1., 1., 1., 1., 1., 1., 1., 1., 1., 1., 1., 1., 1., 1., 1.,\n",
       "        1., 1., 1., 1., 1., 1., 1., 1., 1., 1., 1., 1., 1., 1., 1.]))"
      ]
     },
     "execution_count": 9,
     "metadata": {},
     "output_type": "execute_result"
    }
   ],
   "source": [
    "calculate_model_precision([gt_boxes]*1000, [gt_boxes]*100, form='coco')"
   ]
  },
  {
   "cell_type": "code",
   "execution_count": 30,
   "metadata": {
    "ExecuteTime": {
     "end_time": "2020-07-01T04:32:08.056385Z",
     "start_time": "2020-07-01T04:32:08.044385Z"
    }
   },
   "outputs": [
    {
     "data": {
      "text/plain": [
       "30.0"
      ]
     },
     "execution_count": 30,
     "metadata": {},
     "output_type": "execute_result"
    }
   ],
   "source": [
    "2500*12/1000"
   ]
  },
  {
   "cell_type": "code",
   "execution_count": null,
   "metadata": {},
   "outputs": [],
   "source": []
  }
 ],
 "metadata": {
  "kernelspec": {
   "display_name": "Python 3",
   "language": "python",
   "name": "python3"
  },
  "language_info": {
   "codemirror_mode": {
    "name": "ipython",
    "version": 3
   },
   "file_extension": ".py",
   "mimetype": "text/x-python",
   "name": "python",
   "nbconvert_exporter": "python",
   "pygments_lexer": "ipython3",
   "version": "3.7.4"
  },
  "toc": {
   "base_numbering": 1,
   "nav_menu": {},
   "number_sections": true,
   "sideBar": true,
   "skip_h1_title": false,
   "title_cell": "Table of Contents",
   "title_sidebar": "Contents",
   "toc_cell": false,
   "toc_position": {},
   "toc_section_display": true,
   "toc_window_display": false
  },
  "varInspector": {
   "cols": {
    "lenName": 16,
    "lenType": 16,
    "lenVar": 40
   },
   "kernels_config": {
    "python": {
     "delete_cmd_postfix": "",
     "delete_cmd_prefix": "del ",
     "library": "var_list.py",
     "varRefreshCmd": "print(var_dic_list())"
    },
    "r": {
     "delete_cmd_postfix": ") ",
     "delete_cmd_prefix": "rm(",
     "library": "var_list.r",
     "varRefreshCmd": "cat(var_dic_list()) "
    }
   },
   "types_to_exclude": [
    "module",
    "function",
    "builtin_function_or_method",
    "instance",
    "_Feature"
   ],
   "window_display": false
  }
 },
 "nbformat": 4,
 "nbformat_minor": 2
}
