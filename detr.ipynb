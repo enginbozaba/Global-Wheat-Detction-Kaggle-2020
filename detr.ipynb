{
 "cells": [
  {
   "cell_type": "markdown",
   "metadata": {},
   "source": [
    "# Training"
   ]
  },
  {
   "cell_type": "code",
   "execution_count": 1,
   "metadata": {
    "ExecuteTime": {
     "end_time": "2020-06-25T20:58:15.536233Z",
     "start_time": "2020-06-25T20:58:06.774868Z"
    }
   },
   "outputs": [],
   "source": [
    "from torch.utils.data import DataLoader\n",
    "import gc\n",
    "import torch\n",
    "from tqdm.notebook import tqdm\n",
    "import math\n",
    "\n",
    "from detr.config import config\n",
    "from augmentations.aug import get_augmentor\n",
    "from detr.utils.data import WheatDataset, collate_fn\n",
    "#from fasterrcnn.utils.training_handler import get_training_handler"
   ]
  },
  {
   "cell_type": "code",
   "execution_count": 2,
   "metadata": {
    "ExecuteTime": {
     "end_time": "2020-06-25T20:58:17.634209Z",
     "start_time": "2020-06-25T20:58:17.071098Z"
    }
   },
   "outputs": [],
   "source": [
    "conf = config()\n",
    "augmentor = get_augmentor()\n",
    "\n",
    "#conf.DATA_PATH = os.path.join('/kaggle','input', 'global-wheat-detection')\n",
    "conf.BATCH_SIZE = 2\n",
    "conf.DEVICE = torch.device('cuda:1') if torch.cuda.is_available() else torch.device('cpu')\n",
    "#conf.SPLIT = 0.8\n",
    "\n",
    "WD_Train = WheatDataset(conf, \n",
    "                  is_train=True, \n",
    "                  augmentation=True,\n",
    "                  normalize=True,\n",
    "                  augmentor=augmentor, \n",
    "                  random_seed=0)\n",
    "\n",
    "WD_Train_Loader = DataLoader(WD_Train, batch_size=conf.BATCH_SIZE, shuffle=True, collate_fn=collate_fn)\n"
   ]
  },
  {
   "cell_type": "code",
   "execution_count": 5,
   "metadata": {
    "ExecuteTime": {
     "end_time": "2020-06-25T20:59:36.621908Z",
     "start_time": "2020-06-25T20:59:36.062085Z"
    }
   },
   "outputs": [
    {
     "name": "stdout",
     "output_type": "stream",
     "text": [
      "[ 988.  781. 1024.  877.] [ 26. 201. 120. 242.]\n",
      "[1006.  829.   96.   36.] [ 73.  221.5  41.   94. ]\n",
      "[0.9824219  0.8095703  0.09375    0.03515625] [0.07128906 0.2163086  0.04003906 0.09179688]\n"
     ]
    },
    {
     "data": {
      "text/plain": [
       "(array([[[-1.3234426 , -1.0517143 , -0.9877783 , ...,  0.81841505,\n",
       "           0.05118249, -0.5242419 ],\n",
       "         [-1.2115544 , -1.0676984 , -1.0996664 , ...,  1.0262072 ,\n",
       "           0.37086272, -0.17259368],\n",
       "         [-1.1476184 , -1.0836824 , -1.1476184 , ...,  1.2499834 ,\n",
       "           0.83439904,  0.41881475],\n",
       "         ...,\n",
       "         [-0.82793814, -0.7480181 , -0.62014604, ..., -0.81195414,\n",
       "          -0.7000661 , -0.7160501 ],\n",
       "         [-0.7320341 , -0.49227393, -0.23652972, ..., -0.7480181 ,\n",
       "          -0.588178  , -0.540226  ],\n",
       "         [-0.55621   , -0.28448176,  0.0671665 , ..., -0.65211403,\n",
       "          -0.49227393, -0.36440182]],\n",
       " \n",
       "        [[-1.376796  , -1.0316343 , -0.91658044, ...,  1.058511  ,\n",
       "           0.2147826 , -0.47554064],\n",
       "         [-1.2425665 , -1.0699856 , -1.05081   , ...,  1.2502674 ,\n",
       "           0.50241727, -0.09202772],\n",
       "         [-1.1658639 , -1.0891613 , -1.1658639 , ...,  1.3844969 ,\n",
       "           0.8859302 ,  0.44489035],\n",
       "         ...,\n",
       "         [-1.4151472 , -1.3192691 , -1.2042152 , ..., -1.3000934 ,\n",
       "          -1.3000934 , -1.2617421 ],\n",
       "         [-1.1850395 , -0.9357561 , -0.66729707, ..., -1.2809178 ,\n",
       "          -1.2042152 , -1.1466882 ],\n",
       "         [-0.91658044, -0.5905945 , -0.26460853, ..., -1.2042152 ,\n",
       "          -1.0891613 , -0.9741074 ]],\n",
       " \n",
       "        [[-1.7851243 , -1.6398113 , -1.5235609 , ...,  0.0748822 ,\n",
       "          -1.2038723 , -1.6398113 ],\n",
       "         [-1.8141869 , -1.6107488 , -1.7269992 , ...,  0.45269603,\n",
       "          -0.65168285, -1.5816861 ],\n",
       "         [-1.7269992 , -1.6688739 , -1.8432496 , ...,  0.85957247,\n",
       "           0.1330074 , -0.564495  ],\n",
       "         ...,\n",
       "         [-0.65168285, -0.47730723, -0.36105683, ..., -1.2038723 ,\n",
       "          -1.1166844 , -1.0585593 ],\n",
       "         [-0.27386904, -0.01230561,  0.2783204 , ..., -1.0585593 ,\n",
       "          -0.9132463 , -0.8551211 ],\n",
       "         [ 0.1039448 ,  0.45269603,  0.83050984, ..., -0.8551211 ,\n",
       "          -0.76793325, -0.564495  ]]], dtype=float32),\n",
       " {'boxes': array([[0.9824219 , 0.8095703 , 0.09375   , 0.03515625],\n",
       "         [0.35742188, 0.88916016, 0.09277344, 0.06835938],\n",
       "         [0.07763672, 0.24316406, 0.04492188, 0.06347656],\n",
       "         [0.71875   , 0.97558594, 0.04882812, 0.10546875],\n",
       "         [0.13769531, 0.9824219 , 0.03515625, 0.15234375],\n",
       "         [0.8286133 , 0.91748047, 0.07519531, 0.04785156],\n",
       "         [0.83984375, 0.43847656, 0.0703125 , 0.08789062],\n",
       "         [0.5410156 , 0.18945312, 0.06445312, 0.16796875],\n",
       "         [0.9042969 , 0.5605469 , 0.07226562, 0.07421875],\n",
       "         [0.0546875 , 0.11962891, 0.06738281, 0.10351562],\n",
       "         [0.28759766, 0.67871094, 0.07421875, 0.05566406],\n",
       "         [0.66308594, 0.79345703, 0.08105469, 0.18945312],\n",
       "         [0.1328125 , 0.6748047 , 0.07421875, 0.11523438],\n",
       "         [0.7294922 , 0.46777344, 0.08984375, 0.14453125],\n",
       "         [0.6635742 , 0.70947266, 0.10449219, 0.11621094],\n",
       "         [0.2626953 , 0.78222656, 0.08007812, 0.08789062],\n",
       "         [0.24365234, 0.9453125 , 0.06835938, 0.17480469],\n",
       "         [0.96435547, 0.8442383 , 0.15722656, 0.05175781],\n",
       "         [0.46972656, 0.5180664 , 0.06542969, 0.17382812],\n",
       "         [0.05664062, 0.5600586 , 0.07324219, 0.11328125],\n",
       "         [0.8613281 , 0.796875  , 0.10742188, 0.0859375 ],\n",
       "         [0.60302734, 0.25341797, 0.07324219, 0.14746094],\n",
       "         [0.1928711 , 0.02832031, 0.05273438, 0.07910156],\n",
       "         [0.3046875 , 0.03515625, 0.0703125 , 0.20703125],\n",
       "         [0.11328125, 0.14746094, 0.07226562, 0.04882812],\n",
       "         [0.03857422, 0.26660156, 0.07617188, 0.07714844],\n",
       "         [0.1640625 , 0.375     , 0.109375  , 0.078125  ],\n",
       "         [0.09082031, 0.35742188, 0.11914062, 0.12109375],\n",
       "         [0.16455078, 0.4790039 , 0.09472656, 0.04980469],\n",
       "         [0.23779297, 0.33251953, 0.04199219, 0.04003906],\n",
       "         [0.02832031, 0.72021484, 0.06347656, 0.05664062],\n",
       "         [0.05859375, 0.5288086 , 0.06933594, 0.1171875 ],\n",
       "         [0.47998047, 0.55566406, 0.12304688, 0.17089844],\n",
       "         [0.5083008 , 0.5620117 , 0.11816406, 0.10644531],\n",
       "         [0.6875    , 0.10791016, 0.06152344, 0.04296875],\n",
       "         [0.5541992 , 0.21435547, 0.05957031, 0.14941406],\n",
       "         [0.3852539 , 0.24316406, 0.07421875, 0.03808594],\n",
       "         [0.42285156, 0.2939453 , 0.04882812, 0.0546875 ],\n",
       "         [0.47314453, 0.30810547, 0.04785156, 0.07324219],\n",
       "         [0.16064453, 0.7211914 , 0.05175781, 0.08496094],\n",
       "         [0.31396484, 0.81152344, 0.07226562, 0.06738281],\n",
       "         [0.95214844, 0.84375   , 0.12890625, 0.05859375],\n",
       "         [0.88671875, 0.48876953, 0.06347656, 0.0546875 ],\n",
       "         [0.8774414 , 0.99072266, 0.01855469, 0.04003906],\n",
       "         [0.94091797, 0.97021484, 0.05761719, 0.05175781],\n",
       "         [0.21435547, 0.65527344, 0.03320312, 0.03808594],\n",
       "         [0.25097656, 0.13720703, 0.07324219, 0.05664062],\n",
       "         [0.3486328 , 0.11083984, 0.09472656, 0.08398438],\n",
       "         [0.4765625 , 0.11962891, 0.05957031, 0.09570312],\n",
       "         [0.40820312, 0.24804688, 0.1015625 , 0.08398438],\n",
       "         [0.26220703, 0.2084961 , 0.06542969, 0.08300781],\n",
       "         [0.19189453, 0.23388672, 0.04589844, 0.08105469],\n",
       "         [0.08300781, 0.23583984, 0.04980469, 0.08984375],\n",
       "         [0.05371094, 0.28027344, 0.09375   , 0.10546875],\n",
       "         [0.1694336 , 0.28857422, 0.05566406, 0.13769531],\n",
       "         [0.29785156, 0.30419922, 0.05957031, 0.10351562],\n",
       "         [0.3149414 , 0.2578125 , 0.04101562, 0.06347656],\n",
       "         [0.46777344, 0.32763672, 0.05566406, 0.08007812],\n",
       "         [0.54248047, 0.29785156, 0.0390625 , 0.07714844],\n",
       "         [0.53808594, 0.31835938, 0.03710938, 0.05859375],\n",
       "         [0.6347656 , 0.2290039 , 0.09472656, 0.07617188],\n",
       "         [0.75439453, 0.046875  , 0.09375   , 0.07324219],\n",
       "         [0.70458984, 0.05029297, 0.09082031, 0.05761719],\n",
       "         [0.78759766, 0.17041016, 0.09472656, 0.07910156],\n",
       "         [0.9301758 , 0.14257812, 0.09960938, 0.06933594],\n",
       "         [0.96875   , 0.10693359, 0.09277344, 0.0625    ],\n",
       "         [0.96484375, 0.02636719, 0.046875  , 0.0703125 ],\n",
       "         [0.9428711 , 0.51904297, 0.10253906, 0.11425781],\n",
       "         [0.85058594, 0.6347656 , 0.08203125, 0.15820312],\n",
       "         [0.9711914 , 0.6479492 , 0.04980469, 0.05761719],\n",
       "         [0.9794922 , 0.72021484, 0.07324219, 0.04101562],\n",
       "         [0.9038086 , 0.7573242 , 0.07128906, 0.08105469],\n",
       "         [0.7182617 , 0.7167969 , 0.05664062, 0.07910156],\n",
       "         [0.66015625, 0.6230469 , 0.07421875, 0.0546875 ],\n",
       "         [0.421875  , 0.6323242 , 0.07714844, 0.0625    ],\n",
       "         [0.26171875, 0.5449219 , 0.06640625, 0.078125  ],\n",
       "         [0.18359375, 0.5644531 , 0.05859375, 0.08789062],\n",
       "         [0.0234375 , 0.5654297 , 0.06445312, 0.046875  ],\n",
       "         [0.17529297, 0.7314453 , 0.06640625, 0.12597656],\n",
       "         [0.15771484, 0.765625  , 0.04296875, 0.05957031],\n",
       "         [0.07373047, 0.7578125 , 0.0703125 , 0.09082031],\n",
       "         [0.14453125, 0.6923828 , 0.06445312, 0.08789062],\n",
       "         [0.31347656, 0.73779297, 0.05371094, 0.07421875],\n",
       "         [0.2163086 , 0.80029297, 0.04785156, 0.06738281],\n",
       "         [0.1821289 , 0.8442383 , 0.04589844, 0.09277344],\n",
       "         [0.23095703, 0.8857422 , 0.06054688, 0.13183594],\n",
       "         [0.13476562, 0.921875  , 0.08007812, 0.07421875],\n",
       "         [0.04980469, 0.9555664 , 0.04980469, 0.09960938],\n",
       "         [0.3095703 , 0.93896484, 0.05371094, 0.07226562],\n",
       "         [0.45996094, 0.93652344, 0.09375   , 0.08203125],\n",
       "         [0.6010742 , 0.9326172 , 0.13476562, 0.14160156],\n",
       "         [0.66259766, 0.96777344, 0.06445312, 0.09082031],\n",
       "         [0.7246094 , 0.9272461 , 0.06933594, 0.10351562],\n",
       "         [0.79345703, 0.97314453, 0.05371094, 0.07910156],\n",
       "         [0.74316406, 0.84375   , 0.08007812, 0.1015625 ],\n",
       "         [0.5859375 , 0.78515625, 0.08203125, 0.08398438],\n",
       "         [0.44970703, 0.78222656, 0.0625    , 0.08886719],\n",
       "         [0.50439453, 0.70996094, 0.06835938, 0.09277344],\n",
       "         [0.49072266, 0.7475586 , 0.05371094, 0.11035156],\n",
       "         [0.52490234, 0.83447266, 0.06347656, 0.06542969],\n",
       "         [0.9760742 , 0.82421875, 0.078125  , 0.04785156],\n",
       "         [0.9453125 , 0.9301758 , 0.04394531, 0.0703125 ],\n",
       "         [0.10693359, 0.48291016, 0.04199219, 0.04589844],\n",
       "         [0.14990234, 0.38427734, 0.04785156, 0.05761719],\n",
       "         [0.21533203, 0.36132812, 0.05078125, 0.05371094],\n",
       "         [0.07128906, 0.2163086 , 0.04003906, 0.09179688]], dtype=float32),\n",
       "  'labels': array([0, 0, 0, 0, 0, 0, 0, 0, 0, 0, 0, 0, 0, 0, 0, 0, 0, 0, 0, 0, 0, 0,\n",
       "         0, 0, 0, 0, 0, 0, 0, 0, 0, 0, 0, 0, 0, 0, 0, 0, 0, 0, 0, 0, 0, 0,\n",
       "         0, 0, 1, 1, 1, 1, 1, 1, 1, 1, 1, 1, 1, 1, 1, 1, 1, 1, 1, 1, 1, 1,\n",
       "         1, 1, 1, 1, 1, 1, 1, 1, 1, 1, 1, 1, 1, 1, 1, 1, 1, 1, 1, 1, 1, 1,\n",
       "         1, 1, 1, 1, 1, 1, 1, 1, 1, 1, 1, 1, 1, 1, 1, 1, 1, 1], dtype=int64)})"
      ]
     },
     "execution_count": 5,
     "metadata": {},
     "output_type": "execute_result"
    }
   ],
   "source": [
    "WD_Train[1]"
   ]
  },
  {
   "cell_type": "code",
   "execution_count": null,
   "metadata": {
    "ExecuteTime": {
     "end_time": "2020-06-25T02:16:26.050067Z",
     "start_time": "2020-06-25T02:16:20.839534Z"
    }
   },
   "outputs": [],
   "source": [
    "import torch.nn.functional as F\n",
    "from torch import nn\n",
    "\n",
    "EPOCH = 0\n",
    "\n",
    "GWD_detr_Model = torch.hub.load('facebookresearch/detr', 'detr_resnet50', pretrained=False, num_classes=1)\n",
    "\n",
    "\n",
    "checkpoint = torch.hub.load_state_dict_from_url(\n",
    "            url='https://dl.fbaipublicfiles.com/detr/detr-r50-e632da11.pth',\n",
    "            #map_location='cpu',\n",
    "            check_hash=True)\n",
    "del checkpoint[\"model\"][\"class_embed.weight\"]\n",
    "del checkpoint[\"model\"][\"class_embed.bias\"]\n",
    "GWD_detr_Model.load_state_dict(checkpoint[\"model\"], strict=False)\n",
    "\n",
    "print(GWD_detr_Model.bbox_embed)\n",
    "print(GWD_detr_Model.class_embed)\n",
    "\n",
    "GWD_detr_Model.to(conf.DEVICE)\n",
    "#print(GWD_detr_Model)\n",
    "params = [p for p in GWD_detr_Model.parameters() if p.requires_grad]\n",
    "optimizer = torch.optim.SGD(params, lr=0.00001, weight_decay=0.0001)  "
   ]
  },
  {
   "cell_type": "code",
   "execution_count": null,
   "metadata": {
    "ExecuteTime": {
     "end_time": "2020-06-25T02:16:37.588285Z",
     "start_time": "2020-06-25T02:16:37.566292Z"
    }
   },
   "outputs": [],
   "source": [
    "from detr.detr.models.detr import SetCriterion\n",
    "from detr.detr.models.matcher import HungarianMatcher\n",
    "\n",
    "num_classes=1\n",
    "\n",
    "#These are the default values in the source code\n",
    "bbox_loss_coef=5.0 \n",
    "giou_loss_coef=2.0\n",
    "eos_coef=0.1\n",
    "set_cost_class=1.0\n",
    "set_cost_bbox=5.0\n",
    "set_cost_giou=2.0\n",
    "\n",
    "\n",
    "matcher = HungarianMatcher(cost_class=set_cost_class, cost_bbox=set_cost_bbox, cost_giou=set_cost_giou)\n",
    "weight_dict = {'loss_ce': 1, 'loss_bbox': bbox_loss_coef}\n",
    "weight_dict['loss_giou'] = giou_loss_coef\n",
    "losses = ['labels', 'boxes', 'cardinality']\n",
    "\n",
    "criterion = SetCriterion(num_classes, matcher=matcher, weight_dict=weight_dict,eos_coef=eos_coef, losses=losses)\n",
    "criterion.to(conf.DEVICE)"
   ]
  },
  {
   "cell_type": "code",
   "execution_count": null,
   "metadata": {
    "ExecuteTime": {
     "end_time": "2020-06-25T02:17:01.154116Z",
     "start_time": "2020-06-25T02:16:43.672491Z"
    }
   },
   "outputs": [],
   "source": [
    "_iter=len(WD_Train_Loader)*(EPOCH)\n",
    "clip_max_norm=0.1  #Default value in their code\n",
    "\n",
    "_ = GWD_detr_Model.train()\n",
    "_ = criterion.train()\n",
    "\n",
    "for i in tqdm(range(EPOCH, 50, 1)):\n",
    "    ep_loss_ce=0\n",
    "    ep_class_error=0\n",
    "    ep_loss_bbox=0 \n",
    "    ep_loss_giou=0 \n",
    "    ep_cardinality_error=0\n",
    "    \n",
    "    \n",
    "    for images, targets in tqdm(WD_Train_Loader):\n",
    "\n",
    "        images = [torch.tensor(image, dtype = torch.float32).to(conf.DEVICE) for image in images]\n",
    "        targets = [{k: torch.tensor(v).to(conf.DEVICE) for k, v in target.items()} for target in targets]\n",
    "        #print(targets[0]['labels'])\n",
    "        \n",
    "        #Main fwd pass and loss calc  \n",
    "        outputs = GWD_detr_Model(images)\n",
    "        \n",
    "        #print(outputs['pred_logits'][0])\n",
    "\n",
    "        loss_dict = criterion(outputs, targets)\n",
    "        weight_dict = criterion.weight_dict\n",
    "        summed_loss_value = sum(loss_dict[k] * weight_dict[k] for k in loss_dict.keys() if k in weight_dict)\n",
    "\n",
    "        if math.isfinite(summed_loss_value):\n",
    "            optimizer.zero_grad()\n",
    "            summed_loss_value.backward()\n",
    "            if clip_max_norm > 0:\n",
    "                torch.nn.utils.clip_grad_norm_(GWD_detr_Model.parameters(), clip_max_norm)\n",
    "            optimizer.step()\n",
    "            \n",
    "            ep_loss_ce+= loss_dict['loss_ce'].item()\n",
    "            ep_class_error+= loss_dict['class_error'].item()\n",
    "            ep_loss_bbox+= loss_dict['loss_bbox'].item()\n",
    "            ep_loss_giou+= loss_dict['loss_giou'].item()\n",
    "            ep_cardinality_error+= loss_dict['cardinality_error'].item()\n",
    "            \n",
    "            if(_iter%50 == 0):\n",
    "                print(\"\".join([k+\":\"+str(v.data.cpu().numpy())+\", \" for k,v in loss_dict.items()]))\n",
    "    \n",
    "\n",
    "        else:\n",
    "            print('Loss is undefined:',summed_loss_value,'   skipping BackProp for step no:',_iter)\n",
    "            print(loss_dict)\n",
    "            \n",
    "        _iter+=1\n",
    "       \n",
    "    #Divide by number of batches\n",
    "    ep_loss_ce = float(ep_loss_ce/len(WD_Train_Loader))  \n",
    "    ep_class_error = float(ep_class_error/len(WD_Train_Loader))\n",
    "    ep_loss_bbox = float(ep_loss_bbox/len(WD_Train_Loader))\n",
    "    ep_loss_giou = float(ep_loss_giou/len(WD_Train_Loader))\n",
    "    ep_cardinality_error = float(ep_cardinality_error/len(WD_Train_Loader))\n",
    "    _epoch_loss = ep_loss_ce+ep_class_error+ep_loss_bbox+ep_loss_giou+ep_cardinality_error\n",
    "    \n",
    "    print('Saving model at epoch '+str(i)+', step '+str(_iter))\n",
    "    print(\"5 Avg Losses: {0}, {1}, {2}, {3}, {4}\".format(ep_loss_ce, ep_class_error, ep_loss_bbox, ep_loss_giou, ep_cardinality_error))\n",
    "    validation_score=0\n",
    "    torch.save(GWD_detr_Model.state_dict(), \"./GWD_DETR_SD_Epoch_{0}_Score_{1:.4f}_EpLoss_{2:.4f}.pt\".format(i, validation_score, _epoch_loss))\n",
    "    torch.cuda.empty_cache()\n",
    "    gc.collect()\n"
   ]
  },
  {
   "cell_type": "markdown",
   "metadata": {},
   "source": [
    "# Inference"
   ]
  },
  {
   "cell_type": "code",
   "execution_count": 24,
   "metadata": {
    "ExecuteTime": {
     "end_time": "2020-06-25T05:46:38.040084Z",
     "start_time": "2020-06-25T05:46:36.952992Z"
    }
   },
   "outputs": [],
   "source": [
    "import os\n",
    "import torch\n",
    "import torchvision\n",
    "\n",
    "from detr.config import config\n",
    "from detr.utils.inferencefns import (get_detr, \n",
    "                                     WheatInferenceDataset, \n",
    "                                     collate_fn, \n",
    "                                     format_prediction_string, \n",
    "                                     make_submission_file)\n",
    "from global_utils.weighted_boxes_fusion.ensemble_boxes import nms, weighted_boxes_fusion\n",
    "\n",
    "saved_model_dict= 'GWD_DETR_SD_Epoch_25_Score_0.0000_EpLoss_17.2091.pt'"
   ]
  },
  {
   "cell_type": "code",
   "execution_count": 2,
   "metadata": {
    "ExecuteTime": {
     "end_time": "2020-06-25T03:49:11.577813Z",
     "start_time": "2020-06-25T03:49:11.560819Z"
    }
   },
   "outputs": [],
   "source": [
    "conf = config()\n",
    "#conf.DATA_PATH = os.path.join('/kaggle','input', 'global-wheat-detection')\n",
    "conf.BATCH_SIZE = 2\n",
    "conf.DEVICE = torch.device('cuda:0') if torch.cuda.is_available() else torch.device('cpu')\n",
    "\n",
    "WD_Inference = WheatInferenceDataset(conf, normalize=True)"
   ]
  },
  {
   "cell_type": "code",
   "execution_count": 3,
   "metadata": {
    "ExecuteTime": {
     "end_time": "2020-06-25T03:49:14.909747Z",
     "start_time": "2020-06-25T03:49:11.891713Z"
    },
    "scrolled": false
   },
   "outputs": [],
   "source": [
    "num_classes=1\n",
    "model = get_detr('resnet50', dilation=False, num_classes=num_classes)\n",
    "#model.load_state_dict(torch.load('/kaggle/input/detrmodels/'+saved_model_dict, map_location=conf.DEVICE), strict=False)   #, strict=False\n",
    "_ = model.eval()\n",
    "_ = model.to(conf.DEVICE)"
   ]
  },
  {
   "cell_type": "code",
   "execution_count": 20,
   "metadata": {
    "ExecuteTime": {
     "end_time": "2020-06-25T04:12:12.978760Z",
     "start_time": "2020-06-25T04:12:09.001039Z"
    }
   },
   "outputs": [],
   "source": [
    "outputs = {idx:[] for idx in WD_Inference.IMGS}\n",
    "for i in range(len(WD_Inference)):\n",
    "    image_id, image = WD_Inference[i]\n",
    "    results = model([torch.tensor(image).to(conf.DEVICE)])\n",
    "    \n",
    "    #(Xcen, Ycen, Height, Width) - scale to 0-1\n",
    "    boxes = results['pred_boxes'].cpu().detach().numpy()[0]\n",
    "    scores = (results['pred_logits'].cpu().detach().numpy()[0])[:,0]\n",
    "    \n",
    "    # changing the boxes to (x1, y1, x2, y2) - scale to 0-1\n",
    "    boxes[:,0], boxes[:,1], boxes[:,2], boxes[:,3] = boxes[:,0]-boxes[:,3]/2, boxes[:,1]-boxes[:,2]/2, boxes[:,0]+boxes[:,3]/2, boxes[:,1]+boxes[:,2]/2\n",
    "    \n",
    "    outputs[image_id].append({'boxes':boxes, 'scores':scores, 'labels':np.ones(len(boxes))})"
   ]
  },
  {
   "cell_type": "code",
   "execution_count": 26,
   "metadata": {
    "ExecuteTime": {
     "end_time": "2020-06-25T05:47:06.147208Z",
     "start_time": "2020-06-25T05:47:04.602702Z"
    }
   },
   "outputs": [],
   "source": [
    "iou_thresh = 0.5\n",
    "skip_box_thresh=0.1\n",
    "\n",
    "fused_outputs = {idx:[] for idx in WD_Inference.IMGS}\n",
    "for image_id in WD_Inference.IMGS:\n",
    "    boxes, scores, labels = outputs[image_id][0]['boxes'], outputs[image_id][0]['scores'], outputs[image_id][0]['labels']\n",
    "    boxes, scores, labels = weighted_boxes_fusion([boxes], [scores], [labels], weights=[1], iou_thr=iou_thresh, skip_box_thr=skip_box_thresh)\n",
    "    \n",
    "    # Now I will multiply the boxes to original scale\n",
    "    fused_outputs[image_id].append({'boxes': boxes*1024, 'scores': scores, 'labels': labels})"
   ]
  },
  {
   "cell_type": "code",
   "execution_count": 28,
   "metadata": {
    "ExecuteTime": {
     "end_time": "2020-06-25T05:50:51.312585Z",
     "start_time": "2020-06-25T05:50:51.290592Z"
    }
   },
   "outputs": [
    {
     "name": "stdout",
     "output_type": "stream",
     "text": [
      "file_saved\n"
     ]
    }
   ],
   "source": [
    "strict_cut_off = 0.5\n",
    "pred_strings = []\n",
    "for img_id in WD_Inference.IMGS:\n",
    "    try:\n",
    "        stop_index = np.argwhere(fused_outputs[img_id][0]['scores']<strict_cut_off)[0][0]\n",
    "    except:\n",
    "        stop_index = len(fused_outputs[img_id][0]['scores'])\n",
    "    \n",
    "    pred_string = format_prediction_string(fused_outputs[img_id][0]['boxes'][:stop_index], scores[:stop_index])\n",
    "    pred_strings.append(pred_string)\n",
    "make_submission_file(WD_Inference.IMGS, pred_strings)"
   ]
  },
  {
   "cell_type": "code",
   "execution_count": null,
   "metadata": {},
   "outputs": [],
   "source": []
  }
 ],
 "metadata": {
  "kernelspec": {
   "display_name": "Python 3",
   "language": "python",
   "name": "python3"
  },
  "language_info": {
   "codemirror_mode": {
    "name": "ipython",
    "version": 3
   },
   "file_extension": ".py",
   "mimetype": "text/x-python",
   "name": "python",
   "nbconvert_exporter": "python",
   "pygments_lexer": "ipython3",
   "version": "3.7.4"
  },
  "toc": {
   "base_numbering": 1,
   "nav_menu": {},
   "number_sections": true,
   "sideBar": true,
   "skip_h1_title": false,
   "title_cell": "Table of Contents",
   "title_sidebar": "Contents",
   "toc_cell": false,
   "toc_position": {},
   "toc_section_display": true,
   "toc_window_display": false
  },
  "varInspector": {
   "cols": {
    "lenName": 16,
    "lenType": 16,
    "lenVar": 40
   },
   "kernels_config": {
    "python": {
     "delete_cmd_postfix": "",
     "delete_cmd_prefix": "del ",
     "library": "var_list.py",
     "varRefreshCmd": "print(var_dic_list())"
    },
    "r": {
     "delete_cmd_postfix": ") ",
     "delete_cmd_prefix": "rm(",
     "library": "var_list.r",
     "varRefreshCmd": "cat(var_dic_list()) "
    }
   },
   "types_to_exclude": [
    "module",
    "function",
    "builtin_function_or_method",
    "instance",
    "_Feature"
   ],
   "window_display": false
  }
 },
 "nbformat": 4,
 "nbformat_minor": 2
}
