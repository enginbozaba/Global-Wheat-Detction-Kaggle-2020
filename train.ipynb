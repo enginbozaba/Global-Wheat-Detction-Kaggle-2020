{
 "cells": [
  {
   "cell_type": "code",
   "execution_count": 2,
   "metadata": {
    "ExecuteTime": {
     "end_time": "2020-05-20T02:36:44.311279Z",
     "start_time": "2020-05-20T02:36:44.304281Z"
    }
   },
   "outputs": [],
   "source": [
    "import torch\n",
    "import torchvision\n",
    "import math\n",
    "import pandas as pd\n",
    "import numpy as np\n",
    "import gc\n",
    "\n",
    "from tqdm import tqdm_notebook\n",
    "from torch.utils.tensorboard import SummaryWriter\n",
    "\n",
    "\n",
    "from GWD_data import WheatDataset\n",
    "from metric import calculate_image_precision\n",
    "from utils import collate_fn, plot_boxes, get_model_name, format_prediction_string, remove_blanks, is_contain_blanks\n",
    "from config import config\n"
   ]
  },
  {
   "cell_type": "code",
   "execution_count": 3,
   "metadata": {
    "ExecuteTime": {
     "end_time": "2020-05-20T02:36:46.069062Z",
     "start_time": "2020-05-20T02:36:45.596215Z"
    }
   },
   "outputs": [],
   "source": [
    "conf = config()\n",
    "torch.random.manual_seed(5)\n",
    "writer = SummaryWriter(\"runs/AugTraining_1\") #\n",
    "\n",
    "\n",
    "WD_Train = WheatDataset(conf)\n",
    "WD_Valid = WheatDataset(conf, train=False)\n",
    "WD_Train_Loader = torch.utils.data.DataLoader(WD_Train, batch_size=conf.BATH_SIZE, shuffle=True, collate_fn=collate_fn)\n",
    "WD_Valid_Loader = torch.utils.data.DataLoader(WD_Valid, batch_size=conf.BATH_SIZE, shuffle=True, collate_fn=collate_fn)"
   ]
  },
  {
   "cell_type": "code",
   "execution_count": 4,
   "metadata": {
    "ExecuteTime": {
     "end_time": "2020-05-20T02:36:46.749236Z",
     "start_time": "2020-05-20T02:36:46.743238Z"
    }
   },
   "outputs": [],
   "source": [
    "def get_model(num_classes=2):\n",
    "    print('New Model ')\n",
    "    model = torchvision.models.detection.fasterrcnn_resnet50_fpn(pretrained=True, progress=True, pretrained_backbone=True)\n",
    "    model.roi_heads.box_predictor.cls_score = torch.nn.Linear(model.roi_heads.box_predictor.cls_score.in_features, num_classes, bias=True)\n",
    "    model.roi_heads.box_predictor.bbox_pred = torch.nn.Linear(model.roi_heads.box_predictor.bbox_pred.in_features, num_classes*4, bias=True)\n",
    "    return model"
   ]
  },
  {
   "cell_type": "code",
   "execution_count": 5,
   "metadata": {
    "ExecuteTime": {
     "end_time": "2020-05-20T02:37:02.505486Z",
     "start_time": "2020-05-20T02:37:01.937626Z"
    }
   },
   "outputs": [],
   "source": [
    "model_path = 'model/model_aug/GWD_EPOCH_89_SCORE_0.0000_LOSS_184.3004.pt'\n",
    "GWD_Model = torch.load(model_path) if model_path else get_model()\n",
    "GWD_Model.to(conf.DEVICE)\n",
    "EPOCH = int(model_path.split('/')[-1].split('_')[2])+1 if model_path else 0\n",
    "\n",
    "params = [p for p in GWD_Model.parameters() if p.requires_grad]\n",
    "optimizer = torch.optim.SGD(params, lr=0.0005,momentum=0.9, weight_decay=0.0005)"
   ]
  },
  {
   "cell_type": "code",
   "execution_count": 6,
   "metadata": {
    "ExecuteTime": {
     "end_time": "2020-05-20T06:01:08.986841Z",
     "start_time": "2020-05-20T02:37:51.257732Z"
    },
    "scrolled": true
   },
   "outputs": [
    {
     "data": {
      "application/vnd.jupyter.widget-view+json": {
       "model_id": "1393d5de13834e17a015469b5eef0e5b",
       "version_major": 2,
       "version_minor": 0
      },
      "text/plain": [
       "HBox(children=(IntProgress(value=0, max=10), HTML(value='')))"
      ]
     },
     "metadata": {},
     "output_type": "display_data"
    },
    {
     "data": {
      "application/vnd.jupyter.widget-view+json": {
       "model_id": "bd2d0d613503453dad5673070907ad86",
       "version_major": 2,
       "version_minor": 0
      },
      "text/plain": [
       "HBox(children=(IntProgress(value=0, max=338), HTML(value='')))"
      ]
     },
     "metadata": {},
     "output_type": "display_data"
    },
    {
     "name": "stderr",
     "output_type": "stream",
     "text": [
      "C:\\ProgramData\\Anaconda3\\lib\\site-packages\\torch\\nn\\functional.py:2854: UserWarning: The default behavior for interpolate/upsample with float scale_factor will change in 1.6.0 to align with other frameworks/libraries, and use scale_factor directly, instead of relying on the computed output size. If you wish to keep the old behavior, please set recompute_scale_factor=True. See the documentation of nn.Upsample for details. \n",
      "  warnings.warn(\"The default behavior for interpolate/upsample with float scale_factor will change \"\n",
      "..\\torch\\csrc\\utils\\python_arg_parser.cpp:756: UserWarning: This overload of nonzero is deprecated:\n",
      "\tnonzero(Tensor input, *, Tensor out)\n",
      "Consider using one of the following signatures instead:\n",
      "\tnonzero(Tensor input, *, bool as_tuple)\n"
     ]
    },
    {
     "name": "stdout",
     "output_type": "stream",
     "text": [
      "Some weird shape error due to blank images, but handeled\n",
      "Some weird shape error due to blank images, but handeled\n",
      "Some weird shape error due to blank images, but handeled\n",
      "\n"
     ]
    },
    {
     "data": {
      "application/vnd.jupyter.widget-view+json": {
       "model_id": "28ffb53e20214a70814efdc850d1040d",
       "version_major": 2,
       "version_minor": 0
      },
      "text/plain": [
       "HBox(children=(IntProgress(value=0, max=338), HTML(value='')))"
      ]
     },
     "metadata": {},
     "output_type": "display_data"
    },
    {
     "name": "stdout",
     "output_type": "stream",
     "text": [
      "Some weird shape error due to blank images, but handeled\n",
      "Some weird shape error due to blank images, but handeled\n",
      "Some weird shape error due to blank images, but handeled\n",
      "Some weird shape error due to blank images, but handeled\n",
      "Some weird shape error due to blank images, but handeled\n",
      "\n"
     ]
    },
    {
     "data": {
      "application/vnd.jupyter.widget-view+json": {
       "model_id": "b581853d18fa4e6e9a95bcaf7546eea1",
       "version_major": 2,
       "version_minor": 0
      },
      "text/plain": [
       "HBox(children=(IntProgress(value=0, max=338), HTML(value='')))"
      ]
     },
     "metadata": {},
     "output_type": "display_data"
    },
    {
     "name": "stdout",
     "output_type": "stream",
     "text": [
      "Some weird shape error due to blank images, but handeled\n",
      "Some weird shape error due to blank images, but handeled\n",
      "Some weird shape error due to blank images, but handeled\n",
      "Some weird shape error due to blank images, but handeled\n",
      "\n"
     ]
    },
    {
     "data": {
      "application/vnd.jupyter.widget-view+json": {
       "model_id": "c05c6a3b69af4281984dfeb62810c70c",
       "version_major": 2,
       "version_minor": 0
      },
      "text/plain": [
       "HBox(children=(IntProgress(value=0, max=338), HTML(value='')))"
      ]
     },
     "metadata": {},
     "output_type": "display_data"
    },
    {
     "name": "stdout",
     "output_type": "stream",
     "text": [
      "Some weird shape error due to blank images, but handeled\n",
      "Some weird shape error due to blank images, but handeled\n",
      "Some weird shape error due to blank images, but handeled\n",
      "Some weird shape error due to blank images, but handeled\n",
      "\n"
     ]
    },
    {
     "data": {
      "application/vnd.jupyter.widget-view+json": {
       "model_id": "318d63c43d42426b9a12493d4b208075",
       "version_major": 2,
       "version_minor": 0
      },
      "text/plain": [
       "HBox(children=(IntProgress(value=0, max=338), HTML(value='')))"
      ]
     },
     "metadata": {},
     "output_type": "display_data"
    },
    {
     "name": "stdout",
     "output_type": "stream",
     "text": [
      "Some weird shape error due to blank images, but handeled\n",
      "Some weird shape error due to blank images, but handeled\n",
      "Some weird shape error due to blank images, but handeled\n",
      "\n"
     ]
    },
    {
     "data": {
      "application/vnd.jupyter.widget-view+json": {
       "model_id": "c674f014a9e04f20b8f32637379cad06",
       "version_major": 2,
       "version_minor": 0
      },
      "text/plain": [
       "HBox(children=(IntProgress(value=0, max=338), HTML(value='')))"
      ]
     },
     "metadata": {},
     "output_type": "display_data"
    },
    {
     "name": "stdout",
     "output_type": "stream",
     "text": [
      "Some weird shape error due to blank images, but handeled\n",
      "Some weird shape error due to blank images, but handeled\n",
      "Some weird shape error due to blank images, but handeled\n",
      "\n"
     ]
    },
    {
     "data": {
      "application/vnd.jupyter.widget-view+json": {
       "model_id": "0051a6963d8c42d68cd7f6a1a5ec5f02",
       "version_major": 2,
       "version_minor": 0
      },
      "text/plain": [
       "HBox(children=(IntProgress(value=0, max=338), HTML(value='')))"
      ]
     },
     "metadata": {},
     "output_type": "display_data"
    },
    {
     "name": "stdout",
     "output_type": "stream",
     "text": [
      "Some weird shape error due to blank images, but handeled\n",
      "Some weird shape error due to blank images, but handeled\n",
      "Some weird shape error due to blank images, but handeled\n",
      "\n"
     ]
    },
    {
     "data": {
      "application/vnd.jupyter.widget-view+json": {
       "model_id": "3cccc5e468004133b0c162781933fb9b",
       "version_major": 2,
       "version_minor": 0
      },
      "text/plain": [
       "HBox(children=(IntProgress(value=0, max=338), HTML(value='')))"
      ]
     },
     "metadata": {},
     "output_type": "display_data"
    },
    {
     "name": "stdout",
     "output_type": "stream",
     "text": [
      "Some weird shape error due to blank images, but handeled\n",
      "Some weird shape error due to blank images, but handeled\n",
      "Some weird shape error due to blank images, but handeled\n",
      "Some weird shape error due to blank images, but handeled\n",
      "\n"
     ]
    },
    {
     "data": {
      "application/vnd.jupyter.widget-view+json": {
       "model_id": "25d56be5042c4d0095c983226a2e89c5",
       "version_major": 2,
       "version_minor": 0
      },
      "text/plain": [
       "HBox(children=(IntProgress(value=0, max=338), HTML(value='')))"
      ]
     },
     "metadata": {},
     "output_type": "display_data"
    },
    {
     "name": "stdout",
     "output_type": "stream",
     "text": [
      "Some weird shape error due to blank images, but handeled\n",
      "Some weird shape error due to blank images, but handeled\n",
      "Some weird shape error due to blank images, but handeled\n",
      "Some weird shape error due to blank images, but handeled\n",
      "Some weird shape error due to blank images, but handeled\n",
      "Some weird shape error due to blank images, but handeled\n",
      "\n"
     ]
    },
    {
     "data": {
      "application/vnd.jupyter.widget-view+json": {
       "model_id": "05cb50207b1c40f5a27d6b0db78a5b86",
       "version_major": 2,
       "version_minor": 0
      },
      "text/plain": [
       "HBox(children=(IntProgress(value=0, max=338), HTML(value='')))"
      ]
     },
     "metadata": {},
     "output_type": "display_data"
    },
    {
     "name": "stdout",
     "output_type": "stream",
     "text": [
      "Some weird shape error due to blank images, but handeled\n",
      "Some weird shape error due to blank images, but handeled\n",
      "\n",
      "\n"
     ]
    }
   ],
   "source": [
    "_iter=len(WD_Train_Loader)*(EPOCH)\n",
    "\n",
    "for i in tqdm_notebook(range(EPOCH, 100, 1)):\n",
    "    \n",
    "    _epoch_loss=0\n",
    "    _ = GWD_Model.train()\n",
    "    for images, targets in tqdm_notebook(WD_Train_Loader):\n",
    "        \n",
    "        #if not is_contain_blanks(targets):\n",
    "        try:\n",
    "            images = [torch.tensor(image, dtype = torch.float32).to(conf.DEVICE) for image in images]\n",
    "            targets = [{k: torch.tensor(v).to(conf.DEVICE) for k, v in target.items()} for target in targets]\n",
    "\n",
    "            loss_dictionary = GWD_Model(images,targets)\n",
    "            summed_loss = sum(loss for loss in loss_dictionary.values())\n",
    "            summed_loss_value = summed_loss.item()\n",
    "\n",
    "\n",
    "            if math.isfinite(summed_loss_value):\n",
    "                optimizer.zero_grad()\n",
    "                summed_loss.backward()\n",
    "                optimizer.step()\n",
    "                _epoch_loss+=summed_loss_value\n",
    "\n",
    "            else:\n",
    "                print('Loss is undefined:',summed_loss_value,'   skipping BackProp for step no:',_iter)\n",
    "                print(loss_dictionary)\n",
    "\n",
    "\n",
    "            writer.add_scalar('Running Loss/Summed', summed_loss_value, _iter)\n",
    "            writer.add_scalar('Running Loss/Classifier', loss_dictionary['loss_classifier'].item(), _iter)\n",
    "            writer.add_scalar('Running Loss/Box_Regress', loss_dictionary['loss_box_reg'].item(), _iter)\n",
    "            writer.add_scalar('Running Loss/Objectness', loss_dictionary['loss_objectness'].item(), _iter)\n",
    "            writer.add_scalar('Running Loss/RPN_Box_regress', loss_dictionary['loss_rpn_box_reg'].item(), _iter)\n",
    "            \n",
    "        except:\n",
    "            print('Some weird shape error due to blank images, but handeled')\n",
    "        \n",
    "        _iter+=1\n",
    "        \n",
    "    torch.save(GWD_Model, 'model/model_aug/'+get_model_name(i, 0, _epoch_loss))\n",
    "    torch.cuda.empty_cache()\n",
    "    gc.collect()"
   ]
  },
  {
   "cell_type": "code",
   "execution_count": null,
   "metadata": {},
   "outputs": [],
   "source": []
  }
 ],
 "metadata": {
  "kernelspec": {
   "display_name": "Python 3",
   "language": "python",
   "name": "python3"
  },
  "toc": {
   "base_numbering": 1,
   "nav_menu": {},
   "number_sections": true,
   "sideBar": true,
   "skip_h1_title": false,
   "title_cell": "Table of Contents",
   "title_sidebar": "Contents",
   "toc_cell": false,
   "toc_position": {},
   "toc_section_display": true,
   "toc_window_display": false
  },
  "varInspector": {
   "cols": {
    "lenName": 16,
    "lenType": 16,
    "lenVar": 40
   },
   "kernels_config": {
    "python": {
     "delete_cmd_postfix": "",
     "delete_cmd_prefix": "del ",
     "library": "var_list.py",
     "varRefreshCmd": "print(var_dic_list())"
    },
    "r": {
     "delete_cmd_postfix": ") ",
     "delete_cmd_prefix": "rm(",
     "library": "var_list.r",
     "varRefreshCmd": "cat(var_dic_list()) "
    }
   },
   "types_to_exclude": [
    "module",
    "function",
    "builtin_function_or_method",
    "instance",
    "_Feature"
   ],
   "window_display": false
  }
 },
 "nbformat": 4,
 "nbformat_minor": 2
}
