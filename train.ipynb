{
 "cells": [
  {
   "cell_type": "code",
   "execution_count": 1,
   "metadata": {
    "ExecuteTime": {
     "end_time": "2020-05-13T01:04:07.009199Z",
     "start_time": "2020-05-13T01:04:02.563916Z"
    }
   },
   "outputs": [],
   "source": [
    "import torch\n",
    "import torchvision\n",
    "import math\n",
    "import pandas as pd\n",
    "import numpy as np\n",
    "import gc\n",
    "from tqdm import tqdm_notebook\n",
    "from torch.utils.tensorboard import SummaryWriter\n",
    "\n",
    "\n",
    "from GWD_data import WheatDataset\n",
    "from metric import calculate_image_precision\n",
    "from utils import collate_fn, plot_boxes, get_model_name, format_prediction_string, remove_blanks, is_contain_blanks\n",
    "from config import config\n"
   ]
  },
  {
   "cell_type": "code",
   "execution_count": 2,
   "metadata": {
    "ExecuteTime": {
     "end_time": "2020-05-13T01:04:07.653174Z",
     "start_time": "2020-05-13T01:04:07.143335Z"
    }
   },
   "outputs": [],
   "source": [
    "conf = config()\n",
    "torch.random.manual_seed(5)\n",
    "writer = SummaryWriter(\"runs/May11_23-57-42_DESKTOP-ELPLUSQ\") #\n",
    "\n",
    "\n",
    "WD_Train = WheatDataset(conf)\n",
    "WD_Valid = WheatDataset(conf, train=False)\n",
    "WD_Train_Loader = torch.utils.data.DataLoader(WD_Train, batch_size=conf.BATH_SIZE, shuffle=True, collate_fn=collate_fn)\n",
    "WD_Valid_Loader = torch.utils.data.DataLoader(WD_Valid, batch_size=conf.BATH_SIZE, shuffle=True, collate_fn=collate_fn)"
   ]
  },
  {
   "cell_type": "code",
   "execution_count": 3,
   "metadata": {
    "ExecuteTime": {
     "end_time": "2020-05-13T01:04:28.990315Z",
     "start_time": "2020-05-13T01:04:28.375117Z"
    }
   },
   "outputs": [],
   "source": [
    "model_path = 'model/GWD_EPOCH_29_SCORE_0.0000_LOSS_191.8370.pt'\n",
    "GWD_Model = torch.load(model_path) if model_path else torchvision.models.detection.fasterrcnn_resnet50_fpn(pretrained=False, progress=True, num_classes=2, pretrained_backbone=True)\n",
    "GWD_Model.to(conf.DEVICE)\n",
    "EPOCH = int(model_path.split('/')[-1].split('_')[2])+1 if model_path else 0\n",
    "\n",
    "params = [p for p in GWD_Model.parameters() if p.requires_grad]\n",
    "optimizer = torch.optim.SGD(params, lr=0.0035, momentum=0.9, weight_decay=0.0005)"
   ]
  },
  {
   "cell_type": "code",
   "execution_count": 4,
   "metadata": {
    "ExecuteTime": {
     "end_time": "2020-05-13T05:58:02.052751Z",
     "start_time": "2020-05-13T01:05:18.260074Z"
    },
    "scrolled": false
   },
   "outputs": [
    {
     "data": {
      "application/vnd.jupyter.widget-view+json": {
       "model_id": "8bca115d003b4a778c6676514c68440d",
       "version_major": 2,
       "version_minor": 0
      },
      "text/plain": [
       "HBox(children=(IntProgress(value=0, max=20), HTML(value='')))"
      ]
     },
     "metadata": {},
     "output_type": "display_data"
    },
    {
     "data": {
      "application/vnd.jupyter.widget-view+json": {
       "model_id": "e2b058e8aa0b49e4a1af40a891d333f6",
       "version_major": 2,
       "version_minor": 0
      },
      "text/plain": [
       "HBox(children=(IntProgress(value=0, max=338), HTML(value='')))"
      ]
     },
     "metadata": {},
     "output_type": "display_data"
    },
    {
     "name": "stderr",
     "output_type": "stream",
     "text": [
      "C:\\ProgramData\\Anaconda3\\lib\\site-packages\\torch\\nn\\functional.py:2854: UserWarning: The default behavior for interpolate/upsample with float scale_factor will change in 1.6.0 to align with other frameworks/libraries, and use scale_factor directly, instead of relying on the computed output size. If you wish to keep the old behavior, please set recompute_scale_factor=True. See the documentation of nn.Upsample for details. \n",
      "  warnings.warn(\"The default behavior for interpolate/upsample with float scale_factor will change \"\n",
      "..\\torch\\csrc\\utils\\python_arg_parser.cpp:756: UserWarning: This overload of nonzero is deprecated:\n",
      "\tnonzero(Tensor input, *, Tensor out)\n",
      "Consider using one of the following signatures instead:\n",
      "\tnonzero(Tensor input, *, bool as_tuple)\n"
     ]
    },
    {
     "name": "stdout",
     "output_type": "stream",
     "text": [
      "Some weird shape error due to blank images, but handeled\n",
      "Some weird shape error due to blank images, but handeled\n",
      "Some weird shape error due to blank images, but handeled\n",
      "\n"
     ]
    },
    {
     "data": {
      "application/vnd.jupyter.widget-view+json": {
       "model_id": "41cacffcf36a47e19d57866e945915e3",
       "version_major": 2,
       "version_minor": 0
      },
      "text/plain": [
       "HBox(children=(IntProgress(value=0, max=338), HTML(value='')))"
      ]
     },
     "metadata": {},
     "output_type": "display_data"
    },
    {
     "name": "stdout",
     "output_type": "stream",
     "text": [
      "Some weird shape error due to blank images, but handeled\n",
      "\n"
     ]
    },
    {
     "data": {
      "application/vnd.jupyter.widget-view+json": {
       "model_id": "095dfb355d764dce9f13678f56044dbf",
       "version_major": 2,
       "version_minor": 0
      },
      "text/plain": [
       "HBox(children=(IntProgress(value=0, max=338), HTML(value='')))"
      ]
     },
     "metadata": {},
     "output_type": "display_data"
    },
    {
     "name": "stdout",
     "output_type": "stream",
     "text": [
      "Some weird shape error due to blank images, but handeled\n",
      "Some weird shape error due to blank images, but handeled\n",
      "Some weird shape error due to blank images, but handeled\n",
      "\n"
     ]
    },
    {
     "data": {
      "application/vnd.jupyter.widget-view+json": {
       "model_id": "8af925e1e2d74d66a3c05f32f4b9fc22",
       "version_major": 2,
       "version_minor": 0
      },
      "text/plain": [
       "HBox(children=(IntProgress(value=0, max=338), HTML(value='')))"
      ]
     },
     "metadata": {},
     "output_type": "display_data"
    },
    {
     "name": "stdout",
     "output_type": "stream",
     "text": [
      "Some weird shape error due to blank images, but handeled\n",
      "Some weird shape error due to blank images, but handeled\n",
      "Some weird shape error due to blank images, but handeled\n",
      "Some weird shape error due to blank images, but handeled\n",
      "\n"
     ]
    },
    {
     "data": {
      "application/vnd.jupyter.widget-view+json": {
       "model_id": "ff73ef651b0d434eac097f10b0cf6811",
       "version_major": 2,
       "version_minor": 0
      },
      "text/plain": [
       "HBox(children=(IntProgress(value=0, max=338), HTML(value='')))"
      ]
     },
     "metadata": {},
     "output_type": "display_data"
    },
    {
     "name": "stdout",
     "output_type": "stream",
     "text": [
      "Some weird shape error due to blank images, but handeled\n",
      "Some weird shape error due to blank images, but handeled\n",
      "Some weird shape error due to blank images, but handeled\n",
      "\n"
     ]
    },
    {
     "data": {
      "application/vnd.jupyter.widget-view+json": {
       "model_id": "9204d81728364bfdadb8dcdabf784d0b",
       "version_major": 2,
       "version_minor": 0
      },
      "text/plain": [
       "HBox(children=(IntProgress(value=0, max=338), HTML(value='')))"
      ]
     },
     "metadata": {},
     "output_type": "display_data"
    },
    {
     "name": "stdout",
     "output_type": "stream",
     "text": [
      "Some weird shape error due to blank images, but handeled\n",
      "Some weird shape error due to blank images, but handeled\n",
      "\n"
     ]
    },
    {
     "data": {
      "application/vnd.jupyter.widget-view+json": {
       "model_id": "5297d36547924e64926fd9b96bfc46ad",
       "version_major": 2,
       "version_minor": 0
      },
      "text/plain": [
       "HBox(children=(IntProgress(value=0, max=338), HTML(value='')))"
      ]
     },
     "metadata": {},
     "output_type": "display_data"
    },
    {
     "name": "stdout",
     "output_type": "stream",
     "text": [
      "\n"
     ]
    },
    {
     "data": {
      "application/vnd.jupyter.widget-view+json": {
       "model_id": "d4265f2b7e2e4ecc939a5ab5d6ce6b80",
       "version_major": 2,
       "version_minor": 0
      },
      "text/plain": [
       "HBox(children=(IntProgress(value=0, max=338), HTML(value='')))"
      ]
     },
     "metadata": {},
     "output_type": "display_data"
    },
    {
     "name": "stdout",
     "output_type": "stream",
     "text": [
      "Some weird shape error due to blank images, but handeled\n",
      "Some weird shape error due to blank images, but handeled\n",
      "Some weird shape error due to blank images, but handeled\n",
      "Some weird shape error due to blank images, but handeled\n",
      "\n"
     ]
    },
    {
     "data": {
      "application/vnd.jupyter.widget-view+json": {
       "model_id": "3c5fa6eb95024f5a8f583c99affd93d5",
       "version_major": 2,
       "version_minor": 0
      },
      "text/plain": [
       "HBox(children=(IntProgress(value=0, max=338), HTML(value='')))"
      ]
     },
     "metadata": {},
     "output_type": "display_data"
    },
    {
     "name": "stdout",
     "output_type": "stream",
     "text": [
      "Some weird shape error due to blank images, but handeled\n",
      "Some weird shape error due to blank images, but handeled\n",
      "Some weird shape error due to blank images, but handeled\n",
      "Some weird shape error due to blank images, but handeled\n",
      "Some weird shape error due to blank images, but handeled\n",
      "\n"
     ]
    },
    {
     "data": {
      "application/vnd.jupyter.widget-view+json": {
       "model_id": "86d51f47d16a407086585b53ecfc640d",
       "version_major": 2,
       "version_minor": 0
      },
      "text/plain": [
       "HBox(children=(IntProgress(value=0, max=338), HTML(value='')))"
      ]
     },
     "metadata": {},
     "output_type": "display_data"
    },
    {
     "name": "stdout",
     "output_type": "stream",
     "text": [
      "Some weird shape error due to blank images, but handeled\n",
      "Some weird shape error due to blank images, but handeled\n",
      "Some weird shape error due to blank images, but handeled\n",
      "Some weird shape error due to blank images, but handeled\n",
      "\n"
     ]
    },
    {
     "data": {
      "application/vnd.jupyter.widget-view+json": {
       "model_id": "f42714b25b5e4cbf9d6a483bc941134c",
       "version_major": 2,
       "version_minor": 0
      },
      "text/plain": [
       "HBox(children=(IntProgress(value=0, max=338), HTML(value='')))"
      ]
     },
     "metadata": {},
     "output_type": "display_data"
    },
    {
     "name": "stdout",
     "output_type": "stream",
     "text": [
      "Some weird shape error due to blank images, but handeled\n",
      "\n"
     ]
    },
    {
     "data": {
      "application/vnd.jupyter.widget-view+json": {
       "model_id": "f5fc5de3ee684500b410162d261d54fe",
       "version_major": 2,
       "version_minor": 0
      },
      "text/plain": [
       "HBox(children=(IntProgress(value=0, max=338), HTML(value='')))"
      ]
     },
     "metadata": {},
     "output_type": "display_data"
    },
    {
     "name": "stdout",
     "output_type": "stream",
     "text": [
      "Some weird shape error due to blank images, but handeled\n",
      "Some weird shape error due to blank images, but handeled\n",
      "Some weird shape error due to blank images, but handeled\n",
      "Some weird shape error due to blank images, but handeled\n",
      "Some weird shape error due to blank images, but handeled\n",
      "Some weird shape error due to blank images, but handeled\n",
      "\n"
     ]
    },
    {
     "data": {
      "application/vnd.jupyter.widget-view+json": {
       "model_id": "5a87e95c91594e2b815e1419e579f4cf",
       "version_major": 2,
       "version_minor": 0
      },
      "text/plain": [
       "HBox(children=(IntProgress(value=0, max=338), HTML(value='')))"
      ]
     },
     "metadata": {},
     "output_type": "display_data"
    },
    {
     "name": "stdout",
     "output_type": "stream",
     "text": [
      "Some weird shape error due to blank images, but handeled\n",
      "Some weird shape error due to blank images, but handeled\n",
      "Some weird shape error due to blank images, but handeled\n",
      "Some weird shape error due to blank images, but handeled\n",
      "Some weird shape error due to blank images, but handeled\n",
      "\n"
     ]
    },
    {
     "data": {
      "application/vnd.jupyter.widget-view+json": {
       "model_id": "0b8de63f3f8947948f67c507a91a8ecf",
       "version_major": 2,
       "version_minor": 0
      },
      "text/plain": [
       "HBox(children=(IntProgress(value=0, max=338), HTML(value='')))"
      ]
     },
     "metadata": {},
     "output_type": "display_data"
    },
    {
     "name": "stdout",
     "output_type": "stream",
     "text": [
      "Some weird shape error due to blank images, but handeled\n",
      "Some weird shape error due to blank images, but handeled\n",
      "Some weird shape error due to blank images, but handeled\n",
      "Some weird shape error due to blank images, but handeled\n",
      "Some weird shape error due to blank images, but handeled\n",
      "\n"
     ]
    },
    {
     "data": {
      "application/vnd.jupyter.widget-view+json": {
       "model_id": "5fed71e3c6e34c799bcc122d8c0de005",
       "version_major": 2,
       "version_minor": 0
      },
      "text/plain": [
       "HBox(children=(IntProgress(value=0, max=338), HTML(value='')))"
      ]
     },
     "metadata": {},
     "output_type": "display_data"
    },
    {
     "name": "stdout",
     "output_type": "stream",
     "text": [
      "Some weird shape error due to blank images, but handeled\n",
      "Some weird shape error due to blank images, but handeled\n",
      "\n"
     ]
    },
    {
     "data": {
      "application/vnd.jupyter.widget-view+json": {
       "model_id": "4f5194ff530f462f969cad99e81387e4",
       "version_major": 2,
       "version_minor": 0
      },
      "text/plain": [
       "HBox(children=(IntProgress(value=0, max=338), HTML(value='')))"
      ]
     },
     "metadata": {},
     "output_type": "display_data"
    },
    {
     "name": "stdout",
     "output_type": "stream",
     "text": [
      "Some weird shape error due to blank images, but handeled\n",
      "Some weird shape error due to blank images, but handeled\n",
      "Some weird shape error due to blank images, but handeled\n",
      "\n"
     ]
    },
    {
     "data": {
      "application/vnd.jupyter.widget-view+json": {
       "model_id": "64e0cc97466b4005a8ee4346cabe3b5f",
       "version_major": 2,
       "version_minor": 0
      },
      "text/plain": [
       "HBox(children=(IntProgress(value=0, max=338), HTML(value='')))"
      ]
     },
     "metadata": {},
     "output_type": "display_data"
    },
    {
     "name": "stdout",
     "output_type": "stream",
     "text": [
      "Some weird shape error due to blank images, but handeled\n",
      "\n"
     ]
    },
    {
     "data": {
      "application/vnd.jupyter.widget-view+json": {
       "model_id": "af9e72d305ca478b9891ca5dc35ce225",
       "version_major": 2,
       "version_minor": 0
      },
      "text/plain": [
       "HBox(children=(IntProgress(value=0, max=338), HTML(value='')))"
      ]
     },
     "metadata": {},
     "output_type": "display_data"
    },
    {
     "name": "stdout",
     "output_type": "stream",
     "text": [
      "Some weird shape error due to blank images, but handeled\n",
      "Some weird shape error due to blank images, but handeled\n",
      "Some weird shape error due to blank images, but handeled\n",
      "Some weird shape error due to blank images, but handeled\n",
      "Some weird shape error due to blank images, but handeled\n",
      "\n"
     ]
    },
    {
     "data": {
      "application/vnd.jupyter.widget-view+json": {
       "model_id": "9c31024475654bb1acadd53b8d127372",
       "version_major": 2,
       "version_minor": 0
      },
      "text/plain": [
       "HBox(children=(IntProgress(value=0, max=338), HTML(value='')))"
      ]
     },
     "metadata": {},
     "output_type": "display_data"
    },
    {
     "name": "stdout",
     "output_type": "stream",
     "text": [
      "Some weird shape error due to blank images, but handeled\n",
      "Some weird shape error due to blank images, but handeled\n",
      "Some weird shape error due to blank images, but handeled\n",
      "\n"
     ]
    },
    {
     "data": {
      "application/vnd.jupyter.widget-view+json": {
       "model_id": "4fcb735caf4d4d068448de2b40138c19",
       "version_major": 2,
       "version_minor": 0
      },
      "text/plain": [
       "HBox(children=(IntProgress(value=0, max=338), HTML(value='')))"
      ]
     },
     "metadata": {},
     "output_type": "display_data"
    },
    {
     "name": "stdout",
     "output_type": "stream",
     "text": [
      "Some weird shape error due to blank images, but handeled\n",
      "\n",
      "\n"
     ]
    }
   ],
   "source": [
    "_iter=len(WD_Train_Loader)*(EPOCH)\n",
    "\n",
    "for i in tqdm_notebook(range(EPOCH, 50, 1)):\n",
    "    \n",
    "    _epoch_loss=0\n",
    "    _ = GWD_Model.train()\n",
    "    for images, targets in tqdm_notebook(WD_Train_Loader):\n",
    "        \n",
    "        #if not is_contain_blanks(targets):\n",
    "        try:\n",
    "            images = [torch.tensor(image, dtype = torch.float32).to(conf.DEVICE) for image in images]\n",
    "            targets = [{k: torch.tensor(v).to(conf.DEVICE) for k, v in target.items()} for target in targets]\n",
    "\n",
    "            loss_dictionary = GWD_Model(images,targets)\n",
    "            summed_loss = sum(loss for loss in loss_dictionary.values())\n",
    "            summed_loss_value = summed_loss.item()\n",
    "\n",
    "\n",
    "            if math.isfinite(summed_loss_value):\n",
    "                optimizer.zero_grad()\n",
    "                summed_loss.backward()\n",
    "                optimizer.step()\n",
    "                _epoch_loss+=summed_loss_value\n",
    "\n",
    "            else:\n",
    "                print('Loss is undefined:',summed_loss_value,'   skipping BackProp for step no:',_iter)\n",
    "                print(loss_dictionary)\n",
    "\n",
    "\n",
    "            writer.add_scalar('Running Loss/Summed', summed_loss_value, _iter)\n",
    "            writer.add_scalar('Running Loss/Classifier', loss_dictionary['loss_classifier'].item(), _iter)\n",
    "            writer.add_scalar('Running Loss/Box_Regress', loss_dictionary['loss_box_reg'].item(), _iter)\n",
    "            writer.add_scalar('Running Loss/Objectness', loss_dictionary['loss_objectness'].item(), _iter)\n",
    "            writer.add_scalar('Running Loss/RPN_Box_regress', loss_dictionary['loss_rpn_box_reg'].item(), _iter)\n",
    "            \n",
    "        except:\n",
    "            print('Some weird shape error due to blank images, but handeled')\n",
    "        \n",
    "        _iter+=1\n",
    "        \n",
    "    torch.save(GWD_Model, 'model/'+get_model_name(i, 0, _epoch_loss))\n",
    "    torch.cuda.empty_cache()\n",
    "    gc.collect()"
   ]
  },
  {
   "cell_type": "code",
   "execution_count": null,
   "metadata": {},
   "outputs": [],
   "source": []
  }
 ],
 "metadata": {
  "kernelspec": {
   "display_name": "Python 3",
   "language": "python",
   "name": "python3"
  },
  "language_info": {
   "codemirror_mode": {
    "name": "ipython",
    "version": 3
   },
   "file_extension": ".py",
   "mimetype": "text/x-python",
   "name": "python",
   "nbconvert_exporter": "python",
   "pygments_lexer": "ipython3",
   "version": "3.7.4"
  },
  "toc": {
   "base_numbering": 1,
   "nav_menu": {},
   "number_sections": true,
   "sideBar": true,
   "skip_h1_title": false,
   "title_cell": "Table of Contents",
   "title_sidebar": "Contents",
   "toc_cell": false,
   "toc_position": {},
   "toc_section_display": true,
   "toc_window_display": false
  },
  "varInspector": {
   "cols": {
    "lenName": 16,
    "lenType": 16,
    "lenVar": 40
   },
   "kernels_config": {
    "python": {
     "delete_cmd_postfix": "",
     "delete_cmd_prefix": "del ",
     "library": "var_list.py",
     "varRefreshCmd": "print(var_dic_list())"
    },
    "r": {
     "delete_cmd_postfix": ") ",
     "delete_cmd_prefix": "rm(",
     "library": "var_list.r",
     "varRefreshCmd": "cat(var_dic_list()) "
    }
   },
   "types_to_exclude": [
    "module",
    "function",
    "builtin_function_or_method",
    "instance",
    "_Feature"
   ],
   "window_display": false
  }
 },
 "nbformat": 4,
 "nbformat_minor": 2
}
