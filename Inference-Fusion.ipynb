{
 "cells": [
  {
   "cell_type": "markdown",
   "metadata": {},
   "source": [
    "# Imports"
   ]
  },
  {
   "cell_type": "markdown",
   "metadata": {},
   "source": [
    "## Globals"
   ]
  },
  {
   "cell_type": "code",
   "execution_count": 1,
   "metadata": {
    "ExecuteTime": {
     "end_time": "2020-06-29T22:14:36.716907Z",
     "start_time": "2020-06-29T22:14:35.350884Z"
    }
   },
   "outputs": [],
   "source": [
    "from torch.utils.data import DataLoader\n",
    "import gc\n",
    "import torch\n",
    "from tqdm.notebook import tqdm\n",
    "import math\n",
    "\n",
    "device = torch.device('cuda:0')"
   ]
  },
  {
   "cell_type": "markdown",
   "metadata": {},
   "source": [
    "## Inference Files"
   ]
  },
  {
   "cell_type": "code",
   "execution_count": 2,
   "metadata": {
    "ExecuteTime": {
     "end_time": "2020-06-25T00:00:07.466723Z",
     "start_time": "2020-06-25T00:00:05.622312Z"
    }
   },
   "outputs": [],
   "source": [
    "from global_utils.weighted_boxes_fusion.ensemble_boxes import nms, soft_nms, non_maximum_weighted, weighted_boxes_fusion"
   ]
  },
  {
   "cell_type": "markdown",
   "metadata": {},
   "source": [
    "## Models"
   ]
  },
  {
   "cell_type": "markdown",
   "metadata": {},
   "source": [
    "### Faster-RCNN"
   ]
  },
  {
   "cell_type": "code",
   "execution_count": 3,
   "metadata": {
    "ExecuteTime": {
     "end_time": "2020-06-25T00:00:12.950966Z",
     "start_time": "2020-06-25T00:00:08.060531Z"
    }
   },
   "outputs": [],
   "source": [
    "from fasterrcnn.config import config as frcnn_config\n",
    "from fasterrcnn.utils.inferencefns import WheatInferenceDataset as frcnn_WheatInferenceDataset\n",
    "from fasterrcnn.utils.inferencefns import collate_fn as rcnn_collate_fn\n",
    "from fasterrcnn.model import get_model as frcnn_get_model\n",
    "\n",
    "frcnn_model_path = 'saved_weights/fasterrcnn/GWD_FASTERRCNN_0624V01_EPOCH_7_CHECKPOINT_0_SCORE_0.0000_LOSS_192.0324.pth'\n",
    "\n",
    "frcnn_conf = frcnn_config()\n",
    "frcnn_conf.DEVICE = device\n",
    "\n",
    "frcnn_model = frcnn_get_model(device, saved_weights = frcnn_model_path)\n",
    "frcnn_model.eval()\n",
    "\n",
    "WD_Inference = frcnn_WheatInferenceDataset(frcnn_conf, normalize=False)"
   ]
  },
  {
   "cell_type": "code",
   "execution_count": null,
   "metadata": {
    "ExecuteTime": {
     "end_time": "2020-06-25T00:00:27.715239Z",
     "start_time": "2020-06-25T00:00:26.864514Z"
    }
   },
   "outputs": [],
   "source": [
    "frcnn_model2_path = 'saved_weights/fasterrcnn/old/model_aug/GWD_EPOCH_109_SCORE_0.0000_LOSS_182.9017.pt'\n",
    "frcnn_model2 = torch.load(frcnn_model2_path, map_location=frcnn_conf.DEVICE)\n",
    "_ = frcnn_model2.eval()\n",
    "\n"
   ]
  },
  {
   "cell_type": "markdown",
   "metadata": {},
   "source": [
    "# Infer"
   ]
  },
  {
   "cell_type": "code",
   "execution_count": 26,
   "metadata": {
    "ExecuteTime": {
     "end_time": "2020-06-25T00:17:50.164325Z",
     "start_time": "2020-06-25T00:17:47.296243Z"
    }
   },
   "outputs": [],
   "source": [
    "models = [frcnn_model , frcnn_model2]\n",
    "all_outputs = {idx:[] for idx in WD_Inference.IMGS}\n",
    "\n",
    "for i in range(len(WD_Inference)):\n",
    "    \n",
    "    idx, image = WD_Inference[i]\n",
    "    image = torch.tensor(image).to(device)\n",
    "    \n",
    "    for model in models:\n",
    "        results = model([image])\n",
    "        results = [{k: v.to(torch.device('cpu')).detach().numpy() for k, v in result.items()} for result in results]\n",
    "        all_outputs[idx].append(results[0])\n",
    "    \n"
   ]
  },
  {
   "cell_type": "markdown",
   "metadata": {},
   "source": [
    "# Fuse"
   ]
  },
  {
   "cell_type": "code",
   "execution_count": 34,
   "metadata": {
    "ExecuteTime": {
     "end_time": "2020-06-25T00:28:55.135154Z",
     "start_time": "2020-06-25T00:28:55.027186Z"
    }
   },
   "outputs": [],
   "source": [
    "fused_outputs = {idx:[] for idx in WD_Inference.IMGS}\n",
    "for image in WD_Inference.IMGS:\n",
    "    boxes=[]\n",
    "    scores = []\n",
    "    labels=[]\n",
    "    \n",
    "    for i in range(len(models)):\n",
    "        boxes.append(all_outputs[image][i]['boxes']/1024)\n",
    "        scores.append(all_outputs[image][i]['scores'])\n",
    "        labels.append(all_outputs[image][i]['labels'])   \n",
    "    \n",
    "    b, s, l = weighted_boxes_fusion(boxes, scores, labels, weights=[1.5, 1], iou_thr=0.50, skip_box_thr=0.1)\n",
    "    fused_outputs[image].append({'boxes': b*1024, 'scores':s, 'labels':l})"
   ]
  },
  {
   "cell_type": "markdown",
   "metadata": {},
   "source": [
    "# Output Test"
   ]
  },
  {
   "cell_type": "code",
   "execution_count": 38,
   "metadata": {
    "ExecuteTime": {
     "end_time": "2020-06-25T00:35:26.208518Z",
     "start_time": "2020-06-25T00:35:26.017580Z"
    }
   },
   "outputs": [],
   "source": [
    "import cv2\n",
    "import matplotlib.pyplot as plt\n",
    "def plot_boxes(img, boxes, scores):\n",
    "    img = np.array(np.moveaxis(img, 0, -1)*255, dtype=np.int16)\n",
    "    print(len(boxes))\n",
    "    #img-=np.min(img)\n",
    "    #img = img/np.max(img)\n",
    "    thickness = 2\n",
    "    font = cv2.FONT_HERSHEY_SIMPLEX \n",
    "    fontScale = 1\n",
    "    color = (255, 0, 0)\n",
    "    for (b, s) in zip(boxes, scores):\n",
    "        img = cv2.rectangle(img, (b[0],b[1]), (b[2],b[3]), (255,0,0), 2)\n",
    "        img = cv2.putText(img, '{:.2}'.format(s), (int(b[0])+np.random.randint(3),int(b[1])), font, fontScale, color, thickness, cv2.LINE_AA)\n",
    "    return img"
   ]
  },
  {
   "cell_type": "code",
   "execution_count": 39,
   "metadata": {
    "ExecuteTime": {
     "end_time": "2020-06-25T00:35:30.346193Z",
     "start_time": "2020-06-25T00:35:29.814362Z"
    }
   },
   "outputs": [],
   "source": [
    "images = [image[1] for image in WD_Inference]"
   ]
  },
  {
   "cell_type": "code",
   "execution_count": null,
   "metadata": {
    "ExecuteTime": {
     "end_time": "2020-06-25T00:39:29.791823Z",
     "start_time": "2020-06-25T00:39:18.678379Z"
    },
    "scrolled": false
   },
   "outputs": [],
   "source": [
    "thresh=0.4\n",
    "\n",
    "i=0\n",
    "for img_id in WD_Inference.IMGS:\n",
    "    \n",
    "    fig = plt.figure(figsize=(25, 10))\n",
    "    \n",
    "    try:\n",
    "        b__ = all_outputs[img_id][0]['boxes'][:np.argwhere(all_outputs[img_id][0]['scores']<thresh)[0][0]]\n",
    "    except:\n",
    "        b__ = all_outputs[img_id][0]['boxes']\n",
    "        \n",
    "    try:\n",
    "        s__ = all_outputs[img_id][0]['scores'][:np.argwhere(all_outputs[img_id][0]['scores']<thresh)[0][0]]\n",
    "    except:\n",
    "        s__ = all_outputs[img_id][0]['scores']\n",
    "    i__ = plot_boxes(images[i], b__, s__)\n",
    "    fig.add_subplot(1, 3, 1)\n",
    "    plt.imshow(i__)\n",
    "    \n",
    "    try:\n",
    "        b__ = all_outputs[img_id][1]['boxes'][:np.argwhere(all_outputs[img_id][1]['scores']<thresh)[0][0]]\n",
    "    except:\n",
    "        b__ = all_outputs[img_id][1]['boxes']\n",
    "        \n",
    "    try:\n",
    "        s__ = all_outputs[img_id][1]['scores'][:np.argwhere(all_outputs[img_id][1]['scores']<thresh)[0][0]]\n",
    "    except:\n",
    "        s__ = all_outputs[img_id][1]['scores']\n",
    "    i__ = plot_boxes(images[i], b__, s__)\n",
    "    fig.add_subplot(1, 3, 2)\n",
    "    plt.imshow(i__)\n",
    "    \n",
    "    try:\n",
    "        b__ = np.array(fused_outputs[img_id][0]['boxes'], dtype=np.float32)[:np.argwhere(fused_outputs[img_id][0]['scores']<thresh)[0][0]]\n",
    "    except:\n",
    "        b__ = np.array(fused_outputs[img_id][0]['boxes'], dtype=np.float32)\n",
    "    try:\n",
    "        s__ = np.array(fused_outputs[img_id][0]['scores'], dtype=np.float32)[:np.argwhere(fused_outputs[img_id][0]['scores']<thresh)[0][0]]\n",
    "    except:\n",
    "        s__ = np.array(fused_outputs[img_id][0]['scores'], dtype=np.float32)\n",
    "    i__ = plot_boxes(images[i], b__, s__)\n",
    "    fig.add_subplot(1, 3, 3)\n",
    "    plt.imshow(i__)\n",
    "    \n",
    "    plt.show()\n",
    "    i+=1"
   ]
  },
  {
   "cell_type": "markdown",
   "metadata": {},
   "source": [
    "# Make Output"
   ]
  },
  {
   "cell_type": "code",
   "execution_count": 46,
   "metadata": {
    "ExecuteTime": {
     "end_time": "2020-06-25T00:53:36.053178Z",
     "start_time": "2020-06-25T00:53:36.026185Z"
    }
   },
   "outputs": [
    {
     "name": "stdout",
     "output_type": "stream",
     "text": [
      "file_saved\n"
     ]
    }
   ],
   "source": [
    "from fasterrcnn.utils.inferencefns import (format_prediction_string, \n",
    "                                           make_submission_file)\n",
    "\n",
    "cut_off_thresh = 0.3\n",
    "pred_strings = []\n",
    "for image_id in WD_Inference.IMGS:\n",
    "    scores = fused_outputs[img_id][0]['scores']\n",
    "    try:\n",
    "        stop_index = np.argwhere(scores<cut_off_thresh)[0][0]\n",
    "    except:\n",
    "        stop_index=len(result['scores'])\n",
    "\n",
    "    pred_string = format_prediction_string(fused_outputs[img_id][0]['boxes'][:stop_index], scores[:stop_index])\n",
    "    pred_strings.append(pred_string)\n",
    "\n",
    "\n",
    "make_submission_file(WD_Inference.IMGS, pred_strings)"
   ]
  },
  {
   "cell_type": "code",
   "execution_count": null,
   "metadata": {},
   "outputs": [],
   "source": []
  }
 ],
 "metadata": {
  "kernelspec": {
   "display_name": "Python 3",
   "language": "python",
   "name": "python3"
  },
  "language_info": {
   "codemirror_mode": {
    "name": "ipython",
    "version": 3
   },
   "file_extension": ".py",
   "mimetype": "text/x-python",
   "name": "python",
   "nbconvert_exporter": "python",
   "pygments_lexer": "ipython3",
   "version": "3.7.4"
  },
  "toc": {
   "base_numbering": 1,
   "nav_menu": {},
   "number_sections": true,
   "sideBar": true,
   "skip_h1_title": false,
   "title_cell": "Table of Contents",
   "title_sidebar": "Contents",
   "toc_cell": false,
   "toc_position": {},
   "toc_section_display": true,
   "toc_window_display": false
  },
  "varInspector": {
   "cols": {
    "lenName": 16,
    "lenType": 16,
    "lenVar": 40
   },
   "kernels_config": {
    "python": {
     "delete_cmd_postfix": "",
     "delete_cmd_prefix": "del ",
     "library": "var_list.py",
     "varRefreshCmd": "print(var_dic_list())"
    },
    "r": {
     "delete_cmd_postfix": ") ",
     "delete_cmd_prefix": "rm(",
     "library": "var_list.r",
     "varRefreshCmd": "cat(var_dic_list()) "
    }
   },
   "types_to_exclude": [
    "module",
    "function",
    "builtin_function_or_method",
    "instance",
    "_Feature"
   ],
   "window_display": false
  }
 },
 "nbformat": 4,
 "nbformat_minor": 2
}
